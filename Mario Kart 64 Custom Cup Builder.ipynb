{
 "cells": [
  {
   "cell_type": "markdown",
   "metadata": {},
   "source": [
    "This ipython notebook allows you to create your own custom Mario Kart 64 cups.  These codes are meant to work in the USA/NTSC version of Mario Kart 64.  They should work fine in both emulators and on real hardware.\n",
    "\n",
    "Instructions:\n",
    "Click on each of the three cells below and then pressing shift+enter to run the code in them.  Once you have activated all three cells, below the final cell you will see menus for each course in all four cups.  Modify the courses in the cups however you like and then click the \"Create Code\" button.  A Gameshark code will be generated in the text box below the button."
   ]
  },
  {
   "cell_type": "code",
   "execution_count": 2,
   "metadata": {},
   "outputs": [],
   "source": [
    "#Import python libraries\n",
    "from ipywidgets import widgets, interact\n",
    "from IPython.display import display"
   ]
  },
  {
   "cell_type": "code",
   "execution_count": 3,
   "metadata": {},
   "outputs": [],
   "source": [
    "#Cup data\n",
    "ram_locations = ['0F2BB5', '0F2BB7', '0F2BB9', '0F2BBB',\n",
    "                '0F2BBD', '0F2BBF', '0F2BC1', '0F2BC3',\n",
    "                '0F2BC5', '0F2BC7', '0F2BC9', '0F2BCB',\n",
    "                '0F2BCD', '0F2BCF', '0F2BD1', '0F2BD3']\n",
    "course_default = ['Luigi Raceway', 'Moo Moo Farm', 'Koopa Troopa Beach', 'Kalamari Desert',\n",
    "                 \"Toad's Turnpike\", 'Frappe Snowland', 'Choco Mountain', 'Mario Raceway',\n",
    "                 'Wario Stadium', 'Sherbert Land','Royal Raceway',\"Bowser's Castle\",\n",
    "                 \"DK's Jungle Parkway\", 'Yoshi Valley', 'Banshee Boardwalk', 'Rainbow Road']\n",
    "course_number = [0, 1, 2, 3,\n",
    "                0, 1, 2, 3,\n",
    "                0, 1, 2, 3,\n",
    "                0, 1, 2, 3]\n",
    "cup_number = [0, 0, 0, 0,\n",
    "             1, 1, 1, 1,\n",
    "             2, 2, 2, 2,\n",
    "             3, 3, 3, 3]\n",
    "\n",
    "#Couse data\n",
    "course_name = ['Mario Raceway', 'Choco Mountain',\"Bowser's Castle\",\n",
    "               'Banshee Boardwalk', 'Yoshi Valley', 'Frappe Snowland',\n",
    "               'Koopa Troopa Beach', 'Royal Raceway', 'Luigi Raceway',\n",
    "               'Moo Moo Farm', \"Toad's Turnpike\", 'Kalamari Desert',\n",
    "               'Sherbert Land', 'Rainbow Road', 'Wario Stadium',\n",
    "               'Block Fort', 'Skyscraper', 'Double Deck',\n",
    "               \"DK's Jungle Parkway\", 'Big Donut']\n",
    "course_value = ['00', '01', '02',\n",
    "                '03', '04', '05',\n",
    "                '06', '07', '08',\n",
    "                '09', '0A', '0B',\n",
    "                '0C', '0D', '0E',\n",
    "                '0F', '10', '11',\n",
    "                '12', '13']"
   ]
  },
  {
   "cell_type": "code",
   "execution_count": 4,
   "metadata": {},
   "outputs": [
    {
     "name": "stdout",
     "output_type": "stream",
     "text": [
      "Mushroom Cup\n"
     ]
    },
    {
     "data": {
      "application/vnd.jupyter.widget-view+json": {
       "model_id": "4171facdb60f4fc4bdc6530274c66e9c",
       "version_major": 2,
       "version_minor": 0
      },
      "text/plain": [
       "Dropdown(description='Course 1', index=8, options=('Mario Raceway', 'Choco Mountain', \"Bowser's Castle\", 'Bans…"
      ]
     },
     "metadata": {},
     "output_type": "display_data"
    },
    {
     "data": {
      "application/vnd.jupyter.widget-view+json": {
       "model_id": "f477d097243644e69daabe3ecca71c12",
       "version_major": 2,
       "version_minor": 0
      },
      "text/plain": [
       "Dropdown(description='Course 2', index=9, options=('Mario Raceway', 'Choco Mountain', \"Bowser's Castle\", 'Bans…"
      ]
     },
     "metadata": {},
     "output_type": "display_data"
    },
    {
     "data": {
      "application/vnd.jupyter.widget-view+json": {
       "model_id": "ea24fc85b2d6446ca3808a4230bb14bb",
       "version_major": 2,
       "version_minor": 0
      },
      "text/plain": [
       "Dropdown(description='Course 3', index=6, options=('Mario Raceway', 'Choco Mountain', \"Bowser's Castle\", 'Bans…"
      ]
     },
     "metadata": {},
     "output_type": "display_data"
    },
    {
     "data": {
      "application/vnd.jupyter.widget-view+json": {
       "model_id": "f191c325161e4d24aade1b1991bca6b6",
       "version_major": 2,
       "version_minor": 0
      },
      "text/plain": [
       "Dropdown(description='Course 4', index=11, options=('Mario Raceway', 'Choco Mountain', \"Bowser's Castle\", 'Ban…"
      ]
     },
     "metadata": {},
     "output_type": "display_data"
    },
    {
     "name": "stdout",
     "output_type": "stream",
     "text": [
      "Flower Cup\n"
     ]
    },
    {
     "data": {
      "application/vnd.jupyter.widget-view+json": {
       "model_id": "66ec4c480ede488989b03e05c756629a",
       "version_major": 2,
       "version_minor": 0
      },
      "text/plain": [
       "Dropdown(description='Course 1', index=10, options=('Mario Raceway', 'Choco Mountain', \"Bowser's Castle\", 'Ban…"
      ]
     },
     "metadata": {},
     "output_type": "display_data"
    },
    {
     "data": {
      "application/vnd.jupyter.widget-view+json": {
       "model_id": "12755decba8345edadef1b0c062350be",
       "version_major": 2,
       "version_minor": 0
      },
      "text/plain": [
       "Dropdown(description='Course 2', index=5, options=('Mario Raceway', 'Choco Mountain', \"Bowser's Castle\", 'Bans…"
      ]
     },
     "metadata": {},
     "output_type": "display_data"
    },
    {
     "data": {
      "application/vnd.jupyter.widget-view+json": {
       "model_id": "893b3ca8fc7f4d30916fac29c8a34e5d",
       "version_major": 2,
       "version_minor": 0
      },
      "text/plain": [
       "Dropdown(description='Course 3', index=1, options=('Mario Raceway', 'Choco Mountain', \"Bowser's Castle\", 'Bans…"
      ]
     },
     "metadata": {},
     "output_type": "display_data"
    },
    {
     "data": {
      "application/vnd.jupyter.widget-view+json": {
       "model_id": "9211267ec0d54ba099a21c73eb87cfe2",
       "version_major": 2,
       "version_minor": 0
      },
      "text/plain": [
       "Dropdown(description='Course 4', options=('Mario Raceway', 'Choco Mountain', \"Bowser's Castle\", 'Banshee Board…"
      ]
     },
     "metadata": {},
     "output_type": "display_data"
    },
    {
     "name": "stdout",
     "output_type": "stream",
     "text": [
      "Star Cup\n"
     ]
    },
    {
     "data": {
      "application/vnd.jupyter.widget-view+json": {
       "model_id": "30192aeeabdd46adb8f4744ff586caa6",
       "version_major": 2,
       "version_minor": 0
      },
      "text/plain": [
       "Dropdown(description='Course 1', index=14, options=('Mario Raceway', 'Choco Mountain', \"Bowser's Castle\", 'Ban…"
      ]
     },
     "metadata": {},
     "output_type": "display_data"
    },
    {
     "data": {
      "application/vnd.jupyter.widget-view+json": {
       "model_id": "b14131ce679746409a4f5e6c3e7924f1",
       "version_major": 2,
       "version_minor": 0
      },
      "text/plain": [
       "Dropdown(description='Course 2', index=12, options=('Mario Raceway', 'Choco Mountain', \"Bowser's Castle\", 'Ban…"
      ]
     },
     "metadata": {},
     "output_type": "display_data"
    },
    {
     "data": {
      "application/vnd.jupyter.widget-view+json": {
       "model_id": "cd3869b10a3a4b83a5bf3697cf83af2e",
       "version_major": 2,
       "version_minor": 0
      },
      "text/plain": [
       "Dropdown(description='Course 3', index=7, options=('Mario Raceway', 'Choco Mountain', \"Bowser's Castle\", 'Bans…"
      ]
     },
     "metadata": {},
     "output_type": "display_data"
    },
    {
     "data": {
      "application/vnd.jupyter.widget-view+json": {
       "model_id": "01f737afdcc844ca9f2e702252d5936c",
       "version_major": 2,
       "version_minor": 0
      },
      "text/plain": [
       "Dropdown(description='Course 4', index=2, options=('Mario Raceway', 'Choco Mountain', \"Bowser's Castle\", 'Bans…"
      ]
     },
     "metadata": {},
     "output_type": "display_data"
    },
    {
     "name": "stdout",
     "output_type": "stream",
     "text": [
      "Special Cup\n"
     ]
    },
    {
     "data": {
      "application/vnd.jupyter.widget-view+json": {
       "model_id": "5145e4ad64464f86bf6c6b3d77f201b7",
       "version_major": 2,
       "version_minor": 0
      },
      "text/plain": [
       "Dropdown(description='Course 1', index=18, options=('Mario Raceway', 'Choco Mountain', \"Bowser's Castle\", 'Ban…"
      ]
     },
     "metadata": {},
     "output_type": "display_data"
    },
    {
     "data": {
      "application/vnd.jupyter.widget-view+json": {
       "model_id": "0876bfb94bc24102b736dd30ab9ea50f",
       "version_major": 2,
       "version_minor": 0
      },
      "text/plain": [
       "Dropdown(description='Course 2', index=4, options=('Mario Raceway', 'Choco Mountain', \"Bowser's Castle\", 'Bans…"
      ]
     },
     "metadata": {},
     "output_type": "display_data"
    },
    {
     "data": {
      "application/vnd.jupyter.widget-view+json": {
       "model_id": "0979e9c8f0b149d5b94e49bc30f6f29e",
       "version_major": 2,
       "version_minor": 0
      },
      "text/plain": [
       "Dropdown(description='Course 3', index=3, options=('Mario Raceway', 'Choco Mountain', \"Bowser's Castle\", 'Bans…"
      ]
     },
     "metadata": {},
     "output_type": "display_data"
    },
    {
     "data": {
      "application/vnd.jupyter.widget-view+json": {
       "model_id": "5bf9ea2d593343bb8acb3756e32c1a8e",
       "version_major": 2,
       "version_minor": 0
      },
      "text/plain": [
       "Dropdown(description='Course 4', index=13, options=('Mario Raceway', 'Choco Mountain', \"Bowser's Castle\", 'Ban…"
      ]
     },
     "metadata": {},
     "output_type": "display_data"
    },
    {
     "data": {
      "application/vnd.jupyter.widget-view+json": {
       "model_id": "296f585fbc6845e9a966e678ea54c468",
       "version_major": 2,
       "version_minor": 0
      },
      "text/plain": [
       "Button(description='Create Code', style=ButtonStyle())"
      ]
     },
     "metadata": {},
     "output_type": "display_data"
    },
    {
     "data": {
      "application/vnd.jupyter.widget-view+json": {
       "model_id": "dc01f9766b6c4771a74f4753947f755b",
       "version_major": 2,
       "version_minor": 0
      },
      "text/plain": [
       "Textarea(value='')"
      ]
     },
     "metadata": {},
     "output_type": "display_data"
    }
   ],
   "source": [
    "#Simple Cup Editor\n",
    "\n",
    "\n",
    "#Create gameshark code text\n",
    "def build_gameshark_code():\n",
    "    code = ''\n",
    "    for i in range(16):\n",
    "        if menu_list[i].value != course_default[i]:\n",
    "            code = code + '80'+ram_locations[i]+' 00'+course_value[menu_list[i].index] + '\\n'\n",
    "    return code\n",
    "\n",
    "#When clicking button, create the gameshark code\n",
    "def on_button_clicked(b):\n",
    "    generated_gameshark_code = build_gameshark_code()\n",
    "    textarea.value = generated_gameshark_code\n",
    "\n",
    "#Create menus\n",
    "menu_list = [] \n",
    "for i in range(16):\n",
    "    menu = widgets.Dropdown(description='Course '+str(course_number[i]+1), options=course_name, value=course_default[i])\n",
    "    menu_list.append(menu)\n",
    "    \n",
    "\n",
    "#Create button\n",
    "button = widgets.Button(description='Create Code')\n",
    "button.on_click(on_button_clicked)\n",
    "    \n",
    "#Create Text box\n",
    "textarea = widgets.Textarea()\n",
    "\n",
    "\n",
    "#Display widgets\n",
    "print('Mushroom Cup')\n",
    "for i in range(0,4): display(menu_list[i])\n",
    "print('Flower Cup')\n",
    "for i in range(4,8): display(menu_list[i])\n",
    "print('Star Cup')\n",
    "for i in range(8,12): display(menu_list[i])\n",
    "print('Special Cup')\n",
    "for i in range(12,16): display(menu_list[i])\n",
    "display(button)\n",
    "display(textarea)"
   ]
  },
  {
   "cell_type": "code",
   "execution_count": null,
   "metadata": {},
   "outputs": [],
   "source": []
  }
 ],
 "metadata": {
  "kernelspec": {
   "display_name": "Python 3",
   "language": "python",
   "name": "python3"
  },
  "language_info": {
   "codemirror_mode": {
    "name": "ipython",
    "version": 3
   },
   "file_extension": ".py",
   "mimetype": "text/x-python",
   "name": "python",
   "nbconvert_exporter": "python",
   "pygments_lexer": "ipython3",
   "version": "3.7.2"
  },
  "widgets": {
   "application/vnd.jupyter.widget-state+json": {
    "state": {
     "01f737afdcc844ca9f2e702252d5936c": {
      "model_module": "@jupyter-widgets/controls",
      "model_module_version": "1.4.0",
      "model_name": "DropdownModel",
      "state": {
       "_options_labels": [
        "Mario Raceway",
        "Choco Mountain",
        "Bowser's Castle",
        "Banshee Boardwalk",
        "Yoshi Valley",
        "Frappe Snowland",
        "Koopa Troopa Beach",
        "Royal Raceway",
        "Luigi Raceway",
        "Moo Moo Farm",
        "Toad's Turnpike",
        "Kalamari Desert",
        "Sherbert Land",
        "Rainbow Road",
        "Wario Stadium",
        "Block Fort",
        "Skyscraper",
        "Double Deck",
        "DK's Jungle Parkway",
        "Big Donut"
       ],
       "description": "Course 4",
       "index": 2,
       "layout": "IPY_MODEL_cfc5d0ba75994870bb2246817f1a5e70",
       "style": "IPY_MODEL_33f5e07e63704fc78741ca03406fd929"
      }
     },
     "020875d283214f89bfa273e47c553840": {
      "model_module": "@jupyter-widgets/base",
      "model_module_version": "1.1.0",
      "model_name": "LayoutModel",
      "state": {}
     },
     "02b5bb4a7b284c3a94a09183f08c4f60": {
      "model_module": "@jupyter-widgets/controls",
      "model_module_version": "1.4.0",
      "model_name": "DescriptionStyleModel",
      "state": {
       "description_width": ""
      }
     },
     "07dbe467223b4fa2ba9bf13075283482": {
      "model_module": "@jupyter-widgets/base",
      "model_module_version": "1.1.0",
      "model_name": "LayoutModel",
      "state": {}
     },
     "0876bfb94bc24102b736dd30ab9ea50f": {
      "model_module": "@jupyter-widgets/controls",
      "model_module_version": "1.4.0",
      "model_name": "DropdownModel",
      "state": {
       "_options_labels": [
        "Mario Raceway",
        "Choco Mountain",
        "Bowser's Castle",
        "Banshee Boardwalk",
        "Yoshi Valley",
        "Frappe Snowland",
        "Koopa Troopa Beach",
        "Royal Raceway",
        "Luigi Raceway",
        "Moo Moo Farm",
        "Toad's Turnpike",
        "Kalamari Desert",
        "Sherbert Land",
        "Rainbow Road",
        "Wario Stadium",
        "Block Fort",
        "Skyscraper",
        "Double Deck",
        "DK's Jungle Parkway",
        "Big Donut"
       ],
       "description": "Course 2",
       "index": 4,
       "layout": "IPY_MODEL_a1981c0a9be2497ab47f629b8a8215a5",
       "style": "IPY_MODEL_99c8880cc6b64e4499e14b5a9f83641c"
      }
     },
     "0979e9c8f0b149d5b94e49bc30f6f29e": {
      "model_module": "@jupyter-widgets/controls",
      "model_module_version": "1.4.0",
      "model_name": "DropdownModel",
      "state": {
       "_options_labels": [
        "Mario Raceway",
        "Choco Mountain",
        "Bowser's Castle",
        "Banshee Boardwalk",
        "Yoshi Valley",
        "Frappe Snowland",
        "Koopa Troopa Beach",
        "Royal Raceway",
        "Luigi Raceway",
        "Moo Moo Farm",
        "Toad's Turnpike",
        "Kalamari Desert",
        "Sherbert Land",
        "Rainbow Road",
        "Wario Stadium",
        "Block Fort",
        "Skyscraper",
        "Double Deck",
        "DK's Jungle Parkway",
        "Big Donut"
       ],
       "description": "Course 3",
       "index": 3,
       "layout": "IPY_MODEL_4574201f1d104a98b41c55f2c3e77708",
       "style": "IPY_MODEL_b517031b77224037b38470e5222f5e09"
      }
     },
     "12755decba8345edadef1b0c062350be": {
      "model_module": "@jupyter-widgets/controls",
      "model_module_version": "1.4.0",
      "model_name": "DropdownModel",
      "state": {
       "_options_labels": [
        "Mario Raceway",
        "Choco Mountain",
        "Bowser's Castle",
        "Banshee Boardwalk",
        "Yoshi Valley",
        "Frappe Snowland",
        "Koopa Troopa Beach",
        "Royal Raceway",
        "Luigi Raceway",
        "Moo Moo Farm",
        "Toad's Turnpike",
        "Kalamari Desert",
        "Sherbert Land",
        "Rainbow Road",
        "Wario Stadium",
        "Block Fort",
        "Skyscraper",
        "Double Deck",
        "DK's Jungle Parkway",
        "Big Donut"
       ],
       "description": "Course 2",
       "index": 5,
       "layout": "IPY_MODEL_07dbe467223b4fa2ba9bf13075283482",
       "style": "IPY_MODEL_c1382955280f44fd914ebf8d23912c4d"
      }
     },
     "200546e452974641b737bf1a952b152f": {
      "model_module": "@jupyter-widgets/controls",
      "model_module_version": "1.4.0",
      "model_name": "DescriptionStyleModel",
      "state": {
       "description_width": ""
      }
     },
     "296f585fbc6845e9a966e678ea54c468": {
      "model_module": "@jupyter-widgets/controls",
      "model_module_version": "1.4.0",
      "model_name": "ButtonModel",
      "state": {
       "description": "Create Code",
       "layout": "IPY_MODEL_39b0f4b447044e14ad71f0d1159b7674",
       "style": "IPY_MODEL_d922b4ad85af40c59537d84e746347a1"
      }
     },
     "2dfc409dddae498b9b7c331ae2fa8950": {
      "model_module": "@jupyter-widgets/controls",
      "model_module_version": "1.4.0",
      "model_name": "DescriptionStyleModel",
      "state": {
       "description_width": ""
      }
     },
     "30192aeeabdd46adb8f4744ff586caa6": {
      "model_module": "@jupyter-widgets/controls",
      "model_module_version": "1.4.0",
      "model_name": "DropdownModel",
      "state": {
       "_options_labels": [
        "Mario Raceway",
        "Choco Mountain",
        "Bowser's Castle",
        "Banshee Boardwalk",
        "Yoshi Valley",
        "Frappe Snowland",
        "Koopa Troopa Beach",
        "Royal Raceway",
        "Luigi Raceway",
        "Moo Moo Farm",
        "Toad's Turnpike",
        "Kalamari Desert",
        "Sherbert Land",
        "Rainbow Road",
        "Wario Stadium",
        "Block Fort",
        "Skyscraper",
        "Double Deck",
        "DK's Jungle Parkway",
        "Big Donut"
       ],
       "description": "Course 1",
       "index": 14,
       "layout": "IPY_MODEL_a886f2f5907b4ee89a40b93297353829",
       "style": "IPY_MODEL_9d721a21abb34710838fc756290a9899"
      }
     },
     "33f5e07e63704fc78741ca03406fd929": {
      "model_module": "@jupyter-widgets/controls",
      "model_module_version": "1.4.0",
      "model_name": "DescriptionStyleModel",
      "state": {
       "description_width": ""
      }
     },
     "34f4cfcffd9d492bbd05dd56322734d7": {
      "model_module": "@jupyter-widgets/controls",
      "model_module_version": "1.4.0",
      "model_name": "DescriptionStyleModel",
      "state": {
       "description_width": ""
      }
     },
     "39b0f4b447044e14ad71f0d1159b7674": {
      "model_module": "@jupyter-widgets/base",
      "model_module_version": "1.1.0",
      "model_name": "LayoutModel",
      "state": {}
     },
     "3b6bdbd449314d61bb52eb204bde5baa": {
      "model_module": "@jupyter-widgets/base",
      "model_module_version": "1.1.0",
      "model_name": "LayoutModel",
      "state": {}
     },
     "4171facdb60f4fc4bdc6530274c66e9c": {
      "model_module": "@jupyter-widgets/controls",
      "model_module_version": "1.4.0",
      "model_name": "DropdownModel",
      "state": {
       "_options_labels": [
        "Mario Raceway",
        "Choco Mountain",
        "Bowser's Castle",
        "Banshee Boardwalk",
        "Yoshi Valley",
        "Frappe Snowland",
        "Koopa Troopa Beach",
        "Royal Raceway",
        "Luigi Raceway",
        "Moo Moo Farm",
        "Toad's Turnpike",
        "Kalamari Desert",
        "Sherbert Land",
        "Rainbow Road",
        "Wario Stadium",
        "Block Fort",
        "Skyscraper",
        "Double Deck",
        "DK's Jungle Parkway",
        "Big Donut"
       ],
       "description": "Course 1",
       "index": 8,
       "layout": "IPY_MODEL_020875d283214f89bfa273e47c553840",
       "style": "IPY_MODEL_cedb198a0fb741128b0d61474800c0e6"
      }
     },
     "4570fbe8bb6d49318af012fb12579869": {
      "model_module": "@jupyter-widgets/controls",
      "model_module_version": "1.4.0",
      "model_name": "DescriptionStyleModel",
      "state": {
       "description_width": ""
      }
     },
     "4574201f1d104a98b41c55f2c3e77708": {
      "model_module": "@jupyter-widgets/base",
      "model_module_version": "1.1.0",
      "model_name": "LayoutModel",
      "state": {}
     },
     "4857027fc6594c63a7ff5bbbf8bd17e3": {
      "model_module": "@jupyter-widgets/base",
      "model_module_version": "1.1.0",
      "model_name": "LayoutModel",
      "state": {}
     },
     "5145e4ad64464f86bf6c6b3d77f201b7": {
      "model_module": "@jupyter-widgets/controls",
      "model_module_version": "1.4.0",
      "model_name": "DropdownModel",
      "state": {
       "_options_labels": [
        "Mario Raceway",
        "Choco Mountain",
        "Bowser's Castle",
        "Banshee Boardwalk",
        "Yoshi Valley",
        "Frappe Snowland",
        "Koopa Troopa Beach",
        "Royal Raceway",
        "Luigi Raceway",
        "Moo Moo Farm",
        "Toad's Turnpike",
        "Kalamari Desert",
        "Sherbert Land",
        "Rainbow Road",
        "Wario Stadium",
        "Block Fort",
        "Skyscraper",
        "Double Deck",
        "DK's Jungle Parkway",
        "Big Donut"
       ],
       "description": "Course 1",
       "index": 18,
       "layout": "IPY_MODEL_5b6c7f26beec4aa48980706dda932644",
       "style": "IPY_MODEL_2dfc409dddae498b9b7c331ae2fa8950"
      }
     },
     "5398d767186445758892c4397a784cd9": {
      "model_module": "@jupyter-widgets/controls",
      "model_module_version": "1.4.0",
      "model_name": "DescriptionStyleModel",
      "state": {
       "description_width": ""
      }
     },
     "56a769eaf46046fca8d658101dbf1277": {
      "model_module": "@jupyter-widgets/base",
      "model_module_version": "1.1.0",
      "model_name": "LayoutModel",
      "state": {}
     },
     "5b6c7f26beec4aa48980706dda932644": {
      "model_module": "@jupyter-widgets/base",
      "model_module_version": "1.1.0",
      "model_name": "LayoutModel",
      "state": {}
     },
     "5bf9ea2d593343bb8acb3756e32c1a8e": {
      "model_module": "@jupyter-widgets/controls",
      "model_module_version": "1.4.0",
      "model_name": "DropdownModel",
      "state": {
       "_options_labels": [
        "Mario Raceway",
        "Choco Mountain",
        "Bowser's Castle",
        "Banshee Boardwalk",
        "Yoshi Valley",
        "Frappe Snowland",
        "Koopa Troopa Beach",
        "Royal Raceway",
        "Luigi Raceway",
        "Moo Moo Farm",
        "Toad's Turnpike",
        "Kalamari Desert",
        "Sherbert Land",
        "Rainbow Road",
        "Wario Stadium",
        "Block Fort",
        "Skyscraper",
        "Double Deck",
        "DK's Jungle Parkway",
        "Big Donut"
       ],
       "description": "Course 4",
       "index": 13,
       "layout": "IPY_MODEL_6a319ae7f3ef46bcab023c90181ada50",
       "style": "IPY_MODEL_e740dbb62fdf448999f35ef583669872"
      }
     },
     "63ee96d1ad8f4fdd8fa114b05a263fff": {
      "model_module": "@jupyter-widgets/base",
      "model_module_version": "1.1.0",
      "model_name": "LayoutModel",
      "state": {}
     },
     "66ec4c480ede488989b03e05c756629a": {
      "model_module": "@jupyter-widgets/controls",
      "model_module_version": "1.4.0",
      "model_name": "DropdownModel",
      "state": {
       "_options_labels": [
        "Mario Raceway",
        "Choco Mountain",
        "Bowser's Castle",
        "Banshee Boardwalk",
        "Yoshi Valley",
        "Frappe Snowland",
        "Koopa Troopa Beach",
        "Royal Raceway",
        "Luigi Raceway",
        "Moo Moo Farm",
        "Toad's Turnpike",
        "Kalamari Desert",
        "Sherbert Land",
        "Rainbow Road",
        "Wario Stadium",
        "Block Fort",
        "Skyscraper",
        "Double Deck",
        "DK's Jungle Parkway",
        "Big Donut"
       ],
       "description": "Course 1",
       "index": 10,
       "layout": "IPY_MODEL_3b6bdbd449314d61bb52eb204bde5baa",
       "style": "IPY_MODEL_fc93063e81184b88aeb9782256d29935"
      }
     },
     "6a319ae7f3ef46bcab023c90181ada50": {
      "model_module": "@jupyter-widgets/base",
      "model_module_version": "1.1.0",
      "model_name": "LayoutModel",
      "state": {}
     },
     "8333dbc1bd2a4d07a4749961c6d0fb9f": {
      "model_module": "@jupyter-widgets/base",
      "model_module_version": "1.1.0",
      "model_name": "LayoutModel",
      "state": {}
     },
     "893b3ca8fc7f4d30916fac29c8a34e5d": {
      "model_module": "@jupyter-widgets/controls",
      "model_module_version": "1.4.0",
      "model_name": "DropdownModel",
      "state": {
       "_options_labels": [
        "Mario Raceway",
        "Choco Mountain",
        "Bowser's Castle",
        "Banshee Boardwalk",
        "Yoshi Valley",
        "Frappe Snowland",
        "Koopa Troopa Beach",
        "Royal Raceway",
        "Luigi Raceway",
        "Moo Moo Farm",
        "Toad's Turnpike",
        "Kalamari Desert",
        "Sherbert Land",
        "Rainbow Road",
        "Wario Stadium",
        "Block Fort",
        "Skyscraper",
        "Double Deck",
        "DK's Jungle Parkway",
        "Big Donut"
       ],
       "description": "Course 3",
       "index": 1,
       "layout": "IPY_MODEL_a4c6ad39e7604448a00fc5f5198433b9",
       "style": "IPY_MODEL_acff694c5fc347aabf91fc3acd0868ed"
      }
     },
     "8af2b24f277d459eb7715102b277bfbd": {
      "model_module": "@jupyter-widgets/controls",
      "model_module_version": "1.4.0",
      "model_name": "DescriptionStyleModel",
      "state": {
       "description_width": ""
      }
     },
     "9211267ec0d54ba099a21c73eb87cfe2": {
      "model_module": "@jupyter-widgets/controls",
      "model_module_version": "1.4.0",
      "model_name": "DropdownModel",
      "state": {
       "_options_labels": [
        "Mario Raceway",
        "Choco Mountain",
        "Bowser's Castle",
        "Banshee Boardwalk",
        "Yoshi Valley",
        "Frappe Snowland",
        "Koopa Troopa Beach",
        "Royal Raceway",
        "Luigi Raceway",
        "Moo Moo Farm",
        "Toad's Turnpike",
        "Kalamari Desert",
        "Sherbert Land",
        "Rainbow Road",
        "Wario Stadium",
        "Block Fort",
        "Skyscraper",
        "Double Deck",
        "DK's Jungle Parkway",
        "Big Donut"
       ],
       "description": "Course 4",
       "index": 0,
       "layout": "IPY_MODEL_4857027fc6594c63a7ff5bbbf8bd17e3",
       "style": "IPY_MODEL_b03ca1300378489ab6357461865f239c"
      }
     },
     "99c8880cc6b64e4499e14b5a9f83641c": {
      "model_module": "@jupyter-widgets/controls",
      "model_module_version": "1.4.0",
      "model_name": "DescriptionStyleModel",
      "state": {
       "description_width": ""
      }
     },
     "9c3b33458ed249819573ff0edbd7ca9d": {
      "model_module": "@jupyter-widgets/base",
      "model_module_version": "1.1.0",
      "model_name": "LayoutModel",
      "state": {}
     },
     "9d721a21abb34710838fc756290a9899": {
      "model_module": "@jupyter-widgets/controls",
      "model_module_version": "1.4.0",
      "model_name": "DescriptionStyleModel",
      "state": {
       "description_width": ""
      }
     },
     "a1981c0a9be2497ab47f629b8a8215a5": {
      "model_module": "@jupyter-widgets/base",
      "model_module_version": "1.1.0",
      "model_name": "LayoutModel",
      "state": {}
     },
     "a4c6ad39e7604448a00fc5f5198433b9": {
      "model_module": "@jupyter-widgets/base",
      "model_module_version": "1.1.0",
      "model_name": "LayoutModel",
      "state": {}
     },
     "a886f2f5907b4ee89a40b93297353829": {
      "model_module": "@jupyter-widgets/base",
      "model_module_version": "1.1.0",
      "model_name": "LayoutModel",
      "state": {}
     },
     "acff694c5fc347aabf91fc3acd0868ed": {
      "model_module": "@jupyter-widgets/controls",
      "model_module_version": "1.4.0",
      "model_name": "DescriptionStyleModel",
      "state": {
       "description_width": ""
      }
     },
     "b03ca1300378489ab6357461865f239c": {
      "model_module": "@jupyter-widgets/controls",
      "model_module_version": "1.4.0",
      "model_name": "DescriptionStyleModel",
      "state": {
       "description_width": ""
      }
     },
     "b14131ce679746409a4f5e6c3e7924f1": {
      "model_module": "@jupyter-widgets/controls",
      "model_module_version": "1.4.0",
      "model_name": "DropdownModel",
      "state": {
       "_options_labels": [
        "Mario Raceway",
        "Choco Mountain",
        "Bowser's Castle",
        "Banshee Boardwalk",
        "Yoshi Valley",
        "Frappe Snowland",
        "Koopa Troopa Beach",
        "Royal Raceway",
        "Luigi Raceway",
        "Moo Moo Farm",
        "Toad's Turnpike",
        "Kalamari Desert",
        "Sherbert Land",
        "Rainbow Road",
        "Wario Stadium",
        "Block Fort",
        "Skyscraper",
        "Double Deck",
        "DK's Jungle Parkway",
        "Big Donut"
       ],
       "description": "Course 2",
       "index": 12,
       "layout": "IPY_MODEL_63ee96d1ad8f4fdd8fa114b05a263fff",
       "style": "IPY_MODEL_5398d767186445758892c4397a784cd9"
      }
     },
     "b517031b77224037b38470e5222f5e09": {
      "model_module": "@jupyter-widgets/controls",
      "model_module_version": "1.4.0",
      "model_name": "DescriptionStyleModel",
      "state": {
       "description_width": ""
      }
     },
     "c1382955280f44fd914ebf8d23912c4d": {
      "model_module": "@jupyter-widgets/controls",
      "model_module_version": "1.4.0",
      "model_name": "DescriptionStyleModel",
      "state": {
       "description_width": ""
      }
     },
     "cd3869b10a3a4b83a5bf3697cf83af2e": {
      "model_module": "@jupyter-widgets/controls",
      "model_module_version": "1.4.0",
      "model_name": "DropdownModel",
      "state": {
       "_options_labels": [
        "Mario Raceway",
        "Choco Mountain",
        "Bowser's Castle",
        "Banshee Boardwalk",
        "Yoshi Valley",
        "Frappe Snowland",
        "Koopa Troopa Beach",
        "Royal Raceway",
        "Luigi Raceway",
        "Moo Moo Farm",
        "Toad's Turnpike",
        "Kalamari Desert",
        "Sherbert Land",
        "Rainbow Road",
        "Wario Stadium",
        "Block Fort",
        "Skyscraper",
        "Double Deck",
        "DK's Jungle Parkway",
        "Big Donut"
       ],
       "description": "Course 3",
       "index": 7,
       "layout": "IPY_MODEL_56a769eaf46046fca8d658101dbf1277",
       "style": "IPY_MODEL_200546e452974641b737bf1a952b152f"
      }
     },
     "cedb198a0fb741128b0d61474800c0e6": {
      "model_module": "@jupyter-widgets/controls",
      "model_module_version": "1.4.0",
      "model_name": "DescriptionStyleModel",
      "state": {
       "description_width": ""
      }
     },
     "cfc5d0ba75994870bb2246817f1a5e70": {
      "model_module": "@jupyter-widgets/base",
      "model_module_version": "1.1.0",
      "model_name": "LayoutModel",
      "state": {}
     },
     "d297a9fecaaf464a867dbe324e92d660": {
      "model_module": "@jupyter-widgets/base",
      "model_module_version": "1.1.0",
      "model_name": "LayoutModel",
      "state": {}
     },
     "d922b4ad85af40c59537d84e746347a1": {
      "model_module": "@jupyter-widgets/controls",
      "model_module_version": "1.4.0",
      "model_name": "ButtonStyleModel",
      "state": {}
     },
     "daacb71712cf4595a857e6a7a003ec4d": {
      "model_module": "@jupyter-widgets/base",
      "model_module_version": "1.1.0",
      "model_name": "LayoutModel",
      "state": {}
     },
     "dc01f9766b6c4771a74f4753947f755b": {
      "model_module": "@jupyter-widgets/controls",
      "model_module_version": "1.4.0",
      "model_name": "TextareaModel",
      "state": {
       "layout": "IPY_MODEL_daacb71712cf4595a857e6a7a003ec4d",
       "style": "IPY_MODEL_4570fbe8bb6d49318af012fb12579869"
      }
     },
     "e740dbb62fdf448999f35ef583669872": {
      "model_module": "@jupyter-widgets/controls",
      "model_module_version": "1.4.0",
      "model_name": "DescriptionStyleModel",
      "state": {
       "description_width": ""
      }
     },
     "ea24fc85b2d6446ca3808a4230bb14bb": {
      "model_module": "@jupyter-widgets/controls",
      "model_module_version": "1.4.0",
      "model_name": "DropdownModel",
      "state": {
       "_options_labels": [
        "Mario Raceway",
        "Choco Mountain",
        "Bowser's Castle",
        "Banshee Boardwalk",
        "Yoshi Valley",
        "Frappe Snowland",
        "Koopa Troopa Beach",
        "Royal Raceway",
        "Luigi Raceway",
        "Moo Moo Farm",
        "Toad's Turnpike",
        "Kalamari Desert",
        "Sherbert Land",
        "Rainbow Road",
        "Wario Stadium",
        "Block Fort",
        "Skyscraper",
        "Double Deck",
        "DK's Jungle Parkway",
        "Big Donut"
       ],
       "description": "Course 3",
       "index": 6,
       "layout": "IPY_MODEL_8333dbc1bd2a4d07a4749961c6d0fb9f",
       "style": "IPY_MODEL_8af2b24f277d459eb7715102b277bfbd"
      }
     },
     "f191c325161e4d24aade1b1991bca6b6": {
      "model_module": "@jupyter-widgets/controls",
      "model_module_version": "1.4.0",
      "model_name": "DropdownModel",
      "state": {
       "_options_labels": [
        "Mario Raceway",
        "Choco Mountain",
        "Bowser's Castle",
        "Banshee Boardwalk",
        "Yoshi Valley",
        "Frappe Snowland",
        "Koopa Troopa Beach",
        "Royal Raceway",
        "Luigi Raceway",
        "Moo Moo Farm",
        "Toad's Turnpike",
        "Kalamari Desert",
        "Sherbert Land",
        "Rainbow Road",
        "Wario Stadium",
        "Block Fort",
        "Skyscraper",
        "Double Deck",
        "DK's Jungle Parkway",
        "Big Donut"
       ],
       "description": "Course 4",
       "index": 11,
       "layout": "IPY_MODEL_d297a9fecaaf464a867dbe324e92d660",
       "style": "IPY_MODEL_02b5bb4a7b284c3a94a09183f08c4f60"
      }
     },
     "f477d097243644e69daabe3ecca71c12": {
      "model_module": "@jupyter-widgets/controls",
      "model_module_version": "1.4.0",
      "model_name": "DropdownModel",
      "state": {
       "_options_labels": [
        "Mario Raceway",
        "Choco Mountain",
        "Bowser's Castle",
        "Banshee Boardwalk",
        "Yoshi Valley",
        "Frappe Snowland",
        "Koopa Troopa Beach",
        "Royal Raceway",
        "Luigi Raceway",
        "Moo Moo Farm",
        "Toad's Turnpike",
        "Kalamari Desert",
        "Sherbert Land",
        "Rainbow Road",
        "Wario Stadium",
        "Block Fort",
        "Skyscraper",
        "Double Deck",
        "DK's Jungle Parkway",
        "Big Donut"
       ],
       "description": "Course 2",
       "index": 9,
       "layout": "IPY_MODEL_9c3b33458ed249819573ff0edbd7ca9d",
       "style": "IPY_MODEL_34f4cfcffd9d492bbd05dd56322734d7"
      }
     },
     "fc93063e81184b88aeb9782256d29935": {
      "model_module": "@jupyter-widgets/controls",
      "model_module_version": "1.4.0",
      "model_name": "DescriptionStyleModel",
      "state": {
       "description_width": ""
      }
     }
    },
    "version_major": 2,
    "version_minor": 0
   }
  }
 },
 "nbformat": 4,
 "nbformat_minor": 2
}
