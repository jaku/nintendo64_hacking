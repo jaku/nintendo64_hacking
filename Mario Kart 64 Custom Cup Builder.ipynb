{
 "cells": [
  {
   "cell_type": "markdown",
   "metadata": {},
   "source": [
    "This ipython notebook allows you to create your own custom Mario Kart 64 cups.  These codes are meant to work in the USA/NTSC version of Mario Kart 64.  They should work fine in both emulators and on real hardware.\n",
    "\n",
    "Instructions:\n",
    "Click on each of the three cells below and then pressing enter to run the code in them.  Once you have activated all three cells, below the final cell you will see menus for each course in all four cups.  Modify the courses in the cups however you like and then click the \"Create Code\" button.  A Gameshark code will be generated in the text box below the button."
   ]
  },
  {
   "cell_type": "code",
   "execution_count": 131,
   "metadata": {},
   "outputs": [],
   "source": [
    "#Import python libraries\n",
    "from ipywidgets import widgets, interact\n",
    "from IPython.display import display"
   ]
  },
  {
   "cell_type": "code",
   "execution_count": 132,
   "metadata": {},
   "outputs": [],
   "source": [
    "#Cup data\n",
    "ram_locations = ['0F2BB5', '0F2BB7', '0F2BB9', '0F2BBB',\n",
    "                '0F2BBD', '0F2BBF', '0F2BC1', '0F2BC3',\n",
    "                '0F2BC5', '0F2BC7', '0F2BC9', '0F2BCB',\n",
    "                '0F2BCD', '0F2BCF', '0F2BD1', '0F2BD3']\n",
    "course_default = ['Luigi Raceway', 'Moo Moo Farm', 'Koopa Troopa Beach', 'Kalamari Desert',\n",
    "                 \"Toad's Turnpike\", 'Frappe Snowland', 'Choco Mountain', 'Mario Raceway',\n",
    "                 'Wario Stadium', 'Sherbert Land','Royal Raceway',\"Bowser's Castle\",\n",
    "                 \"DK's Jungle Parkway\", 'Yoshi Valley', 'Banshee Boardwalk', 'Rainbow Road']\n",
    "course_number = [0, 1, 2, 3,\n",
    "                0, 1, 2, 3,\n",
    "                0, 1, 2, 3,\n",
    "                0, 1, 2, 3]\n",
    "cup_number = [0, 0, 0, 0,\n",
    "             1, 1, 1, 1,\n",
    "             2, 2, 2, 2,\n",
    "             3, 3, 3, 3]\n",
    "\n",
    "#Couse data\n",
    "course_name = ['Mario Raceway', 'Choco Mountain',\"Bowser's Castle\",\n",
    "               'Banshee Boardwalk', 'Yoshi Valley', 'Frappe Snowland',\n",
    "               'Koopa Troopa Beach', 'Royal Raceway', 'Luigi Raceway',\n",
    "               'Moo Moo Farm', \"Toad's Turnpike\", 'Kalamari Desert',\n",
    "               'Sherbert Land', 'Rainbow Road', 'Wario Stadium',\n",
    "               'Block Fort', 'Skyscraper', 'Double Deck',\n",
    "               \"DK's Jungle Parkway\", 'Big Donut']\n",
    "course_value = ['00', '01', '02',\n",
    "                '03', '04', '05',\n",
    "                '06', '07', '08',\n",
    "                '09', '0A', '0B',\n",
    "                '0C', '0D', '0E',\n",
    "                '0F', '10', '11',\n",
    "                '12', '13']"
   ]
  },
  {
   "cell_type": "code",
   "execution_count": 134,
   "metadata": {},
   "outputs": [
    {
     "name": "stdout",
     "output_type": "stream",
     "text": [
      "Mushroom Cup\n"
     ]
    },
    {
     "data": {
      "application/vnd.jupyter.widget-view+json": {
       "model_id": "db067919bb424640ad83a20f29da8329",
       "version_major": 2,
       "version_minor": 0
      },
      "text/plain": [
       "Dropdown(description='Course 1', index=8, options=('Mario Raceway', 'Choco Mountain', \"Bowser's Castle\", 'Bans…"
      ]
     },
     "metadata": {},
     "output_type": "display_data"
    },
    {
     "data": {
      "application/vnd.jupyter.widget-view+json": {
       "model_id": "202cecb2e54648ba83a10ce1e95c7a60",
       "version_major": 2,
       "version_minor": 0
      },
      "text/plain": [
       "Dropdown(description='Course 2', index=9, options=('Mario Raceway', 'Choco Mountain', \"Bowser's Castle\", 'Bans…"
      ]
     },
     "metadata": {},
     "output_type": "display_data"
    },
    {
     "data": {
      "application/vnd.jupyter.widget-view+json": {
       "model_id": "510a6d974efe4c65a2c607367aa805d1",
       "version_major": 2,
       "version_minor": 0
      },
      "text/plain": [
       "Dropdown(description='Course 3', index=6, options=('Mario Raceway', 'Choco Mountain', \"Bowser's Castle\", 'Bans…"
      ]
     },
     "metadata": {},
     "output_type": "display_data"
    },
    {
     "data": {
      "application/vnd.jupyter.widget-view+json": {
       "model_id": "5991cb9d16024ff1aec21e70dcbb1058",
       "version_major": 2,
       "version_minor": 0
      },
      "text/plain": [
       "Dropdown(description='Course 4', index=11, options=('Mario Raceway', 'Choco Mountain', \"Bowser's Castle\", 'Ban…"
      ]
     },
     "metadata": {},
     "output_type": "display_data"
    },
    {
     "name": "stdout",
     "output_type": "stream",
     "text": [
      "Flower Cup\n"
     ]
    },
    {
     "data": {
      "application/vnd.jupyter.widget-view+json": {
       "model_id": "dfa6eedf38b04fcfb0ace43df4b09d11",
       "version_major": 2,
       "version_minor": 0
      },
      "text/plain": [
       "Dropdown(description='Course 1', index=10, options=('Mario Raceway', 'Choco Mountain', \"Bowser's Castle\", 'Ban…"
      ]
     },
     "metadata": {},
     "output_type": "display_data"
    },
    {
     "data": {
      "application/vnd.jupyter.widget-view+json": {
       "model_id": "5c96b50290c44f1d9ab3b89390395618",
       "version_major": 2,
       "version_minor": 0
      },
      "text/plain": [
       "Dropdown(description='Course 2', index=5, options=('Mario Raceway', 'Choco Mountain', \"Bowser's Castle\", 'Bans…"
      ]
     },
     "metadata": {},
     "output_type": "display_data"
    },
    {
     "data": {
      "application/vnd.jupyter.widget-view+json": {
       "model_id": "e81de5d09346453f81c35435deac232f",
       "version_major": 2,
       "version_minor": 0
      },
      "text/plain": [
       "Dropdown(description='Course 3', index=1, options=('Mario Raceway', 'Choco Mountain', \"Bowser's Castle\", 'Bans…"
      ]
     },
     "metadata": {},
     "output_type": "display_data"
    },
    {
     "data": {
      "application/vnd.jupyter.widget-view+json": {
       "model_id": "0665ca698ec946a69ba8267edd49be43",
       "version_major": 2,
       "version_minor": 0
      },
      "text/plain": [
       "Dropdown(description='Course 4', options=('Mario Raceway', 'Choco Mountain', \"Bowser's Castle\", 'Banshee Board…"
      ]
     },
     "metadata": {},
     "output_type": "display_data"
    },
    {
     "name": "stdout",
     "output_type": "stream",
     "text": [
      "Star Cup\n"
     ]
    },
    {
     "data": {
      "application/vnd.jupyter.widget-view+json": {
       "model_id": "a755e8b74721471782c784e531125906",
       "version_major": 2,
       "version_minor": 0
      },
      "text/plain": [
       "Dropdown(description='Course 1', index=14, options=('Mario Raceway', 'Choco Mountain', \"Bowser's Castle\", 'Ban…"
      ]
     },
     "metadata": {},
     "output_type": "display_data"
    },
    {
     "data": {
      "application/vnd.jupyter.widget-view+json": {
       "model_id": "7ef1f95e8bbf48d29aae391c6a995860",
       "version_major": 2,
       "version_minor": 0
      },
      "text/plain": [
       "Dropdown(description='Course 2', index=12, options=('Mario Raceway', 'Choco Mountain', \"Bowser's Castle\", 'Ban…"
      ]
     },
     "metadata": {},
     "output_type": "display_data"
    },
    {
     "data": {
      "application/vnd.jupyter.widget-view+json": {
       "model_id": "a1302b96ed034805a4b66069ed452e51",
       "version_major": 2,
       "version_minor": 0
      },
      "text/plain": [
       "Dropdown(description='Course 3', index=7, options=('Mario Raceway', 'Choco Mountain', \"Bowser's Castle\", 'Bans…"
      ]
     },
     "metadata": {},
     "output_type": "display_data"
    },
    {
     "data": {
      "application/vnd.jupyter.widget-view+json": {
       "model_id": "9d88acf018564db786be25c74d39ed6c",
       "version_major": 2,
       "version_minor": 0
      },
      "text/plain": [
       "Dropdown(description='Course 4', index=2, options=('Mario Raceway', 'Choco Mountain', \"Bowser's Castle\", 'Bans…"
      ]
     },
     "metadata": {},
     "output_type": "display_data"
    },
    {
     "name": "stdout",
     "output_type": "stream",
     "text": [
      "Special Cup\n"
     ]
    },
    {
     "data": {
      "application/vnd.jupyter.widget-view+json": {
       "model_id": "9525071b92fe434ebeafc88de863be2d",
       "version_major": 2,
       "version_minor": 0
      },
      "text/plain": [
       "Dropdown(description='Course 1', index=18, options=('Mario Raceway', 'Choco Mountain', \"Bowser's Castle\", 'Ban…"
      ]
     },
     "metadata": {},
     "output_type": "display_data"
    },
    {
     "data": {
      "application/vnd.jupyter.widget-view+json": {
       "model_id": "e344202577bd47f0abf6b3b2d3b80564",
       "version_major": 2,
       "version_minor": 0
      },
      "text/plain": [
       "Dropdown(description='Course 2', index=4, options=('Mario Raceway', 'Choco Mountain', \"Bowser's Castle\", 'Bans…"
      ]
     },
     "metadata": {},
     "output_type": "display_data"
    },
    {
     "data": {
      "application/vnd.jupyter.widget-view+json": {
       "model_id": "95a37aa169bf4884b4416f8fc890d8fa",
       "version_major": 2,
       "version_minor": 0
      },
      "text/plain": [
       "Dropdown(description='Course 3', index=3, options=('Mario Raceway', 'Choco Mountain', \"Bowser's Castle\", 'Bans…"
      ]
     },
     "metadata": {},
     "output_type": "display_data"
    },
    {
     "data": {
      "application/vnd.jupyter.widget-view+json": {
       "model_id": "cd9b442c78f340db92162d01fc40312c",
       "version_major": 2,
       "version_minor": 0
      },
      "text/plain": [
       "Dropdown(description='Course 4', index=13, options=('Mario Raceway', 'Choco Mountain', \"Bowser's Castle\", 'Ban…"
      ]
     },
     "metadata": {},
     "output_type": "display_data"
    },
    {
     "data": {
      "application/vnd.jupyter.widget-view+json": {
       "model_id": "8922d02a1ed04f92a7eaf0bdefce8654",
       "version_major": 2,
       "version_minor": 0
      },
      "text/plain": [
       "Button(description='Create Code', style=ButtonStyle())"
      ]
     },
     "metadata": {},
     "output_type": "display_data"
    },
    {
     "data": {
      "application/vnd.jupyter.widget-view+json": {
       "model_id": "1359b72744524ddeb7fe1ae7abe30521",
       "version_major": 2,
       "version_minor": 0
      },
      "text/plain": [
       "Textarea(value='')"
      ]
     },
     "metadata": {},
     "output_type": "display_data"
    }
   ],
   "source": [
    "#Simple Cup Editor\n",
    "\n",
    "#Create button\n",
    "button = widgets.Button(description='Create Code')\n",
    "button.on_click(on_button_clicked)\n",
    "    \n",
    "#Create Text box\n",
    "textarea = widgets.Textarea()\n",
    "\n",
    "#Create gameshark code text\n",
    "def build_gameshark_code():\n",
    "    code = ''\n",
    "    for i in range(16):\n",
    "        if menu_list[i].value != course_default[i]:\n",
    "            code = code + '80'+ram_locations[i]+' 00'+course_value[menu_list[i].index] + '\\n'\n",
    "    return code\n",
    "\n",
    "#When clicking button, create the gameshark code\n",
    "def on_button_clicked(b):\n",
    "    generated_gameshark_code = build_gameshark_code()\n",
    "    textarea.value = generated_gameshark_code\n",
    "\n",
    "#Create menus\n",
    "menu_list = [] \n",
    "for i in range(16):\n",
    "    menu = widgets.Dropdown(description='Course '+str(course_number[i]+1), options=course_name, value=course_default[i])\n",
    "    menu_list.append(menu)\n",
    "    \n",
    "\n",
    "#Display widgets\n",
    "print('Mushroom Cup')\n",
    "for i in range(0,4): display(menu_list[i])\n",
    "print('Flower Cup')\n",
    "for i in range(4,8): display(menu_list[i])\n",
    "print('Star Cup')\n",
    "for i in range(8,12): display(menu_list[i])\n",
    "print('Special Cup')\n",
    "for i in range(12,16): display(menu_list[i])\n",
    "display(button)\n",
    "display(textarea)"
   ]
  },
  {
   "cell_type": "code",
   "execution_count": null,
   "metadata": {},
   "outputs": [],
   "source": []
  }
 ],
 "metadata": {
  "kernelspec": {
   "display_name": "Python 3",
   "language": "python",
   "name": "python3"
  },
  "language_info": {
   "codemirror_mode": {
    "name": "ipython",
    "version": 3
   },
   "file_extension": ".py",
   "mimetype": "text/x-python",
   "name": "python",
   "nbconvert_exporter": "python",
   "pygments_lexer": "ipython3",
   "version": "3.7.2"
  }
 },
 "nbformat": 4,
 "nbformat_minor": 2
}
