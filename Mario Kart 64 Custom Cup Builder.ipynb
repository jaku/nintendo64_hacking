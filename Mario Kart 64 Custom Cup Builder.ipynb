{
 "cells": [
  {
   "cell_type": "markdown",
   "metadata": {},
   "source": [
    "This ipython notebook allows you to create your own custom Mario Kart 64 cups.  These codes are meant to work in the USA/NTSC version of Mario Kart 64.  They should work fine in both emulators and on real hardware.\n",
    "\n",
    "Instructions:\n",
    "Click on each of the three cells below and then pressing shift+enter to run the code in them.  Once you have activated all three cells, below the final cell you will see menus for each course in all four cups.  Modify the courses in the cups however you like and then click the \"Create Code\" button.  A Gameshark code will be generated in the text box below the button."
   ]
  },
  {
   "cell_type": "code",
   "execution_count": 2,
   "metadata": {},
   "outputs": [],
   "source": [
    "#Import python libraries\n",
    "from ipywidgets import widgets, interact\n",
    "from IPython.display import display, clear_output"
   ]
  },
  {
   "cell_type": "code",
   "execution_count": 16,
   "metadata": {},
   "outputs": [],
   "source": [
    "#Cup data\n",
    "ram_locations = ['0F2BB5', '0F2BB7', '0F2BB9', '0F2BBB',\n",
    "                '0F2BBD', '0F2BBF', '0F2BC1', '0F2BC3',\n",
    "                '0F2BC5', '0F2BC7', '0F2BC9', '0F2BCB',\n",
    "                '0F2BCD', '0F2BCF', '0F2BD1', '0F2BD3']\n",
    "course_default = ['Luigi Raceway', 'Moo Moo Farm', 'Koopa Troopa Beach', 'Kalamari Desert',\n",
    "                 \"Toad's Turnpike\", 'Frappe Snowland', 'Choco Mountain', 'Mario Raceway',\n",
    "                 'Wario Stadium', 'Sherbert Land','Royal Raceway',\"Bowser's Castle\",\n",
    "                 \"DK's Jungle Parkway\", 'Yoshi Valley', 'Banshee Boardwalk', 'Rainbow Road']\n",
    "course_number = [0, 1, 2, 3,\n",
    "                0, 1, 2, 3,\n",
    "                0, 1, 2, 3,\n",
    "                0, 1, 2, 3]\n",
    "cup_number = [0, 0, 0, 0,\n",
    "             1, 1, 1, 1,\n",
    "             2, 2, 2, 2,\n",
    "             3, 3, 3, 3]\n",
    "\n",
    "#Couse data\n",
    "course_name = ['Mario Raceway', 'Choco Mountain',\"Bowser's Castle\",\n",
    "               'Banshee Boardwalk', 'Yoshi Valley', 'Frappe Snowland',\n",
    "               'Koopa Troopa Beach', 'Royal Raceway', 'Luigi Raceway',\n",
    "               'Moo Moo Farm', \"Toad's Turnpike\", 'Kalamari Desert',\n",
    "               'Sherbert Land', 'Rainbow Road', 'Wario Stadium',\n",
    "               'Block Fort', 'Skyscraper', 'Double Deck',\n",
    "               \"DK's Jungle Parkway\", 'Big Donut']\n",
    "course_value = ['00', '01', '02',\n",
    "                '03', '04', '05',\n",
    "                '06', '07', '08',\n",
    "                '09', '0A', '0B',\n",
    "                '0C', '0D', '0E',\n",
    "                '0F', '10', '11',\n",
    "                '12', '13']\n",
    "\n"
   ]
  },
  {
   "cell_type": "code",
   "execution_count": 17,
   "metadata": {},
   "outputs": [
    {
     "name": "stdout",
     "output_type": "stream",
     "text": [
      "Mushroom Cup\n"
     ]
    },
    {
     "data": {
      "application/vnd.jupyter.widget-view+json": {
       "model_id": "e42fdb1d084c4f99a8b2188edacd0ce3",
       "version_major": 2,
       "version_minor": 0
      },
      "text/plain": [
       "Dropdown(description='Course 1', index=8, options=('Mario Raceway', 'Choco Mountain', \"Bowser's Castle\", 'Bans…"
      ]
     },
     "metadata": {},
     "output_type": "display_data"
    },
    {
     "data": {
      "application/vnd.jupyter.widget-view+json": {
       "model_id": "99778ed66fab4b759e8d93ecd7ff4fc7",
       "version_major": 2,
       "version_minor": 0
      },
      "text/plain": [
       "Dropdown(description='Course 2', index=9, options=('Mario Raceway', 'Choco Mountain', \"Bowser's Castle\", 'Bans…"
      ]
     },
     "metadata": {},
     "output_type": "display_data"
    },
    {
     "data": {
      "application/vnd.jupyter.widget-view+json": {
       "model_id": "b644b2cfcda842beb97d50fae8b808c6",
       "version_major": 2,
       "version_minor": 0
      },
      "text/plain": [
       "Dropdown(description='Course 3', index=6, options=('Mario Raceway', 'Choco Mountain', \"Bowser's Castle\", 'Bans…"
      ]
     },
     "metadata": {},
     "output_type": "display_data"
    },
    {
     "data": {
      "application/vnd.jupyter.widget-view+json": {
       "model_id": "d4fc1b7a5939442d9a5b187b3b4f90b1",
       "version_major": 2,
       "version_minor": 0
      },
      "text/plain": [
       "Dropdown(description='Course 4', index=11, options=('Mario Raceway', 'Choco Mountain', \"Bowser's Castle\", 'Ban…"
      ]
     },
     "metadata": {},
     "output_type": "display_data"
    },
    {
     "name": "stdout",
     "output_type": "stream",
     "text": [
      "Flower Cup\n"
     ]
    },
    {
     "data": {
      "application/vnd.jupyter.widget-view+json": {
       "model_id": "b1d020b3b13c4eed885d672caee75131",
       "version_major": 2,
       "version_minor": 0
      },
      "text/plain": [
       "Dropdown(description='Course 1', index=10, options=('Mario Raceway', 'Choco Mountain', \"Bowser's Castle\", 'Ban…"
      ]
     },
     "metadata": {},
     "output_type": "display_data"
    },
    {
     "data": {
      "application/vnd.jupyter.widget-view+json": {
       "model_id": "03be8a7fd77f457f9d49f1b90095c179",
       "version_major": 2,
       "version_minor": 0
      },
      "text/plain": [
       "Dropdown(description='Course 2', index=5, options=('Mario Raceway', 'Choco Mountain', \"Bowser's Castle\", 'Bans…"
      ]
     },
     "metadata": {},
     "output_type": "display_data"
    },
    {
     "data": {
      "application/vnd.jupyter.widget-view+json": {
       "model_id": "191f9f24ba934bb0b7608b6ec09545c5",
       "version_major": 2,
       "version_minor": 0
      },
      "text/plain": [
       "Dropdown(description='Course 3', index=1, options=('Mario Raceway', 'Choco Mountain', \"Bowser's Castle\", 'Bans…"
      ]
     },
     "metadata": {},
     "output_type": "display_data"
    },
    {
     "data": {
      "application/vnd.jupyter.widget-view+json": {
       "model_id": "e799faa603d04c869c70b44b64a959b5",
       "version_major": 2,
       "version_minor": 0
      },
      "text/plain": [
       "Dropdown(description='Course 4', options=('Mario Raceway', 'Choco Mountain', \"Bowser's Castle\", 'Banshee Board…"
      ]
     },
     "metadata": {},
     "output_type": "display_data"
    },
    {
     "name": "stdout",
     "output_type": "stream",
     "text": [
      "Star Cup\n"
     ]
    },
    {
     "data": {
      "application/vnd.jupyter.widget-view+json": {
       "model_id": "4790c65c1b334d41a4a11ca8194faf05",
       "version_major": 2,
       "version_minor": 0
      },
      "text/plain": [
       "Dropdown(description='Course 1', index=14, options=('Mario Raceway', 'Choco Mountain', \"Bowser's Castle\", 'Ban…"
      ]
     },
     "metadata": {},
     "output_type": "display_data"
    },
    {
     "data": {
      "application/vnd.jupyter.widget-view+json": {
       "model_id": "8b7771fe1c174a3a90e7c7f30b5d0633",
       "version_major": 2,
       "version_minor": 0
      },
      "text/plain": [
       "Dropdown(description='Course 2', index=12, options=('Mario Raceway', 'Choco Mountain', \"Bowser's Castle\", 'Ban…"
      ]
     },
     "metadata": {},
     "output_type": "display_data"
    },
    {
     "data": {
      "application/vnd.jupyter.widget-view+json": {
       "model_id": "cd592ed9dbf647a4a7b6376e3a304933",
       "version_major": 2,
       "version_minor": 0
      },
      "text/plain": [
       "Dropdown(description='Course 3', index=7, options=('Mario Raceway', 'Choco Mountain', \"Bowser's Castle\", 'Bans…"
      ]
     },
     "metadata": {},
     "output_type": "display_data"
    },
    {
     "data": {
      "application/vnd.jupyter.widget-view+json": {
       "model_id": "7b05a17940404452933150c4c68fe9a4",
       "version_major": 2,
       "version_minor": 0
      },
      "text/plain": [
       "Dropdown(description='Course 4', index=2, options=('Mario Raceway', 'Choco Mountain', \"Bowser's Castle\", 'Bans…"
      ]
     },
     "metadata": {},
     "output_type": "display_data"
    },
    {
     "name": "stdout",
     "output_type": "stream",
     "text": [
      "Special Cup\n"
     ]
    },
    {
     "data": {
      "application/vnd.jupyter.widget-view+json": {
       "model_id": "d354a868251140079914b0409c21f5a0",
       "version_major": 2,
       "version_minor": 0
      },
      "text/plain": [
       "Dropdown(description='Course 1', index=18, options=('Mario Raceway', 'Choco Mountain', \"Bowser's Castle\", 'Ban…"
      ]
     },
     "metadata": {},
     "output_type": "display_data"
    },
    {
     "data": {
      "application/vnd.jupyter.widget-view+json": {
       "model_id": "f4a24d6cc85d4f3d95c80aa807ae6efd",
       "version_major": 2,
       "version_minor": 0
      },
      "text/plain": [
       "Dropdown(description='Course 2', index=4, options=('Mario Raceway', 'Choco Mountain', \"Bowser's Castle\", 'Bans…"
      ]
     },
     "metadata": {},
     "output_type": "display_data"
    },
    {
     "data": {
      "application/vnd.jupyter.widget-view+json": {
       "model_id": "b3693ea17ad04b1ca19029be4313292e",
       "version_major": 2,
       "version_minor": 0
      },
      "text/plain": [
       "Dropdown(description='Course 3', index=3, options=('Mario Raceway', 'Choco Mountain', \"Bowser's Castle\", 'Bans…"
      ]
     },
     "metadata": {},
     "output_type": "display_data"
    },
    {
     "data": {
      "application/vnd.jupyter.widget-view+json": {
       "model_id": "bfd664a5cf1f48df8d0fdea20c42ff06",
       "version_major": 2,
       "version_minor": 0
      },
      "text/plain": [
       "Dropdown(description='Course 4', index=13, options=('Mario Raceway', 'Choco Mountain', \"Bowser's Castle\", 'Ban…"
      ]
     },
     "metadata": {},
     "output_type": "display_data"
    },
    {
     "data": {
      "application/vnd.jupyter.widget-view+json": {
       "model_id": "fb4155551e3f46b991ba15c88c31d4eb",
       "version_major": 2,
       "version_minor": 0
      },
      "text/plain": [
       "Button(description='Create Code', style=ButtonStyle())"
      ]
     },
     "metadata": {},
     "output_type": "display_data"
    },
    {
     "data": {
      "application/vnd.jupyter.widget-view+json": {
       "model_id": "6a76e58ee93f4ab899286b5f638d78ed",
       "version_major": 2,
       "version_minor": 0
      },
      "text/plain": [
       "Textarea(value='')"
      ]
     },
     "metadata": {},
     "output_type": "display_data"
    }
   ],
   "source": [
    "\n",
    "\n",
    "#Simple Cup Editor\n",
    "\n",
    "\n",
    "#Create gameshark code text\n",
    "def build_simple_gameshark_code():\n",
    "    code = ''\n",
    "    for i in range(16):\n",
    "        if simple_menu_list[i].value != course_default[i]:\n",
    "            code = code + '80'+ram_locations[i]+' 00'+course_value[simple_menu_list[i].index] + '\\n'\n",
    "    return code\n",
    "\n",
    "#When clicking button, create the gameshark code\n",
    "def on_button_clicked(b):\n",
    "    generated_gameshark_code = build_simple_gameshark_code()\n",
    "    textarea.value = generated_gameshark_code\n",
    "\n",
    "#Create menus\n",
    "simple_menu_list = [] \n",
    "for i in range(16):\n",
    "    menu = widgets.Dropdown(description='Course '+str(course_number[i]+1), options=course_name, value=course_default[i])\n",
    "    simple_menu_list.append(menu)\n",
    "    \n",
    "\n",
    "#Create button\n",
    "button = widgets.Button(description='Create Code')\n",
    "button.on_click(on_button_clicked)\n",
    "    \n",
    "#Create Text box\n",
    "textarea = widgets.Textarea()\n",
    "\n",
    "\n",
    "#Display widgets\n",
    "print('Mushroom Cup')\n",
    "for i in range(0,4): display(simple_menu_list[i])\n",
    "print('Flower Cup')\n",
    "for i in range(4,8): display(simple_menu_list[i])\n",
    "print('Star Cup')\n",
    "for i in range(8,12): display(simple_menu_list[i])\n",
    "print('Special Cup')\n",
    "for i in range(12,16): display(simple_menu_list[i])\n",
    "display(button)\n",
    "display(textarea)"
   ]
  },
  {
   "cell_type": "code",
   "execution_count": 15,
   "metadata": {},
   "outputs": [
    {
     "data": {
      "application/vnd.jupyter.widget-view+json": {
       "model_id": "99c4760275754e498a5452b99204350e",
       "version_major": 2,
       "version_minor": 0
      },
      "text/plain": [
       "VBox(children=(Label(value='Points for'), IntText(value=9, description='1st place:'), IntText(value=6, descrip…"
      ]
     },
     "metadata": {},
     "output_type": "display_data"
    },
    {
     "data": {
      "application/vnd.jupyter.widget-view+json": {
       "model_id": "a2ed0aedc9ee4040a9eaab84caaf288c",
       "version_major": 2,
       "version_minor": 0
      },
      "text/plain": [
       "HBox(children=(Button(description='Add Course', style=ButtonStyle()), Button(description='Remove Selected Cour…"
      ]
     },
     "metadata": {},
     "output_type": "display_data"
    }
   ],
   "source": [
    "#Advance cup builder\n",
    "\n",
    "#Set up button widgets\n",
    "add_course_button = widgets.Button(description='Add Course')\n",
    "remove_course_button = widgets.Button(description='Remove Selected Courses')\n",
    "hard_mode_checkbox = widgets.Checkbox(description='Hard Mode')\n",
    "random_item_checkbox = widgets.Checkbox(description='Truely Random Items')\n",
    "first_place_points_box = widgets.IntText(description='1st place:', value=9)\n",
    "second_place_points_box = widgets.IntText(description='2nd place:', value=6)\n",
    "third_place_points_box = widgets.IntText(description='3rd place:', value=3)\n",
    "forth_place_points_box = widgets.IntText(description='4th place:', value=1)\n",
    "\n",
    "#Handle button clicks    \n",
    "menu_list = []\n",
    "option_list = []\n",
    "remove_course_list = []\n",
    "hbox_list =[]\n",
    "\n",
    "def on_add_course_click(bb):\n",
    "    menu = widgets.Dropdown(description='Course '+str(len(menu_list)+1), options=['--Random--']+course_default, value=course_default[0])\n",
    "    cc_option = widgets.Dropdown(description='CC option:', options=['Default/Previous', '50 CC', '100 CC', '150 CC', 'Extra'])\n",
    "    remove_course = widgets.Checkbox(description='Remove course?')\n",
    "    hbox = widgets.HBox([menu, cc_option, remove_course])\n",
    "    display(hbox)\n",
    "    #display(menu)\n",
    "    #display(cc_option)\n",
    "    remove_course_list.append(remove_course)\n",
    "    hbox_list.append(hbox)\n",
    "    menu_list.append(menu)\n",
    "    option_list.append(cc_option)\n",
    "    \n",
    "def on_select_remove_course(cc):\n",
    "    global menu_list, option_list, remove_course_list, hbox_list\n",
    "    new_menu_list = [] #Make a copy of the original list that only holds non-removed items\n",
    "    new_option_list = []\n",
    "    new_remove_course_list = []\n",
    "    new_hbox_list = []\n",
    "    #for menu in menu_list:\n",
    "    for i in range(len(menu_list)): #Update Course numbers\n",
    "        if not remove_course_list[i].value:\n",
    "            new_hbox_list.append(hbox_list[i])\n",
    "            new_menu_list.append(menu_list[i])\n",
    "            new_option_list.append(option_list[i])\n",
    "            new_remove_course_list.append(remove_course_list[i])\n",
    "        else:\n",
    "            hbox_list[i].close()\n",
    "            menu_list[i].close()\n",
    "            option_list[i].close()\n",
    "            remove_course_list[i].close()\n",
    "    hbox_list = new_hbox_list\n",
    "    menu_list = new_menu_list\n",
    "    option_list = new_option_list\n",
    "    remove_course_list = new_remove_course_list\n",
    "    for i in range(len(menu_list)): #Update Course numbers\n",
    "        menu_list[i].description = 'Course '+str(i+1)\n",
    "    \n",
    "\n",
    "add_course_button.on_click(on_add_course_click)\n",
    "remove_course_button.on_click(on_select_remove_course)\n",
    "\n",
    "#Display widgets\n",
    "display(widgets.VBox([widgets.Label('Points for'), first_place_points_box, second_place_points_box, third_place_points_box, forth_place_points_box, hard_mode_checkbox, random_item_checkbox]))\n",
    "display(widgets.HBox([add_course_button, remove_course_button]))"
   ]
  },
  {
   "cell_type": "code",
   "execution_count": 92,
   "metadata": {},
   "outputs": [],
   "source": [
    "display?"
   ]
  },
  {
   "cell_type": "code",
   "execution_count": 19,
   "metadata": {},
   "outputs": [
    {
     "name": "stdout",
     "output_type": "stream",
     "text": [
      "Automatic pdb calling has been turned OFF\n"
     ]
    }
   ],
   "source": [
    "pdb"
   ]
  },
  {
   "cell_type": "code",
   "execution_count": 37,
   "metadata": {},
   "outputs": [],
   "source": []
  },
  {
   "cell_type": "code",
   "execution_count": null,
   "metadata": {},
   "outputs": [],
   "source": []
  }
 ],
 "metadata": {
  "kernelspec": {
   "display_name": "Python 3",
   "language": "python",
   "name": "python3"
  },
  "language_info": {
   "codemirror_mode": {
    "name": "ipython",
    "version": 3
   },
   "file_extension": ".py",
   "mimetype": "text/x-python",
   "name": "python",
   "nbconvert_exporter": "python",
   "pygments_lexer": "ipython3",
   "version": "3.7.2"
  },
  "widgets": {
   "application/vnd.jupyter.widget-state+json": {
    "state": {
     "005a72e54c2b4260933cde0761c116f7": {
      "model_module": "@jupyter-widgets/base",
      "model_module_version": "1.1.0",
      "model_name": "LayoutModel",
      "state": {}
     },
     "01f737afdcc844ca9f2e702252d5936c": {
      "model_module": "@jupyter-widgets/controls",
      "model_module_version": "1.4.0",
      "model_name": "DropdownModel",
      "state": {
       "_options_labels": [
        "Mario Raceway",
        "Choco Mountain",
        "Bowser's Castle",
        "Banshee Boardwalk",
        "Yoshi Valley",
        "Frappe Snowland",
        "Koopa Troopa Beach",
        "Royal Raceway",
        "Luigi Raceway",
        "Moo Moo Farm",
        "Toad's Turnpike",
        "Kalamari Desert",
        "Sherbert Land",
        "Rainbow Road",
        "Wario Stadium",
        "Block Fort",
        "Skyscraper",
        "Double Deck",
        "DK's Jungle Parkway",
        "Big Donut"
       ],
       "description": "Course 4",
       "index": 2,
       "layout": "IPY_MODEL_cfc5d0ba75994870bb2246817f1a5e70",
       "style": "IPY_MODEL_33f5e07e63704fc78741ca03406fd929"
      }
     },
     "020875d283214f89bfa273e47c553840": {
      "model_module": "@jupyter-widgets/base",
      "model_module_version": "1.1.0",
      "model_name": "LayoutModel",
      "state": {}
     },
     "02b5bb4a7b284c3a94a09183f08c4f60": {
      "model_module": "@jupyter-widgets/controls",
      "model_module_version": "1.4.0",
      "model_name": "DescriptionStyleModel",
      "state": {
       "description_width": ""
      }
     },
     "033f1e44d5c449a69d2c784f4e3847b7": {
      "model_module": "@jupyter-widgets/base",
      "model_module_version": "1.1.0",
      "model_name": "LayoutModel",
      "state": {}
     },
     "039baf96ba544190bffdc1e353782c21": {
      "model_module": "@jupyter-widgets/base",
      "model_module_version": "1.1.0",
      "model_name": "LayoutModel",
      "state": {}
     },
     "03a70583b97444a09d18fdc08b898482": {
      "model_module": "@jupyter-widgets/base",
      "model_module_version": "1.1.0",
      "model_name": "LayoutModel",
      "state": {}
     },
     "03be8a7fd77f457f9d49f1b90095c179": {
      "model_module": "@jupyter-widgets/controls",
      "model_module_version": "1.4.0",
      "model_name": "DropdownModel",
      "state": {
       "_options_labels": [
        "Mario Raceway",
        "Choco Mountain",
        "Bowser's Castle",
        "Banshee Boardwalk",
        "Yoshi Valley",
        "Frappe Snowland",
        "Koopa Troopa Beach",
        "Royal Raceway",
        "Luigi Raceway",
        "Moo Moo Farm",
        "Toad's Turnpike",
        "Kalamari Desert",
        "Sherbert Land",
        "Rainbow Road",
        "Wario Stadium",
        "Block Fort",
        "Skyscraper",
        "Double Deck",
        "DK's Jungle Parkway",
        "Big Donut"
       ],
       "description": "Course 2",
       "index": 5,
       "layout": "IPY_MODEL_198dbba39f6647dc977e70e0013edf3d",
       "style": "IPY_MODEL_45119308d9004211bdfa4bc2240a3a19"
      }
     },
     "043e59153ae4466fa755d983b146a4de": {
      "model_module": "@jupyter-widgets/base",
      "model_module_version": "1.1.0",
      "model_name": "LayoutModel",
      "state": {}
     },
     "04559543a1184bc6a8692092d0b0fa8d": {
      "model_module": "@jupyter-widgets/controls",
      "model_module_version": "1.4.0",
      "model_name": "DescriptionStyleModel",
      "state": {
       "description_width": ""
      }
     },
     "04aab9efc07648189e9df9300fdf3708": {
      "model_module": "@jupyter-widgets/controls",
      "model_module_version": "1.4.0",
      "model_name": "CheckboxModel",
      "state": {
       "description": "Hard Mode",
       "disabled": false,
       "layout": "IPY_MODEL_b05d3502cc924df0b9e2e61f609f1d12",
       "style": "IPY_MODEL_9c54b81f061141699a9955806fca831b",
       "value": false
      }
     },
     "0511e1f7ed1d4dbf80781adfdd7e5285": {
      "model_module": "@jupyter-widgets/controls",
      "model_module_version": "1.4.0",
      "model_name": "DescriptionStyleModel",
      "state": {
       "description_width": ""
      }
     },
     "0553b8f451c74120b49fb470d9fc3cce": {
      "model_module": "@jupyter-widgets/base",
      "model_module_version": "1.1.0",
      "model_name": "LayoutModel",
      "state": {}
     },
     "05b5f23f9cde49b289d77aafa6512a5c": {
      "model_module": "@jupyter-widgets/controls",
      "model_module_version": "1.4.0",
      "model_name": "DescriptionStyleModel",
      "state": {
       "description_width": ""
      }
     },
     "0641a9006c494a688915800ac328a49e": {
      "model_module": "@jupyter-widgets/base",
      "model_module_version": "1.1.0",
      "model_name": "LayoutModel",
      "state": {}
     },
     "06ce3c13609b4ee0be5541d4fc45a25b": {
      "model_module": "@jupyter-widgets/controls",
      "model_module_version": "1.4.0",
      "model_name": "DescriptionStyleModel",
      "state": {
       "description_width": ""
      }
     },
     "06fa2200bb754ffb9d9ee58f7f13e08f": {
      "model_module": "@jupyter-widgets/controls",
      "model_module_version": "1.4.0",
      "model_name": "IntTextModel",
      "state": {
       "description": "2nd place:",
       "layout": "IPY_MODEL_a90cc98c61244e5790d69de72e2138c3",
       "step": 1,
       "style": "IPY_MODEL_494a850782c24173bd67647531358012",
       "value": 6
      }
     },
     "07dbe467223b4fa2ba9bf13075283482": {
      "model_module": "@jupyter-widgets/base",
      "model_module_version": "1.1.0",
      "model_name": "LayoutModel",
      "state": {}
     },
     "08059a62a1ab49a28583005c83efa8f6": {
      "model_module": "@jupyter-widgets/controls",
      "model_module_version": "1.4.0",
      "model_name": "VBoxModel",
      "state": {
       "children": [
        "IPY_MODEL_f5fdec9edb214f4294797add4d53ff00",
        "IPY_MODEL_5711d2b707184af3b3bce94d8cdeda38",
        "IPY_MODEL_e5fcbf288b8b46f3bff71d91cc3c01fe",
        "IPY_MODEL_0cd9e422639943498dbae89504954b8d",
        "IPY_MODEL_a7a2bcd73b9b4dcdab52033b07c8b8fb",
        "IPY_MODEL_27a4ee48059d4722854173a7fce83392",
        "IPY_MODEL_1f4f0afb077141eab510338326450c76"
       ],
       "layout": "IPY_MODEL_9edc6bc310424711a3b62b4195df107b"
      }
     },
     "08157e4987df4bedae64583c05382141": {
      "model_module": "@jupyter-widgets/controls",
      "model_module_version": "1.4.0",
      "model_name": "DescriptionStyleModel",
      "state": {
       "description_width": ""
      }
     },
     "081a1011c4df4341937afa1ff84b0c3a": {
      "model_module": "@jupyter-widgets/controls",
      "model_module_version": "1.4.0",
      "model_name": "DescriptionStyleModel",
      "state": {
       "description_width": ""
      }
     },
     "0876bfb94bc24102b736dd30ab9ea50f": {
      "model_module": "@jupyter-widgets/controls",
      "model_module_version": "1.4.0",
      "model_name": "DropdownModel",
      "state": {
       "_options_labels": [
        "Mario Raceway",
        "Choco Mountain",
        "Bowser's Castle",
        "Banshee Boardwalk",
        "Yoshi Valley",
        "Frappe Snowland",
        "Koopa Troopa Beach",
        "Royal Raceway",
        "Luigi Raceway",
        "Moo Moo Farm",
        "Toad's Turnpike",
        "Kalamari Desert",
        "Sherbert Land",
        "Rainbow Road",
        "Wario Stadium",
        "Block Fort",
        "Skyscraper",
        "Double Deck",
        "DK's Jungle Parkway",
        "Big Donut"
       ],
       "description": "Course 2",
       "index": 4,
       "layout": "IPY_MODEL_a1981c0a9be2497ab47f629b8a8215a5",
       "style": "IPY_MODEL_99c8880cc6b64e4499e14b5a9f83641c"
      }
     },
     "08c494dcdd1e41ee9c1e3069b3320a02": {
      "model_module": "@jupyter-widgets/base",
      "model_module_version": "1.1.0",
      "model_name": "LayoutModel",
      "state": {}
     },
     "0979e9c8f0b149d5b94e49bc30f6f29e": {
      "model_module": "@jupyter-widgets/controls",
      "model_module_version": "1.4.0",
      "model_name": "DropdownModel",
      "state": {
       "_options_labels": [
        "Mario Raceway",
        "Choco Mountain",
        "Bowser's Castle",
        "Banshee Boardwalk",
        "Yoshi Valley",
        "Frappe Snowland",
        "Koopa Troopa Beach",
        "Royal Raceway",
        "Luigi Raceway",
        "Moo Moo Farm",
        "Toad's Turnpike",
        "Kalamari Desert",
        "Sherbert Land",
        "Rainbow Road",
        "Wario Stadium",
        "Block Fort",
        "Skyscraper",
        "Double Deck",
        "DK's Jungle Parkway",
        "Big Donut"
       ],
       "description": "Course 3",
       "index": 3,
       "layout": "IPY_MODEL_4574201f1d104a98b41c55f2c3e77708",
       "style": "IPY_MODEL_b517031b77224037b38470e5222f5e09"
      }
     },
     "09a576af7c194ddd959991be8bf5a8cc": {
      "model_module": "@jupyter-widgets/controls",
      "model_module_version": "1.4.0",
      "model_name": "DescriptionStyleModel",
      "state": {
       "description_width": ""
      }
     },
     "09d9cd81a500411596e1a3513c93e937": {
      "model_module": "@jupyter-widgets/controls",
      "model_module_version": "1.4.0",
      "model_name": "VBoxModel",
      "state": {
       "children": [
        "IPY_MODEL_2fbd66a52dd84176b4e1a73fabc8a927",
        "IPY_MODEL_c062404699c74d29a2d15132e4861242",
        "IPY_MODEL_06fa2200bb754ffb9d9ee58f7f13e08f",
        "IPY_MODEL_918992eeef56423b9950a964aeaf97c8",
        "IPY_MODEL_97fd8128f8d34e63b7d770936aee742e",
        "IPY_MODEL_5aa058ecb35945c897ef1e35b030d153",
        "IPY_MODEL_466cdea1fea445d1a16eded1021bdc4c"
       ],
       "layout": "IPY_MODEL_8748a1267479460499f39008d42493f6"
      }
     },
     "0a82cd060d1d4eba9bef75d40b9ad1de": {
      "model_module": "@jupyter-widgets/controls",
      "model_module_version": "1.4.0",
      "model_name": "ButtonStyleModel",
      "state": {}
     },
     "0b289c213940478fbc2e83fb62c2fd64": {
      "model_module": "@jupyter-widgets/controls",
      "model_module_version": "1.4.0",
      "model_name": "DescriptionStyleModel",
      "state": {
       "description_width": ""
      }
     },
     "0c088bd973cc419090a63ed7941edaca": {
      "model_module": "@jupyter-widgets/base",
      "model_module_version": "1.1.0",
      "model_name": "LayoutModel",
      "state": {}
     },
     "0c8de1d91ce14f1b924bb5eb28144f6c": {
      "model_module": "@jupyter-widgets/base",
      "model_module_version": "1.1.0",
      "model_name": "LayoutModel",
      "state": {}
     },
     "0c98fcf916b04936ab7c803da9b66e28": {
      "model_module": "@jupyter-widgets/controls",
      "model_module_version": "1.4.0",
      "model_name": "DescriptionStyleModel",
      "state": {
       "description_width": ""
      }
     },
     "0cd9e422639943498dbae89504954b8d": {
      "model_module": "@jupyter-widgets/controls",
      "model_module_version": "1.4.0",
      "model_name": "IntTextModel",
      "state": {
       "description": "3rd place:",
       "layout": "IPY_MODEL_c4c4fe24f1ac498594b5fe62ef8f93fd",
       "step": 1,
       "style": "IPY_MODEL_40ba372ad0ea4550a7320b717c7aa357",
       "value": 3
      }
     },
     "0e0a3aedab8c4d17bfad4b3845ea7b27": {
      "model_module": "@jupyter-widgets/base",
      "model_module_version": "1.1.0",
      "model_name": "LayoutModel",
      "state": {}
     },
     "0e679da9a9ef423aa286ad3de2cf8db6": {
      "model_module": "@jupyter-widgets/base",
      "model_module_version": "1.1.0",
      "model_name": "LayoutModel",
      "state": {}
     },
     "0e79752483ee4c8984e88661fa42cee5": {
      "model_module": "@jupyter-widgets/base",
      "model_module_version": "1.1.0",
      "model_name": "LayoutModel",
      "state": {}
     },
     "0f1486ab18544dcc8bb9f6a2e271e43c": {
      "model_module": "@jupyter-widgets/controls",
      "model_module_version": "1.4.0",
      "model_name": "ButtonStyleModel",
      "state": {}
     },
     "0f235ed19cc643d39596618412134c69": {
      "model_module": "@jupyter-widgets/controls",
      "model_module_version": "1.4.0",
      "model_name": "IntTextModel",
      "state": {
       "description": "3rd place:",
       "layout": "IPY_MODEL_8a0c38227fe24e9582b584c8b374501a",
       "step": 1,
       "style": "IPY_MODEL_c392bbfbaaed42b2bb095b86bc989195",
       "value": 3
      }
     },
     "0f5c0935245744c5962c24fcb9011752": {
      "model_module": "@jupyter-widgets/controls",
      "model_module_version": "1.4.0",
      "model_name": "DropdownModel",
      "state": {
       "_options_labels": [
        "Default/Previous",
        "50 CC",
        "100 CC",
        "150 CC",
        "Extra"
       ],
       "description": "CC option:",
       "index": 0,
       "layout": "IPY_MODEL_cff6825ab06b4ea598dc52c064e28029",
       "style": "IPY_MODEL_8ad10afc22fb468eb182547a8ca27f36"
      }
     },
     "0f8a14e91b454187a029b311035d22d6": {
      "model_module": "@jupyter-widgets/controls",
      "model_module_version": "1.4.0",
      "model_name": "ButtonModel",
      "state": {
       "description": "Add Course",
       "layout": "IPY_MODEL_373a6ba4280d4388b10ed78adbbd1186",
       "style": "IPY_MODEL_1100d823a684433fba10f7543b477b4c"
      }
     },
     "0fd847d472564fbf88011eac0f7b1ca8": {
      "model_module": "@jupyter-widgets/base",
      "model_module_version": "1.1.0",
      "model_name": "LayoutModel",
      "state": {}
     },
     "100b1515dfce436399e08b29723204e0": {
      "model_module": "@jupyter-widgets/controls",
      "model_module_version": "1.4.0",
      "model_name": "DescriptionStyleModel",
      "state": {
       "description_width": ""
      }
     },
     "10184a389930445ea190b42549d305c3": {
      "model_module": "@jupyter-widgets/base",
      "model_module_version": "1.1.0",
      "model_name": "LayoutModel",
      "state": {}
     },
     "104dff7c61884ff8a9112328554a5298": {
      "model_module": "@jupyter-widgets/base",
      "model_module_version": "1.1.0",
      "model_name": "LayoutModel",
      "state": {}
     },
     "10636c18d02947b1b9a65b8631d8a5de": {
      "model_module": "@jupyter-widgets/base",
      "model_module_version": "1.1.0",
      "model_name": "LayoutModel",
      "state": {}
     },
     "106da0b2ed544318886497f10f8e6255": {
      "model_module": "@jupyter-widgets/controls",
      "model_module_version": "1.4.0",
      "model_name": "DescriptionStyleModel",
      "state": {
       "description_width": ""
      }
     },
     "10752cd6e342417ab78534b93208a38c": {
      "model_module": "@jupyter-widgets/controls",
      "model_module_version": "1.4.0",
      "model_name": "DescriptionStyleModel",
      "state": {
       "description_width": ""
      }
     },
     "10ca4d3df0e64119a02b150b21554c03": {
      "model_module": "@jupyter-widgets/base",
      "model_module_version": "1.1.0",
      "model_name": "LayoutModel",
      "state": {}
     },
     "1100d823a684433fba10f7543b477b4c": {
      "model_module": "@jupyter-widgets/controls",
      "model_module_version": "1.4.0",
      "model_name": "ButtonStyleModel",
      "state": {}
     },
     "11dbe4a70fd141ea930271446cc7c614": {
      "model_module": "@jupyter-widgets/base",
      "model_module_version": "1.1.0",
      "model_name": "LayoutModel",
      "state": {}
     },
     "12126ff4393440a0a631a51566954fa6": {
      "model_module": "@jupyter-widgets/base",
      "model_module_version": "1.1.0",
      "model_name": "LayoutModel",
      "state": {}
     },
     "12755decba8345edadef1b0c062350be": {
      "model_module": "@jupyter-widgets/controls",
      "model_module_version": "1.4.0",
      "model_name": "DropdownModel",
      "state": {
       "_options_labels": [
        "Mario Raceway",
        "Choco Mountain",
        "Bowser's Castle",
        "Banshee Boardwalk",
        "Yoshi Valley",
        "Frappe Snowland",
        "Koopa Troopa Beach",
        "Royal Raceway",
        "Luigi Raceway",
        "Moo Moo Farm",
        "Toad's Turnpike",
        "Kalamari Desert",
        "Sherbert Land",
        "Rainbow Road",
        "Wario Stadium",
        "Block Fort",
        "Skyscraper",
        "Double Deck",
        "DK's Jungle Parkway",
        "Big Donut"
       ],
       "description": "Course 2",
       "index": 5,
       "layout": "IPY_MODEL_07dbe467223b4fa2ba9bf13075283482",
       "style": "IPY_MODEL_c1382955280f44fd914ebf8d23912c4d"
      }
     },
     "1292cd38283c402ea094b975c7bd21a7": {
      "model_module": "@jupyter-widgets/controls",
      "model_module_version": "1.4.0",
      "model_name": "IntTextModel",
      "state": {
       "description": "4th place:",
       "layout": "IPY_MODEL_907fb421347d49a994a0c8e5ef03582a",
       "step": 1,
       "style": "IPY_MODEL_28ec6a2ef5694a58b3e0277e1ce1171d",
       "value": 1
      }
     },
     "12ca9df3bf4b49ce9aa069de3debec6f": {
      "model_module": "@jupyter-widgets/controls",
      "model_module_version": "1.4.0",
      "model_name": "DescriptionStyleModel",
      "state": {
       "description_width": ""
      }
     },
     "12debd52c1544edead280c03875fc3d1": {
      "model_module": "@jupyter-widgets/controls",
      "model_module_version": "1.4.0",
      "model_name": "DescriptionStyleModel",
      "state": {
       "description_width": ""
      }
     },
     "1308e34b82304f32ba02e09f1fc3f3b9": {
      "model_module": "@jupyter-widgets/base",
      "model_module_version": "1.1.0",
      "model_name": "LayoutModel",
      "state": {}
     },
     "13e3ecf707134e4393f397423ecaaa81": {
      "model_module": "@jupyter-widgets/controls",
      "model_module_version": "1.4.0",
      "model_name": "HBoxModel",
      "state": {
       "children": [
        "IPY_MODEL_93d3ebddd6024632ba037b4b2c70af99",
        "IPY_MODEL_45dae1f162c0475685676ca35562d9ed",
        "IPY_MODEL_bf795f3577a448bbbd20c14bd98312af"
       ],
       "layout": "IPY_MODEL_29dc3bb42a3c4ea0b52deeb895dad7f6"
      }
     },
     "140449f7388145da82ff5dc602fae51c": {
      "model_module": "@jupyter-widgets/controls",
      "model_module_version": "1.4.0",
      "model_name": "DescriptionStyleModel",
      "state": {
       "description_width": ""
      }
     },
     "144aac36651d49378b6c929c40d575de": {
      "model_module": "@jupyter-widgets/controls",
      "model_module_version": "1.4.0",
      "model_name": "DescriptionStyleModel",
      "state": {
       "description_width": ""
      }
     },
     "14931ba1d343433daf90491f17725c78": {
      "model_module": "@jupyter-widgets/controls",
      "model_module_version": "1.4.0",
      "model_name": "DescriptionStyleModel",
      "state": {
       "description_width": ""
      }
     },
     "14c2a81fdc704c119256b4ad15f0a90e": {
      "model_module": "@jupyter-widgets/controls",
      "model_module_version": "1.4.0",
      "model_name": "DescriptionStyleModel",
      "state": {
       "description_width": ""
      }
     },
     "14d9f4ab821d4fc5aff4c8af4f072aa2": {
      "model_module": "@jupyter-widgets/controls",
      "model_module_version": "1.4.0",
      "model_name": "TextareaModel",
      "state": {
       "layout": "IPY_MODEL_b101005f35a94783b91bae9f9b8558dd",
       "style": "IPY_MODEL_46109d073fc94509ac9772d565539209",
       "value": "800F2BB5 0004\n800F2BB7 000A\n800F2BBF 0004\n800F2BC9 0013\n800F2BCD 0007\n800F2BCF 000A\n800F2BD1 0001\n800F2BD3 0008\n"
      }
     },
     "14db56d0dbf848cc914ab2b8aa57fba0": {
      "model_module": "@jupyter-widgets/base",
      "model_module_version": "1.1.0",
      "model_name": "LayoutModel",
      "state": {}
     },
     "14ffbd9b6b864bf281d829f4923df8bf": {
      "model_module": "@jupyter-widgets/base",
      "model_module_version": "1.1.0",
      "model_name": "LayoutModel",
      "state": {}
     },
     "152036f266f842b9a4c1cf424ce032ec": {
      "model_module": "@jupyter-widgets/controls",
      "model_module_version": "1.4.0",
      "model_name": "HBoxModel",
      "state": {
       "children": [
        "IPY_MODEL_5d7055e60f1c4b29aa690635695541e5",
        "IPY_MODEL_5be6109a68474395a58cc56d57cb415a"
       ],
       "layout": "IPY_MODEL_b598e4753ec749cfbd83922231a80af1"
      }
     },
     "16808b598ee44417ad4494923145bf7a": {
      "model_module": "@jupyter-widgets/controls",
      "model_module_version": "1.4.0",
      "model_name": "IntTextModel",
      "state": {
       "description": "3rd place:",
       "layout": "IPY_MODEL_e5bb273f59b2457ab08b4ba51f85a5b3",
       "step": 1,
       "style": "IPY_MODEL_be21324d71114a37a6be6d15873e2334",
       "value": 3
      }
     },
     "16a20fd1b03b44349f94627474dee5d4": {
      "model_module": "@jupyter-widgets/controls",
      "model_module_version": "1.4.0",
      "model_name": "ButtonModel",
      "state": {
       "description": "Add Course",
       "layout": "IPY_MODEL_8f88a592581c429b995b890c4fa2d663",
       "style": "IPY_MODEL_45954d8d68544e30a2018ed29eb90825"
      }
     },
     "1729dc1d69934e929524d6562634b8bf": {
      "model_module": "@jupyter-widgets/controls",
      "model_module_version": "1.4.0",
      "model_name": "HBoxModel",
      "state": {
       "children": [
        "IPY_MODEL_16a20fd1b03b44349f94627474dee5d4",
        "IPY_MODEL_71b36e4acdc2410f84d83a3474028768"
       ],
       "layout": "IPY_MODEL_3af2c8d3821c44d9a8ded62949009994"
      }
     },
     "180aaeae2ccb41cb829b1efb71b7274c": {
      "model_module": "@jupyter-widgets/controls",
      "model_module_version": "1.4.0",
      "model_name": "HBoxModel",
      "state": {
       "children": [
        "IPY_MODEL_a191599527c740898799db12e9732bd1",
        "IPY_MODEL_ada1f807e1e249afb8e3744b4e164ccc"
       ],
       "layout": "IPY_MODEL_8add97e2a22f490c82a2ef9486686e4d"
      }
     },
     "188989908ead4f3390ac547458aa6153": {
      "model_module": "@jupyter-widgets/controls",
      "model_module_version": "1.4.0",
      "model_name": "ButtonStyleModel",
      "state": {}
     },
     "18b6d2283743481aa61f333dc932ff5c": {
      "model_module": "@jupyter-widgets/base",
      "model_module_version": "1.1.0",
      "model_name": "LayoutModel",
      "state": {}
     },
     "18e0ae153e4f4d59a418b8554e7b1136": {
      "model_module": "@jupyter-widgets/base",
      "model_module_version": "1.1.0",
      "model_name": "LayoutModel",
      "state": {}
     },
     "19082743d073463cb04ee245f7375ac0": {
      "model_module": "@jupyter-widgets/controls",
      "model_module_version": "1.4.0",
      "model_name": "DescriptionStyleModel",
      "state": {
       "description_width": ""
      }
     },
     "191f9f24ba934bb0b7608b6ec09545c5": {
      "model_module": "@jupyter-widgets/controls",
      "model_module_version": "1.4.0",
      "model_name": "DropdownModel",
      "state": {
       "_options_labels": [
        "Mario Raceway",
        "Choco Mountain",
        "Bowser's Castle",
        "Banshee Boardwalk",
        "Yoshi Valley",
        "Frappe Snowland",
        "Koopa Troopa Beach",
        "Royal Raceway",
        "Luigi Raceway",
        "Moo Moo Farm",
        "Toad's Turnpike",
        "Kalamari Desert",
        "Sherbert Land",
        "Rainbow Road",
        "Wario Stadium",
        "Block Fort",
        "Skyscraper",
        "Double Deck",
        "DK's Jungle Parkway",
        "Big Donut"
       ],
       "description": "Course 3",
       "index": 1,
       "layout": "IPY_MODEL_7f44a2ef56644924905876aea8691054",
       "style": "IPY_MODEL_e98f860659644eb1b7d16e864825208a"
      }
     },
     "194684f2d97c4bd7820f81df7c585dff": {
      "model_module": "@jupyter-widgets/controls",
      "model_module_version": "1.4.0",
      "model_name": "DescriptionStyleModel",
      "state": {
       "description_width": ""
      }
     },
     "196bd44efeaf457d940346fc6fffe26f": {
      "model_module": "@jupyter-widgets/base",
      "model_module_version": "1.1.0",
      "model_name": "LayoutModel",
      "state": {}
     },
     "198dbba39f6647dc977e70e0013edf3d": {
      "model_module": "@jupyter-widgets/base",
      "model_module_version": "1.1.0",
      "model_name": "LayoutModel",
      "state": {}
     },
     "1a100a8b6d0e4a138de4665917e0a8ed": {
      "model_module": "@jupyter-widgets/controls",
      "model_module_version": "1.4.0",
      "model_name": "LabelModel",
      "state": {
       "layout": "IPY_MODEL_6fe627d2b4cf48ad8b088732898763cf",
       "style": "IPY_MODEL_05b5f23f9cde49b289d77aafa6512a5c",
       "value": "Points for"
      }
     },
     "1a1dc9dab3dc49fd94f6c3ab8fdc2744": {
      "model_module": "@jupyter-widgets/controls",
      "model_module_version": "1.4.0",
      "model_name": "DescriptionStyleModel",
      "state": {
       "description_width": ""
      }
     },
     "1b71e8f5b3ed49e2ad3a6b4fc35361be": {
      "model_module": "@jupyter-widgets/base",
      "model_module_version": "1.1.0",
      "model_name": "LayoutModel",
      "state": {}
     },
     "1c105bb9fe20402fadb3d7dff003d482": {
      "model_module": "@jupyter-widgets/base",
      "model_module_version": "1.1.0",
      "model_name": "LayoutModel",
      "state": {}
     },
     "1d2a77ae85db4eba82f9f67b46505e1f": {
      "model_module": "@jupyter-widgets/controls",
      "model_module_version": "1.4.0",
      "model_name": "CheckboxModel",
      "state": {
       "description": "Truely Random Items",
       "disabled": false,
       "layout": "IPY_MODEL_60106ffcce2e4b45bf2a613f8bb71706",
       "style": "IPY_MODEL_eaf91fbf34ad46c48f411e70ebfd1ad5",
       "value": false
      }
     },
     "1d9fbe705fe34a97a48a6a5e26385b5d": {
      "model_module": "@jupyter-widgets/controls",
      "model_module_version": "1.4.0",
      "model_name": "DescriptionStyleModel",
      "state": {
       "description_width": ""
      }
     },
     "1db07a0aea7e45118d339c6f8b27410f": {
      "model_module": "@jupyter-widgets/controls",
      "model_module_version": "1.4.0",
      "model_name": "DescriptionStyleModel",
      "state": {
       "description_width": ""
      }
     },
     "1dd0c4f4f7924f9696b421b7621c9d7d": {
      "model_module": "@jupyter-widgets/base",
      "model_module_version": "1.1.0",
      "model_name": "LayoutModel",
      "state": {}
     },
     "1e8823eabfca4c33b51a69c5eb84d9b1": {
      "model_module": "@jupyter-widgets/base",
      "model_module_version": "1.1.0",
      "model_name": "LayoutModel",
      "state": {}
     },
     "1ecaeafdf0e44525bfceee4f531be36e": {
      "model_module": "@jupyter-widgets/controls",
      "model_module_version": "1.4.0",
      "model_name": "DescriptionStyleModel",
      "state": {
       "description_width": ""
      }
     },
     "1f4f0afb077141eab510338326450c76": {
      "model_module": "@jupyter-widgets/controls",
      "model_module_version": "1.4.0",
      "model_name": "CheckboxModel",
      "state": {
       "description": "Truely Random Items",
       "disabled": false,
       "layout": "IPY_MODEL_36321d2bd0364796afe1d72d0ffcf860",
       "style": "IPY_MODEL_4fb11b3844804174a2eefdd05fb1d6f2",
       "value": false
      }
     },
     "1f6ee38d5f594403b32d71eae37194e2": {
      "model_module": "@jupyter-widgets/controls",
      "model_module_version": "1.4.0",
      "model_name": "ButtonModel",
      "state": {
       "description": "Remove Selected Courses",
       "layout": "IPY_MODEL_48242741cbc04a50b2d5d4779ecb4c2b",
       "style": "IPY_MODEL_30fdd86481ef4f8bb9216a7403369475"
      }
     },
     "1fa3924e310d4076a1df2ea37377d56d": {
      "model_module": "@jupyter-widgets/controls",
      "model_module_version": "1.4.0",
      "model_name": "ButtonStyleModel",
      "state": {}
     },
     "200546e452974641b737bf1a952b152f": {
      "model_module": "@jupyter-widgets/controls",
      "model_module_version": "1.4.0",
      "model_name": "DescriptionStyleModel",
      "state": {
       "description_width": ""
      }
     },
     "20642a868a1f475c8e69e243ec728c09": {
      "model_module": "@jupyter-widgets/controls",
      "model_module_version": "1.4.0",
      "model_name": "CheckboxModel",
      "state": {
       "description": "Remove course?",
       "disabled": false,
       "layout": "IPY_MODEL_10ca4d3df0e64119a02b150b21554c03",
       "style": "IPY_MODEL_08157e4987df4bedae64583c05382141",
       "value": false
      }
     },
     "209a5628c5114a7397f110c198371da4": {
      "model_module": "@jupyter-widgets/base",
      "model_module_version": "1.1.0",
      "model_name": "LayoutModel",
      "state": {}
     },
     "20d57167f0f14a7088b5a9b46aab0107": {
      "model_module": "@jupyter-widgets/controls",
      "model_module_version": "1.4.0",
      "model_name": "DropdownModel",
      "state": {
       "_options_labels": [
        "Mario Raceway",
        "Choco Mountain",
        "Bowser's Castle",
        "Banshee Boardwalk",
        "Yoshi Valley",
        "Frappe Snowland",
        "Koopa Troopa Beach",
        "Royal Raceway",
        "Luigi Raceway",
        "Moo Moo Farm",
        "Toad's Turnpike",
        "Kalamari Desert",
        "Sherbert Land",
        "Rainbow Road",
        "Wario Stadium",
        "Block Fort",
        "Skyscraper",
        "Double Deck",
        "DK's Jungle Parkway",
        "Big Donut"
       ],
       "description": "Course 1",
       "index": 4,
       "layout": "IPY_MODEL_6fe977c862114b7294bfa45aa283bb79",
       "style": "IPY_MODEL_e626087cbdec42e1853271bad6031c0e"
      }
     },
     "2160e5b461564fe9a7bb83994144bc09": {
      "model_module": "@jupyter-widgets/controls",
      "model_module_version": "1.4.0",
      "model_name": "TextareaModel",
      "state": {
       "layout": "IPY_MODEL_2a76e6c7e97645a4956d952e6c172b47",
       "style": "IPY_MODEL_c7c075cd5c0148729a263d9e605f3161"
      }
     },
     "216b5778ca504f9faff1c1994e30ee75": {
      "model_module": "@jupyter-widgets/base",
      "model_module_version": "1.1.0",
      "model_name": "LayoutModel",
      "state": {}
     },
     "21a7a1f5938241a1944df1d2adc24caf": {
      "model_module": "@jupyter-widgets/base",
      "model_module_version": "1.1.0",
      "model_name": "LayoutModel",
      "state": {}
     },
     "21c8d2c3aeca4895a0de1a75b578b96f": {
      "model_module": "@jupyter-widgets/controls",
      "model_module_version": "1.4.0",
      "model_name": "DescriptionStyleModel",
      "state": {
       "description_width": ""
      }
     },
     "2358a039e4b94f779c044d9913a68eda": {
      "model_module": "@jupyter-widgets/base",
      "model_module_version": "1.1.0",
      "model_name": "LayoutModel",
      "state": {}
     },
     "2393504b836c45f693285b5c05cffb05": {
      "model_module": "@jupyter-widgets/controls",
      "model_module_version": "1.4.0",
      "model_name": "ButtonStyleModel",
      "state": {}
     },
     "23bc409526b64af980db615cdef350a4": {
      "model_module": "@jupyter-widgets/controls",
      "model_module_version": "1.4.0",
      "model_name": "DescriptionStyleModel",
      "state": {
       "description_width": ""
      }
     },
     "23e8b9fe1a474d09a9089a52920ce860": {
      "model_module": "@jupyter-widgets/controls",
      "model_module_version": "1.4.0",
      "model_name": "DropdownModel",
      "state": {
       "_options_labels": [
        "Mario Raceway",
        "Choco Mountain",
        "Bowser's Castle",
        "Banshee Boardwalk",
        "Yoshi Valley",
        "Frappe Snowland",
        "Koopa Troopa Beach",
        "Royal Raceway",
        "Luigi Raceway",
        "Moo Moo Farm",
        "Toad's Turnpike",
        "Kalamari Desert",
        "Sherbert Land",
        "Rainbow Road",
        "Wario Stadium",
        "Block Fort",
        "Skyscraper",
        "Double Deck",
        "DK's Jungle Parkway",
        "Big Donut"
       ],
       "description": "Course 3",
       "index": 3,
       "layout": "IPY_MODEL_a57bdcb57a1442ab81ddf6b9c44e1ed3",
       "style": "IPY_MODEL_c817ea965ce4418081e54bfcae92eaf3"
      }
     },
     "23ecf44cb0fd43d38b77bd357569590b": {
      "model_module": "@jupyter-widgets/controls",
      "model_module_version": "1.4.0",
      "model_name": "DescriptionStyleModel",
      "state": {
       "description_width": ""
      }
     },
     "2457aee7fb3c4fa5851428a347525736": {
      "model_module": "@jupyter-widgets/base",
      "model_module_version": "1.1.0",
      "model_name": "LayoutModel",
      "state": {}
     },
     "24990fdb666743a8ababc60f1b1a4009": {
      "model_module": "@jupyter-widgets/controls",
      "model_module_version": "1.4.0",
      "model_name": "IntTextModel",
      "state": {
       "description": "3rd place:",
       "layout": "IPY_MODEL_3a3006d9273943a4b6e2407547b39521",
       "step": 1,
       "style": "IPY_MODEL_c4d215adf59d469d9f32ce265e51d42f",
       "value": 3
      }
     },
     "2506f3dd1b3e48f9b100a9764c1e87a3": {
      "model_module": "@jupyter-widgets/base",
      "model_module_version": "1.1.0",
      "model_name": "LayoutModel",
      "state": {}
     },
     "252e29ee80674d10b6c40110b3a73fec": {
      "model_module": "@jupyter-widgets/controls",
      "model_module_version": "1.4.0",
      "model_name": "DescriptionStyleModel",
      "state": {
       "description_width": ""
      }
     },
     "2566bc6b9fe1481aadfb7d9d6efaa89d": {
      "model_module": "@jupyter-widgets/base",
      "model_module_version": "1.1.0",
      "model_name": "LayoutModel",
      "state": {}
     },
     "261d1415621e4da2ace26444a467eab5": {
      "model_module": "@jupyter-widgets/controls",
      "model_module_version": "1.4.0",
      "model_name": "CheckboxModel",
      "state": {
       "description": "Remove course?",
       "disabled": false,
       "layout": "IPY_MODEL_5d27a8c4511f476aa69fb59b1852013c",
       "style": "IPY_MODEL_7e8fda79c7e14bffb30cf363082c85ee",
       "value": true
      }
     },
     "26edd1d33b4e4cb9aae04a49499d87c3": {
      "model_module": "@jupyter-widgets/controls",
      "model_module_version": "1.4.0",
      "model_name": "DropdownModel",
      "state": {
       "_options_labels": [
        "Mario Raceway",
        "Choco Mountain",
        "Bowser's Castle",
        "Banshee Boardwalk",
        "Yoshi Valley",
        "Frappe Snowland",
        "Koopa Troopa Beach",
        "Royal Raceway",
        "Luigi Raceway",
        "Moo Moo Farm",
        "Toad's Turnpike",
        "Kalamari Desert",
        "Sherbert Land",
        "Rainbow Road",
        "Wario Stadium",
        "Block Fort",
        "Skyscraper",
        "Double Deck",
        "DK's Jungle Parkway",
        "Big Donut"
       ],
       "description": "Course 2",
       "index": 5,
       "layout": "IPY_MODEL_a51a04018104489aaec844a99a7ac13f",
       "style": "IPY_MODEL_c77235a1e1e0406e9bbd5144a5f538d9"
      }
     },
     "27796a587744418c94f4f25e59274e46": {
      "model_module": "@jupyter-widgets/controls",
      "model_module_version": "1.4.0",
      "model_name": "DescriptionStyleModel",
      "state": {
       "description_width": ""
      }
     },
     "279383fbc1f842aab27e28f459899f92": {
      "model_module": "@jupyter-widgets/controls",
      "model_module_version": "1.4.0",
      "model_name": "DropdownModel",
      "state": {
       "_options_labels": [
        "Mario Raceway",
        "Choco Mountain",
        "Bowser's Castle",
        "Banshee Boardwalk",
        "Yoshi Valley",
        "Frappe Snowland",
        "Koopa Troopa Beach",
        "Royal Raceway",
        "Luigi Raceway",
        "Moo Moo Farm",
        "Toad's Turnpike",
        "Kalamari Desert",
        "Sherbert Land",
        "Rainbow Road",
        "Wario Stadium",
        "Block Fort",
        "Skyscraper",
        "Double Deck",
        "DK's Jungle Parkway",
        "Big Donut"
       ],
       "description": "Course 2",
       "index": 12,
       "layout": "IPY_MODEL_53fcddbdc62b42e083c798d68dc27871",
       "style": "IPY_MODEL_645de1de4dc5419d83542f6a2944041c"
      }
     },
     "27a4ee48059d4722854173a7fce83392": {
      "model_module": "@jupyter-widgets/controls",
      "model_module_version": "1.4.0",
      "model_name": "CheckboxModel",
      "state": {
       "description": "Hard Mode",
       "disabled": false,
       "layout": "IPY_MODEL_5b7db49bff1a4d4e8c66e6fd61449ace",
       "style": "IPY_MODEL_acd632a00d4e45c3a1001bd21eedd988",
       "value": false
      }
     },
     "27c6e941532a478bbf3c616438e709f6": {
      "model_module": "@jupyter-widgets/controls",
      "model_module_version": "1.4.0",
      "model_name": "DropdownModel",
      "state": {
       "_options_labels": [
        "Mario Raceway",
        "Choco Mountain",
        "Bowser's Castle",
        "Banshee Boardwalk",
        "Yoshi Valley",
        "Frappe Snowland",
        "Koopa Troopa Beach",
        "Royal Raceway",
        "Luigi Raceway",
        "Moo Moo Farm",
        "Toad's Turnpike",
        "Kalamari Desert",
        "Sherbert Land",
        "Rainbow Road",
        "Wario Stadium",
        "Block Fort",
        "Skyscraper",
        "Double Deck",
        "DK's Jungle Parkway",
        "Big Donut"
       ],
       "description": "Course 1",
       "index": 14,
       "layout": "IPY_MODEL_56fc73a5e33e4b3aaedae8b447fff9f7",
       "style": "IPY_MODEL_664dc41a5f7247f8a4e9af522459b4ca"
      }
     },
     "2808567bd2ae4dca9404bd622b4c70ae": {
      "model_module": "@jupyter-widgets/controls",
      "model_module_version": "1.4.0",
      "model_name": "DropdownModel",
      "state": {
       "_options_labels": [
        "Mario Raceway",
        "Choco Mountain",
        "Bowser's Castle",
        "Banshee Boardwalk",
        "Yoshi Valley",
        "Frappe Snowland",
        "Koopa Troopa Beach",
        "Royal Raceway",
        "Luigi Raceway",
        "Moo Moo Farm",
        "Toad's Turnpike",
        "Kalamari Desert",
        "Sherbert Land",
        "Rainbow Road",
        "Wario Stadium",
        "Block Fort",
        "Skyscraper",
        "Double Deck",
        "DK's Jungle Parkway",
        "Big Donut"
       ],
       "description": "Course 1",
       "index": 18,
       "layout": "IPY_MODEL_316e9ee78378400cae91b8fa05903416",
       "style": "IPY_MODEL_cdd4e08804b54e3dacb5e5c6a0269849"
      }
     },
     "280b3a08c8ab437fbe5b8f9dc0552c24": {
      "model_module": "@jupyter-widgets/base",
      "model_module_version": "1.1.0",
      "model_name": "LayoutModel",
      "state": {}
     },
     "281d500b81174af1941103bd6baa3cc6": {
      "model_module": "@jupyter-widgets/base",
      "model_module_version": "1.1.0",
      "model_name": "LayoutModel",
      "state": {}
     },
     "285318a757344da5a5e1137e80a8e027": {
      "model_module": "@jupyter-widgets/controls",
      "model_module_version": "1.4.0",
      "model_name": "DescriptionStyleModel",
      "state": {
       "description_width": ""
      }
     },
     "28ec6a2ef5694a58b3e0277e1ce1171d": {
      "model_module": "@jupyter-widgets/controls",
      "model_module_version": "1.4.0",
      "model_name": "DescriptionStyleModel",
      "state": {
       "description_width": ""
      }
     },
     "296f585fbc6845e9a966e678ea54c468": {
      "model_module": "@jupyter-widgets/controls",
      "model_module_version": "1.4.0",
      "model_name": "ButtonModel",
      "state": {
       "description": "Create Code",
       "layout": "IPY_MODEL_39b0f4b447044e14ad71f0d1159b7674",
       "style": "IPY_MODEL_d922b4ad85af40c59537d84e746347a1"
      }
     },
     "29dc3bb42a3c4ea0b52deeb895dad7f6": {
      "model_module": "@jupyter-widgets/base",
      "model_module_version": "1.1.0",
      "model_name": "LayoutModel",
      "state": {}
     },
     "2a76e6c7e97645a4956d952e6c172b47": {
      "model_module": "@jupyter-widgets/base",
      "model_module_version": "1.1.0",
      "model_name": "LayoutModel",
      "state": {}
     },
     "2aa80137c4b145d0a7e76eefd33ada17": {
      "model_module": "@jupyter-widgets/base",
      "model_module_version": "1.1.0",
      "model_name": "LayoutModel",
      "state": {}
     },
     "2ae402fa10a84b32b0af1c75aa4164cf": {
      "model_module": "@jupyter-widgets/controls",
      "model_module_version": "1.4.0",
      "model_name": "DescriptionStyleModel",
      "state": {
       "description_width": ""
      }
     },
     "2b423ff30b324011bd98463252c40284": {
      "model_module": "@jupyter-widgets/controls",
      "model_module_version": "1.4.0",
      "model_name": "DropdownModel",
      "state": {
       "_options_labels": [
        "Mario Raceway",
        "Choco Mountain",
        "Bowser's Castle",
        "Banshee Boardwalk",
        "Yoshi Valley",
        "Frappe Snowland",
        "Koopa Troopa Beach",
        "Royal Raceway",
        "Luigi Raceway",
        "Moo Moo Farm",
        "Toad's Turnpike",
        "Kalamari Desert",
        "Sherbert Land",
        "Rainbow Road",
        "Wario Stadium",
        "Block Fort",
        "Skyscraper",
        "Double Deck",
        "DK's Jungle Parkway",
        "Big Donut"
       ],
       "description": "Course 3",
       "index": 7,
       "layout": "IPY_MODEL_b0939bbceaf247f596d6d2854fc3ee80",
       "style": "IPY_MODEL_96777d9ed863456eaf10f6cf3ed9103e"
      }
     },
     "2bba2ee0f75b4eaaaedc49b6c6eaf7c5": {
      "model_module": "@jupyter-widgets/controls",
      "model_module_version": "1.4.0",
      "model_name": "DescriptionStyleModel",
      "state": {
       "description_width": ""
      }
     },
     "2bbac5c72d1947278cb805dc2991fdee": {
      "model_module": "@jupyter-widgets/controls",
      "model_module_version": "1.4.0",
      "model_name": "DropdownModel",
      "state": {
       "_options_labels": [
        "Mario Raceway",
        "Choco Mountain",
        "Bowser's Castle",
        "Banshee Boardwalk",
        "Yoshi Valley",
        "Frappe Snowland",
        "Koopa Troopa Beach",
        "Royal Raceway",
        "Luigi Raceway",
        "Moo Moo Farm",
        "Toad's Turnpike",
        "Kalamari Desert",
        "Sherbert Land",
        "Rainbow Road",
        "Wario Stadium",
        "Block Fort",
        "Skyscraper",
        "Double Deck",
        "DK's Jungle Parkway",
        "Big Donut"
       ],
       "description": "Course 1",
       "index": 14,
       "layout": "IPY_MODEL_d988751a45f64c2d9837c11416007087",
       "style": "IPY_MODEL_194684f2d97c4bd7820f81df7c585dff"
      }
     },
     "2c28873bbf364803adb4efbe9bf7c9a1": {
      "model_module": "@jupyter-widgets/base",
      "model_module_version": "1.1.0",
      "model_name": "LayoutModel",
      "state": {}
     },
     "2c43d81bb03543ffa6fe08d026a56130": {
      "model_module": "@jupyter-widgets/base",
      "model_module_version": "1.1.0",
      "model_name": "LayoutModel",
      "state": {}
     },
     "2d0214c7a0504243849eeebd4d681b07": {
      "model_module": "@jupyter-widgets/controls",
      "model_module_version": "1.4.0",
      "model_name": "DescriptionStyleModel",
      "state": {
       "description_width": ""
      }
     },
     "2d80cff43a4e441c832f287f8375a987": {
      "model_module": "@jupyter-widgets/base",
      "model_module_version": "1.1.0",
      "model_name": "LayoutModel",
      "state": {}
     },
     "2dfc409dddae498b9b7c331ae2fa8950": {
      "model_module": "@jupyter-widgets/controls",
      "model_module_version": "1.4.0",
      "model_name": "DescriptionStyleModel",
      "state": {
       "description_width": ""
      }
     },
     "2fbd66a52dd84176b4e1a73fabc8a927": {
      "model_module": "@jupyter-widgets/controls",
      "model_module_version": "1.4.0",
      "model_name": "LabelModel",
      "state": {
       "layout": "IPY_MODEL_dcf302a2fe464d158407ba5933b0bc35",
       "style": "IPY_MODEL_c2ed0eb027b64c16a6111b3062c2f1d9",
       "value": "Points for"
      }
     },
     "30192aeeabdd46adb8f4744ff586caa6": {
      "model_module": "@jupyter-widgets/controls",
      "model_module_version": "1.4.0",
      "model_name": "DropdownModel",
      "state": {
       "_options_labels": [
        "Mario Raceway",
        "Choco Mountain",
        "Bowser's Castle",
        "Banshee Boardwalk",
        "Yoshi Valley",
        "Frappe Snowland",
        "Koopa Troopa Beach",
        "Royal Raceway",
        "Luigi Raceway",
        "Moo Moo Farm",
        "Toad's Turnpike",
        "Kalamari Desert",
        "Sherbert Land",
        "Rainbow Road",
        "Wario Stadium",
        "Block Fort",
        "Skyscraper",
        "Double Deck",
        "DK's Jungle Parkway",
        "Big Donut"
       ],
       "description": "Course 1",
       "index": 14,
       "layout": "IPY_MODEL_a886f2f5907b4ee89a40b93297353829",
       "style": "IPY_MODEL_9d721a21abb34710838fc756290a9899"
      }
     },
     "30196ab3586a4f17b3f152e593b1d4b2": {
      "model_module": "@jupyter-widgets/controls",
      "model_module_version": "1.4.0",
      "model_name": "DescriptionStyleModel",
      "state": {
       "description_width": ""
      }
     },
     "30f89299809c4c60af6c5e2605c2a023": {
      "model_module": "@jupyter-widgets/controls",
      "model_module_version": "1.4.0",
      "model_name": "DescriptionStyleModel",
      "state": {
       "description_width": ""
      }
     },
     "30fdd86481ef4f8bb9216a7403369475": {
      "model_module": "@jupyter-widgets/controls",
      "model_module_version": "1.4.0",
      "model_name": "ButtonStyleModel",
      "state": {}
     },
     "3141c48bb72c46f7b070eefef56ead30": {
      "model_module": "@jupyter-widgets/base",
      "model_module_version": "1.1.0",
      "model_name": "LayoutModel",
      "state": {}
     },
     "3148bdcf44b94e0889927d8329bb9b40": {
      "model_module": "@jupyter-widgets/controls",
      "model_module_version": "1.4.0",
      "model_name": "IntTextModel",
      "state": {
       "description": "2nd place:",
       "layout": "IPY_MODEL_e651870b7d6a4a7584675840b2654463",
       "step": 1,
       "style": "IPY_MODEL_d47bf842c7424abf81cb2e6ce8921b17",
       "value": 6
      }
     },
     "314a781c6bc940968ddb241986cfc1c8": {
      "model_module": "@jupyter-widgets/controls",
      "model_module_version": "1.4.0",
      "model_name": "DescriptionStyleModel",
      "state": {
       "description_width": ""
      }
     },
     "316e9ee78378400cae91b8fa05903416": {
      "model_module": "@jupyter-widgets/base",
      "model_module_version": "1.1.0",
      "model_name": "LayoutModel",
      "state": {}
     },
     "31b74dd7208c4d78b2238e11e1c40989": {
      "model_module": "@jupyter-widgets/controls",
      "model_module_version": "1.4.0",
      "model_name": "CheckboxModel",
      "state": {
       "description": "Remove course?",
       "disabled": false,
       "layout": "IPY_MODEL_cee0d607646f496584b5a5bf2f495982",
       "style": "IPY_MODEL_ded92eedeed4429bbf209790d6bd8ac6",
       "value": true
      }
     },
     "330fbf02626a4157894990fdf1faf76c": {
      "model_module": "@jupyter-widgets/controls",
      "model_module_version": "1.4.0",
      "model_name": "IntTextModel",
      "state": {
       "description": "1st place:",
       "layout": "IPY_MODEL_c381a78bbc584e759eb26ee4fa973d79",
       "step": 1,
       "style": "IPY_MODEL_ccf957f2072e41dc8acc4405cd5873c4",
       "value": 9
      }
     },
     "333221170117410db034bac6c5f5e619": {
      "model_module": "@jupyter-widgets/controls",
      "model_module_version": "1.4.0",
      "model_name": "ButtonStyleModel",
      "state": {}
     },
     "33f5e07e63704fc78741ca03406fd929": {
      "model_module": "@jupyter-widgets/controls",
      "model_module_version": "1.4.0",
      "model_name": "DescriptionStyleModel",
      "state": {
       "description_width": ""
      }
     },
     "347116b488f644859102f327bfbf75c4": {
      "model_module": "@jupyter-widgets/base",
      "model_module_version": "1.1.0",
      "model_name": "LayoutModel",
      "state": {}
     },
     "349443467a704809ae3be6b04ed98af9": {
      "model_module": "@jupyter-widgets/controls",
      "model_module_version": "1.4.0",
      "model_name": "HBoxModel",
      "state": {
       "children": [
        "IPY_MODEL_5b1bdbb703a949ed8fbdaed9324fd253",
        "IPY_MODEL_daf07bf5c23a48ef82e2959474f4ec7a"
       ],
       "layout": "IPY_MODEL_601576b4d995457cbc291ca36ced6d83"
      }
     },
     "34f4cfcffd9d492bbd05dd56322734d7": {
      "model_module": "@jupyter-widgets/controls",
      "model_module_version": "1.4.0",
      "model_name": "DescriptionStyleModel",
      "state": {
       "description_width": ""
      }
     },
     "3506055171724eebadee1d25e7f71924": {
      "model_module": "@jupyter-widgets/base",
      "model_module_version": "1.1.0",
      "model_name": "LayoutModel",
      "state": {}
     },
     "3590c66e75ac43bf92e307a830e29af4": {
      "model_module": "@jupyter-widgets/controls",
      "model_module_version": "1.4.0",
      "model_name": "CheckboxModel",
      "state": {
       "description": "Remove course?",
       "disabled": false,
       "layout": "IPY_MODEL_84c26f2d74b54d33971cec37018abee6",
       "style": "IPY_MODEL_5e0a469ec7dd4f7c8f4c0fe25dbe9098",
       "value": true
      }
     },
     "35b5945a37b64cc08508bf61e33bf2d7": {
      "model_module": "@jupyter-widgets/controls",
      "model_module_version": "1.4.0",
      "model_name": "DescriptionStyleModel",
      "state": {
       "description_width": ""
      }
     },
     "36321d2bd0364796afe1d72d0ffcf860": {
      "model_module": "@jupyter-widgets/base",
      "model_module_version": "1.1.0",
      "model_name": "LayoutModel",
      "state": {}
     },
     "363379c74c134f2db7ef2fdb3e43a8cb": {
      "model_module": "@jupyter-widgets/controls",
      "model_module_version": "1.4.0",
      "model_name": "DescriptionStyleModel",
      "state": {
       "description_width": ""
      }
     },
     "36f11d3252214521ba081c44386cfc45": {
      "model_module": "@jupyter-widgets/controls",
      "model_module_version": "1.4.0",
      "model_name": "IntTextModel",
      "state": {
       "description": "2nd place:",
       "layout": "IPY_MODEL_f763374962a9404992baee381ef15ef7",
       "step": 1,
       "style": "IPY_MODEL_917e38f6c22149d8b9480fa11fe4f943",
       "value": 6
      }
     },
     "373a6ba4280d4388b10ed78adbbd1186": {
      "model_module": "@jupyter-widgets/base",
      "model_module_version": "1.1.0",
      "model_name": "LayoutModel",
      "state": {}
     },
     "375351c785bf4bf6ba27c55a6357f5c0": {
      "model_module": "@jupyter-widgets/base",
      "model_module_version": "1.1.0",
      "model_name": "LayoutModel",
      "state": {}
     },
     "376d5f40fe2242acaa7780a63a2d1bc6": {
      "model_module": "@jupyter-widgets/base",
      "model_module_version": "1.1.0",
      "model_name": "LayoutModel",
      "state": {}
     },
     "377b8f886366437e969b2b3a4abc5862": {
      "model_module": "@jupyter-widgets/controls",
      "model_module_version": "1.4.0",
      "model_name": "DescriptionStyleModel",
      "state": {
       "description_width": ""
      }
     },
     "37a64eb5b85144a9a7c32e5f7c646aef": {
      "model_module": "@jupyter-widgets/controls",
      "model_module_version": "1.4.0",
      "model_name": "DescriptionStyleModel",
      "state": {
       "description_width": ""
      }
     },
     "37bc207ef319479685bfa286388e4be2": {
      "model_module": "@jupyter-widgets/controls",
      "model_module_version": "1.4.0",
      "model_name": "DescriptionStyleModel",
      "state": {
       "description_width": ""
      }
     },
     "38328f5a10394a668d7ca61ed150e009": {
      "model_module": "@jupyter-widgets/controls",
      "model_module_version": "1.4.0",
      "model_name": "DescriptionStyleModel",
      "state": {
       "description_width": ""
      }
     },
     "38422520b08e46659001f44cc80c767c": {
      "model_module": "@jupyter-widgets/controls",
      "model_module_version": "1.4.0",
      "model_name": "DescriptionStyleModel",
      "state": {
       "description_width": ""
      }
     },
     "39b0f4b447044e14ad71f0d1159b7674": {
      "model_module": "@jupyter-widgets/base",
      "model_module_version": "1.1.0",
      "model_name": "LayoutModel",
      "state": {}
     },
     "39d314c4f124445b88644a78ca255de5": {
      "model_module": "@jupyter-widgets/controls",
      "model_module_version": "1.4.0",
      "model_name": "DescriptionStyleModel",
      "state": {
       "description_width": ""
      }
     },
     "3a2b9a0730734d6184bd1d61b0b9c873": {
      "model_module": "@jupyter-widgets/controls",
      "model_module_version": "1.4.0",
      "model_name": "DescriptionStyleModel",
      "state": {
       "description_width": ""
      }
     },
     "3a3006d9273943a4b6e2407547b39521": {
      "model_module": "@jupyter-widgets/base",
      "model_module_version": "1.1.0",
      "model_name": "LayoutModel",
      "state": {}
     },
     "3adadb3adc3348bb8adaaccae00782b1": {
      "model_module": "@jupyter-widgets/base",
      "model_module_version": "1.1.0",
      "model_name": "LayoutModel",
      "state": {}
     },
     "3af2c8d3821c44d9a8ded62949009994": {
      "model_module": "@jupyter-widgets/base",
      "model_module_version": "1.1.0",
      "model_name": "LayoutModel",
      "state": {}
     },
     "3af564d3c4794c359e44bf8b480a7ecd": {
      "model_module": "@jupyter-widgets/base",
      "model_module_version": "1.1.0",
      "model_name": "LayoutModel",
      "state": {}
     },
     "3b07326c15c1495cbba3500ee82add3c": {
      "model_module": "@jupyter-widgets/base",
      "model_module_version": "1.1.0",
      "model_name": "LayoutModel",
      "state": {}
     },
     "3b645a0d3969445d8b94aafd7b787dee": {
      "model_module": "@jupyter-widgets/controls",
      "model_module_version": "1.4.0",
      "model_name": "DescriptionStyleModel",
      "state": {
       "description_width": ""
      }
     },
     "3b6bdbd449314d61bb52eb204bde5baa": {
      "model_module": "@jupyter-widgets/base",
      "model_module_version": "1.1.0",
      "model_name": "LayoutModel",
      "state": {}
     },
     "3b77a906dc7144139436c956f65db8fe": {
      "model_module": "@jupyter-widgets/controls",
      "model_module_version": "1.4.0",
      "model_name": "DescriptionStyleModel",
      "state": {
       "description_width": ""
      }
     },
     "3c56d33f31924dd0996a0e863e62a3c0": {
      "model_module": "@jupyter-widgets/controls",
      "model_module_version": "1.4.0",
      "model_name": "DropdownModel",
      "state": {
       "_options_labels": [
        "Mario Raceway",
        "Choco Mountain",
        "Bowser's Castle",
        "Banshee Boardwalk",
        "Yoshi Valley",
        "Frappe Snowland",
        "Koopa Troopa Beach",
        "Royal Raceway",
        "Luigi Raceway",
        "Moo Moo Farm",
        "Toad's Turnpike",
        "Kalamari Desert",
        "Sherbert Land",
        "Rainbow Road",
        "Wario Stadium",
        "Block Fort",
        "Skyscraper",
        "Double Deck",
        "DK's Jungle Parkway",
        "Big Donut"
       ],
       "description": "Course 2",
       "index": 12,
       "layout": "IPY_MODEL_58545dc1fec84aec8fb0a369d2fd209f",
       "style": "IPY_MODEL_0511e1f7ed1d4dbf80781adfdd7e5285"
      }
     },
     "3c833357fc9f471fb5ed72d0d7617e5f": {
      "model_module": "@jupyter-widgets/base",
      "model_module_version": "1.1.0",
      "model_name": "LayoutModel",
      "state": {}
     },
     "3ca034e247924a109d5c0ef06a232811": {
      "model_module": "@jupyter-widgets/controls",
      "model_module_version": "1.4.0",
      "model_name": "CheckboxModel",
      "state": {
       "description": "Truely Random Items",
       "disabled": false,
       "layout": "IPY_MODEL_03a70583b97444a09d18fdc08b898482",
       "style": "IPY_MODEL_c320b03daf6c43e480eb91829bc17d9f",
       "value": false
      }
     },
     "3ce936aed6214f309bfb20960f292efa": {
      "model_module": "@jupyter-widgets/base",
      "model_module_version": "1.1.0",
      "model_name": "LayoutModel",
      "state": {}
     },
     "3cf484ccdaaa4b90b465ad38dc759af1": {
      "model_module": "@jupyter-widgets/controls",
      "model_module_version": "1.4.0",
      "model_name": "DescriptionStyleModel",
      "state": {
       "description_width": ""
      }
     },
     "3d6501ba6db5496bb418236abb3a2522": {
      "model_module": "@jupyter-widgets/controls",
      "model_module_version": "1.4.0",
      "model_name": "DescriptionStyleModel",
      "state": {
       "description_width": ""
      }
     },
     "3d9a3b061b534aefab96a8f7940b0a5a": {
      "model_module": "@jupyter-widgets/controls",
      "model_module_version": "1.4.0",
      "model_name": "IntTextModel",
      "state": {
       "description": "3rd place:",
       "layout": "IPY_MODEL_4ef01616a2fc43a8af711172dffdab7d",
       "step": 1,
       "style": "IPY_MODEL_eb7d35ea486847fd89941ff25658a191",
       "value": 3
      }
     },
     "3e2b6c2279a949de87ad25a5bd7a4195": {
      "model_module": "@jupyter-widgets/base",
      "model_module_version": "1.1.0",
      "model_name": "LayoutModel",
      "state": {}
     },
     "3e6cae5dfee444ff9283e072658c6644": {
      "model_module": "@jupyter-widgets/base",
      "model_module_version": "1.1.0",
      "model_name": "LayoutModel",
      "state": {}
     },
     "3e9983fbf91640179e29f15f71056992": {
      "model_module": "@jupyter-widgets/controls",
      "model_module_version": "1.4.0",
      "model_name": "DescriptionStyleModel",
      "state": {
       "description_width": ""
      }
     },
     "3ecee9eab12045739495c63bcc901fbe": {
      "model_module": "@jupyter-widgets/controls",
      "model_module_version": "1.4.0",
      "model_name": "ButtonStyleModel",
      "state": {}
     },
     "3f0d8ebb9a5d4ecfa3a518853cca7f3d": {
      "model_module": "@jupyter-widgets/base",
      "model_module_version": "1.1.0",
      "model_name": "LayoutModel",
      "state": {}
     },
     "3f3759fa05f04224af25df0539411813": {
      "model_module": "@jupyter-widgets/base",
      "model_module_version": "1.1.0",
      "model_name": "LayoutModel",
      "state": {}
     },
     "405145cb95e949dab971f3128f10ad7d": {
      "model_module": "@jupyter-widgets/base",
      "model_module_version": "1.1.0",
      "model_name": "LayoutModel",
      "state": {}
     },
     "40ba372ad0ea4550a7320b717c7aa357": {
      "model_module": "@jupyter-widgets/controls",
      "model_module_version": "1.4.0",
      "model_name": "DescriptionStyleModel",
      "state": {
       "description_width": ""
      }
     },
     "40cd0082e0c1476db5eb33857b13c368": {
      "model_module": "@jupyter-widgets/controls",
      "model_module_version": "1.4.0",
      "model_name": "DescriptionStyleModel",
      "state": {
       "description_width": ""
      }
     },
     "4171facdb60f4fc4bdc6530274c66e9c": {
      "model_module": "@jupyter-widgets/controls",
      "model_module_version": "1.4.0",
      "model_name": "DropdownModel",
      "state": {
       "_options_labels": [
        "Mario Raceway",
        "Choco Mountain",
        "Bowser's Castle",
        "Banshee Boardwalk",
        "Yoshi Valley",
        "Frappe Snowland",
        "Koopa Troopa Beach",
        "Royal Raceway",
        "Luigi Raceway",
        "Moo Moo Farm",
        "Toad's Turnpike",
        "Kalamari Desert",
        "Sherbert Land",
        "Rainbow Road",
        "Wario Stadium",
        "Block Fort",
        "Skyscraper",
        "Double Deck",
        "DK's Jungle Parkway",
        "Big Donut"
       ],
       "description": "Course 1",
       "index": 8,
       "layout": "IPY_MODEL_020875d283214f89bfa273e47c553840",
       "style": "IPY_MODEL_cedb198a0fb741128b0d61474800c0e6"
      }
     },
     "41acf3d6d284427fbeb3e5fc1fce1f45": {
      "model_module": "@jupyter-widgets/controls",
      "model_module_version": "1.4.0",
      "model_name": "DescriptionStyleModel",
      "state": {
       "description_width": ""
      }
     },
     "41de622788234a9e84c3180b1e71a09e": {
      "model_module": "@jupyter-widgets/base",
      "model_module_version": "1.1.0",
      "model_name": "LayoutModel",
      "state": {}
     },
     "426081f054cd40b49ee63854cb7d0e3d": {
      "model_module": "@jupyter-widgets/base",
      "model_module_version": "1.1.0",
      "model_name": "LayoutModel",
      "state": {}
     },
     "427e2e3b4de840e791dff0dd3315cc60": {
      "model_module": "@jupyter-widgets/base",
      "model_module_version": "1.1.0",
      "model_name": "LayoutModel",
      "state": {}
     },
     "437fca4825fe4491a1370c92b9b9ab11": {
      "model_module": "@jupyter-widgets/controls",
      "model_module_version": "1.4.0",
      "model_name": "DropdownModel",
      "state": {
       "_options_labels": [
        "Mario Raceway",
        "Choco Mountain",
        "Bowser's Castle",
        "Banshee Boardwalk",
        "Yoshi Valley",
        "Frappe Snowland",
        "Koopa Troopa Beach",
        "Royal Raceway",
        "Luigi Raceway",
        "Moo Moo Farm",
        "Toad's Turnpike",
        "Kalamari Desert",
        "Sherbert Land",
        "Rainbow Road",
        "Wario Stadium",
        "Block Fort",
        "Skyscraper",
        "Double Deck",
        "DK's Jungle Parkway",
        "Big Donut"
       ],
       "description": "Course 4",
       "index": 11,
       "layout": "IPY_MODEL_768f1f36c1ba498ea82cdb3e623894ff",
       "style": "IPY_MODEL_f83727855e2f45b2a1c5b5650523cee2"
      }
     },
     "4462da54cb634b4592fe9fef45efaf6b": {
      "model_module": "@jupyter-widgets/base",
      "model_module_version": "1.1.0",
      "model_name": "LayoutModel",
      "state": {}
     },
     "44dbe24b67364ef58abc34d859369358": {
      "model_module": "@jupyter-widgets/controls",
      "model_module_version": "1.4.0",
      "model_name": "DescriptionStyleModel",
      "state": {
       "description_width": ""
      }
     },
     "4510b7908da74b16b56232fb7b51ff7f": {
      "model_module": "@jupyter-widgets/base",
      "model_module_version": "1.1.0",
      "model_name": "LayoutModel",
      "state": {}
     },
     "45119308d9004211bdfa4bc2240a3a19": {
      "model_module": "@jupyter-widgets/controls",
      "model_module_version": "1.4.0",
      "model_name": "DescriptionStyleModel",
      "state": {
       "description_width": ""
      }
     },
     "454dd5d97b4f4e91a04564dfa89945bf": {
      "model_module": "@jupyter-widgets/base",
      "model_module_version": "1.1.0",
      "model_name": "LayoutModel",
      "state": {}
     },
     "4570fbe8bb6d49318af012fb12579869": {
      "model_module": "@jupyter-widgets/controls",
      "model_module_version": "1.4.0",
      "model_name": "DescriptionStyleModel",
      "state": {
       "description_width": ""
      }
     },
     "4574201f1d104a98b41c55f2c3e77708": {
      "model_module": "@jupyter-widgets/base",
      "model_module_version": "1.1.0",
      "model_name": "LayoutModel",
      "state": {}
     },
     "457e8d607d1b45e8858402472512111d": {
      "model_module": "@jupyter-widgets/base",
      "model_module_version": "1.1.0",
      "model_name": "LayoutModel",
      "state": {}
     },
     "45816b87e4ba42c681685a05db169d3e": {
      "model_module": "@jupyter-widgets/controls",
      "model_module_version": "1.4.0",
      "model_name": "ButtonStyleModel",
      "state": {}
     },
     "45938ef532c44896ba910a8b38fe41f6": {
      "model_module": "@jupyter-widgets/controls",
      "model_module_version": "1.4.0",
      "model_name": "CheckboxModel",
      "state": {
       "description": "Remove course?",
       "disabled": false,
       "layout": "IPY_MODEL_3ce936aed6214f309bfb20960f292efa",
       "style": "IPY_MODEL_c850d843a53743a5a783f8732adcc9d9",
       "value": false
      }
     },
     "45954d8d68544e30a2018ed29eb90825": {
      "model_module": "@jupyter-widgets/controls",
      "model_module_version": "1.4.0",
      "model_name": "ButtonStyleModel",
      "state": {}
     },
     "45dae1f162c0475685676ca35562d9ed": {
      "model_module": "@jupyter-widgets/controls",
      "model_module_version": "1.4.0",
      "model_name": "DropdownModel",
      "state": {
       "_options_labels": [
        "Default/Previous",
        "50 CC",
        "100 CC",
        "150 CC",
        "Extra"
       ],
       "description": "CC option:",
       "index": 0,
       "layout": "IPY_MODEL_3141c48bb72c46f7b070eefef56ead30",
       "style": "IPY_MODEL_edf2ae1ad4134b0aa9a30e960698b4c0"
      }
     },
     "46109d073fc94509ac9772d565539209": {
      "model_module": "@jupyter-widgets/controls",
      "model_module_version": "1.4.0",
      "model_name": "DescriptionStyleModel",
      "state": {
       "description_width": ""
      }
     },
     "466cdea1fea445d1a16eded1021bdc4c": {
      "model_module": "@jupyter-widgets/controls",
      "model_module_version": "1.4.0",
      "model_name": "CheckboxModel",
      "state": {
       "description": "Truely Random Items",
       "disabled": false,
       "layout": "IPY_MODEL_d75a4b194b294f158376cad59568f60d",
       "style": "IPY_MODEL_d7e14ef8102140d48a40857981959889",
       "value": false
      }
     },
     "469ab3899299443989d5457c2a8078b7": {
      "model_module": "@jupyter-widgets/base",
      "model_module_version": "1.1.0",
      "model_name": "LayoutModel",
      "state": {}
     },
     "46df7f5112fe4ad48fd90cc5e7a65742": {
      "model_module": "@jupyter-widgets/base",
      "model_module_version": "1.1.0",
      "model_name": "LayoutModel",
      "state": {}
     },
     "4703e699026841e29b2a8160bbe4abb9": {
      "model_module": "@jupyter-widgets/base",
      "model_module_version": "1.1.0",
      "model_name": "LayoutModel",
      "state": {}
     },
     "470a2f683c004efcbffe38960a175416": {
      "model_module": "@jupyter-widgets/controls",
      "model_module_version": "1.4.0",
      "model_name": "DropdownModel",
      "state": {
       "_options_labels": [
        "Mario Raceway",
        "Choco Mountain",
        "Bowser's Castle",
        "Banshee Boardwalk",
        "Yoshi Valley",
        "Frappe Snowland",
        "Koopa Troopa Beach",
        "Royal Raceway",
        "Luigi Raceway",
        "Moo Moo Farm",
        "Toad's Turnpike",
        "Kalamari Desert",
        "Sherbert Land",
        "Rainbow Road",
        "Wario Stadium",
        "Block Fort",
        "Skyscraper",
        "Double Deck",
        "DK's Jungle Parkway",
        "Big Donut"
       ],
       "description": "Course 2",
       "index": 4,
       "layout": "IPY_MODEL_61656b359a2240519aa3c7c1b168f56c",
       "style": "IPY_MODEL_8fa80a7d1e80499aadc48c066ff302bf"
      }
     },
     "47636d1b35ab4695881bdacf3ceee818": {
      "model_module": "@jupyter-widgets/controls",
      "model_module_version": "1.4.0",
      "model_name": "DescriptionStyleModel",
      "state": {
       "description_width": ""
      }
     },
     "4790c65c1b334d41a4a11ca8194faf05": {
      "model_module": "@jupyter-widgets/controls",
      "model_module_version": "1.4.0",
      "model_name": "DropdownModel",
      "state": {
       "_options_labels": [
        "Mario Raceway",
        "Choco Mountain",
        "Bowser's Castle",
        "Banshee Boardwalk",
        "Yoshi Valley",
        "Frappe Snowland",
        "Koopa Troopa Beach",
        "Royal Raceway",
        "Luigi Raceway",
        "Moo Moo Farm",
        "Toad's Turnpike",
        "Kalamari Desert",
        "Sherbert Land",
        "Rainbow Road",
        "Wario Stadium",
        "Block Fort",
        "Skyscraper",
        "Double Deck",
        "DK's Jungle Parkway",
        "Big Donut"
       ],
       "description": "Course 1",
       "index": 14,
       "layout": "IPY_MODEL_6b8bb2479cb64fe484983caf189d139f",
       "style": "IPY_MODEL_d0b4d8feb6d54eb686dcd3aea28d25c1"
      }
     },
     "4799581d4759428ab85a12594f461942": {
      "model_module": "@jupyter-widgets/controls",
      "model_module_version": "1.4.0",
      "model_name": "DescriptionStyleModel",
      "state": {
       "description_width": ""
      }
     },
     "47ba6ac410e74458b6bacac5f26209db": {
      "model_module": "@jupyter-widgets/controls",
      "model_module_version": "1.4.0",
      "model_name": "DescriptionStyleModel",
      "state": {
       "description_width": ""
      }
     },
     "47e0f40bae1944e2b77ca1b8a4f16df3": {
      "model_module": "@jupyter-widgets/base",
      "model_module_version": "1.1.0",
      "model_name": "LayoutModel",
      "state": {}
     },
     "48242741cbc04a50b2d5d4779ecb4c2b": {
      "model_module": "@jupyter-widgets/base",
      "model_module_version": "1.1.0",
      "model_name": "LayoutModel",
      "state": {}
     },
     "4857027fc6594c63a7ff5bbbf8bd17e3": {
      "model_module": "@jupyter-widgets/base",
      "model_module_version": "1.1.0",
      "model_name": "LayoutModel",
      "state": {}
     },
     "48cd8b2bda0a41ccbf08492739a490d7": {
      "model_module": "@jupyter-widgets/controls",
      "model_module_version": "1.4.0",
      "model_name": "ButtonStyleModel",
      "state": {}
     },
     "48cfc3fdc05d41009725f1ac4b49fed1": {
      "model_module": "@jupyter-widgets/controls",
      "model_module_version": "1.4.0",
      "model_name": "DescriptionStyleModel",
      "state": {
       "description_width": ""
      }
     },
     "48d11ef8729c4ccca7f7157b124f3c38": {
      "model_module": "@jupyter-widgets/base",
      "model_module_version": "1.1.0",
      "model_name": "LayoutModel",
      "state": {}
     },
     "494a850782c24173bd67647531358012": {
      "model_module": "@jupyter-widgets/controls",
      "model_module_version": "1.4.0",
      "model_name": "DescriptionStyleModel",
      "state": {
       "description_width": ""
      }
     },
     "49caea637849418daa6add7a4c0b4f22": {
      "model_module": "@jupyter-widgets/controls",
      "model_module_version": "1.4.0",
      "model_name": "DescriptionStyleModel",
      "state": {
       "description_width": ""
      }
     },
     "49dbdf1f721145b29c7df5fb06e39151": {
      "model_module": "@jupyter-widgets/controls",
      "model_module_version": "1.4.0",
      "model_name": "DescriptionStyleModel",
      "state": {
       "description_width": ""
      }
     },
     "4b02ed4998424c419e34be68f368ee83": {
      "model_module": "@jupyter-widgets/controls",
      "model_module_version": "1.4.0",
      "model_name": "IntTextModel",
      "state": {
       "description": "3rd place:",
       "layout": "IPY_MODEL_968f833a3a8d44dc850aa2eb580c5edd",
       "step": 1,
       "style": "IPY_MODEL_76bb15317da647b6ba8000ca6fa829cf",
       "value": 3
      }
     },
     "4b0df0facda14d18967700c559cff88e": {
      "model_module": "@jupyter-widgets/controls",
      "model_module_version": "1.4.0",
      "model_name": "DescriptionStyleModel",
      "state": {
       "description_width": ""
      }
     },
     "4c907edd137941e8908395f4c9d4e2c1": {
      "model_module": "@jupyter-widgets/controls",
      "model_module_version": "1.4.0",
      "model_name": "DescriptionStyleModel",
      "state": {
       "description_width": ""
      }
     },
     "4ce7864fb9d84f2ba4fe14d69b0313c0": {
      "model_module": "@jupyter-widgets/controls",
      "model_module_version": "1.4.0",
      "model_name": "IntTextModel",
      "state": {
       "description": "4th place:",
       "layout": "IPY_MODEL_e8e14e26a5a34f8887fb672957b0271b",
       "step": 1,
       "style": "IPY_MODEL_a72a177a74e14d4c9296e3f3c03c0525",
       "value": 1
      }
     },
     "4d13b16db51844fc95815689a3bbaf77": {
      "model_module": "@jupyter-widgets/controls",
      "model_module_version": "1.4.0",
      "model_name": "DescriptionStyleModel",
      "state": {
       "description_width": ""
      }
     },
     "4d5543bcd9f945d9971adf7bcd454a29": {
      "model_module": "@jupyter-widgets/base",
      "model_module_version": "1.1.0",
      "model_name": "LayoutModel",
      "state": {}
     },
     "4d581f7232fa4490b1ccd55ee72f1528": {
      "model_module": "@jupyter-widgets/controls",
      "model_module_version": "1.4.0",
      "model_name": "DescriptionStyleModel",
      "state": {
       "description_width": ""
      }
     },
     "4e2a90fb0db64b8c9916271f2845d38c": {
      "model_module": "@jupyter-widgets/controls",
      "model_module_version": "1.4.0",
      "model_name": "ButtonStyleModel",
      "state": {}
     },
     "4e51a1b0ae144a238fd0558a214822e6": {
      "model_module": "@jupyter-widgets/controls",
      "model_module_version": "1.4.0",
      "model_name": "DescriptionStyleModel",
      "state": {
       "description_width": ""
      }
     },
     "4ef01616a2fc43a8af711172dffdab7d": {
      "model_module": "@jupyter-widgets/base",
      "model_module_version": "1.1.0",
      "model_name": "LayoutModel",
      "state": {}
     },
     "4f179c58598e465bbce25dca9eadbfc2": {
      "model_module": "@jupyter-widgets/controls",
      "model_module_version": "1.4.0",
      "model_name": "DescriptionStyleModel",
      "state": {
       "description_width": ""
      }
     },
     "4f2ca291148045c78477d31f8c62d713": {
      "model_module": "@jupyter-widgets/controls",
      "model_module_version": "1.4.0",
      "model_name": "DescriptionStyleModel",
      "state": {
       "description_width": ""
      }
     },
     "4fb11b3844804174a2eefdd05fb1d6f2": {
      "model_module": "@jupyter-widgets/controls",
      "model_module_version": "1.4.0",
      "model_name": "DescriptionStyleModel",
      "state": {
       "description_width": ""
      }
     },
     "4fc635ae345a483e889933db81e8b0b8": {
      "model_module": "@jupyter-widgets/controls",
      "model_module_version": "1.4.0",
      "model_name": "DropdownModel",
      "state": {
       "_options_labels": [
        "Mario Raceway",
        "Choco Mountain",
        "Bowser's Castle",
        "Banshee Boardwalk",
        "Yoshi Valley",
        "Frappe Snowland",
        "Koopa Troopa Beach",
        "Royal Raceway",
        "Luigi Raceway",
        "Moo Moo Farm",
        "Toad's Turnpike",
        "Kalamari Desert",
        "Sherbert Land",
        "Rainbow Road",
        "Wario Stadium",
        "Block Fort",
        "Skyscraper",
        "Double Deck",
        "DK's Jungle Parkway",
        "Big Donut"
       ],
       "description": "Course 3",
       "index": 1,
       "layout": "IPY_MODEL_10636c18d02947b1b9a65b8631d8a5de",
       "style": "IPY_MODEL_b96a62bb28fe40378f958a5c02e2bc4d"
      }
     },
     "501c8904beb84e858c839dc8980ad316": {
      "model_module": "@jupyter-widgets/controls",
      "model_module_version": "1.4.0",
      "model_name": "DescriptionStyleModel",
      "state": {
       "description_width": ""
      }
     },
     "502ad1ca56c64d3190c3e385141c8fc8": {
      "model_module": "@jupyter-widgets/controls",
      "model_module_version": "1.4.0",
      "model_name": "DropdownModel",
      "state": {
       "_options_labels": [
        "--Random--",
        "Luigi Raceway",
        "Moo Moo Farm",
        "Koopa Troopa Beach",
        "Kalamari Desert",
        "Toad's Turnpike",
        "Frappe Snowland",
        "Choco Mountain",
        "Mario Raceway",
        "Wario Stadium",
        "Sherbert Land",
        "Royal Raceway",
        "Bowser's Castle",
        "DK's Jungle Parkway",
        "Yoshi Valley",
        "Banshee Boardwalk",
        "Rainbow Road"
       ],
       "description": "Course 2",
       "index": 1,
       "layout": "IPY_MODEL_375351c785bf4bf6ba27c55a6357f5c0",
       "style": "IPY_MODEL_64dffb6617e941d39cc2d8817913bdde"
      }
     },
     "50ac6fb55335419bba40c25e8f6ce616": {
      "model_module": "@jupyter-widgets/base",
      "model_module_version": "1.1.0",
      "model_name": "LayoutModel",
      "state": {}
     },
     "50b5c90d4f654705bad5389591343285": {
      "model_module": "@jupyter-widgets/controls",
      "model_module_version": "1.4.0",
      "model_name": "DropdownModel",
      "state": {
       "_options_labels": [
        "Default/Previous",
        "50 CC",
        "100 CC",
        "150 CC",
        "Extra"
       ],
       "description": "CC option:",
       "index": 0,
       "layout": "IPY_MODEL_788192fee624480da3a605359850df19",
       "style": "IPY_MODEL_c5eed565c9b84576b074a4a360bdd9f1"
      }
     },
     "5145e4ad64464f86bf6c6b3d77f201b7": {
      "model_module": "@jupyter-widgets/controls",
      "model_module_version": "1.4.0",
      "model_name": "DropdownModel",
      "state": {
       "_options_labels": [
        "Mario Raceway",
        "Choco Mountain",
        "Bowser's Castle",
        "Banshee Boardwalk",
        "Yoshi Valley",
        "Frappe Snowland",
        "Koopa Troopa Beach",
        "Royal Raceway",
        "Luigi Raceway",
        "Moo Moo Farm",
        "Toad's Turnpike",
        "Kalamari Desert",
        "Sherbert Land",
        "Rainbow Road",
        "Wario Stadium",
        "Block Fort",
        "Skyscraper",
        "Double Deck",
        "DK's Jungle Parkway",
        "Big Donut"
       ],
       "description": "Course 1",
       "index": 18,
       "layout": "IPY_MODEL_5b6c7f26beec4aa48980706dda932644",
       "style": "IPY_MODEL_2dfc409dddae498b9b7c331ae2fa8950"
      }
     },
     "51873d08953640eea6ea617c2cb66e57": {
      "model_module": "@jupyter-widgets/controls",
      "model_module_version": "1.4.0",
      "model_name": "DescriptionStyleModel",
      "state": {
       "description_width": ""
      }
     },
     "5188513937ca4b3880110a3a148078d9": {
      "model_module": "@jupyter-widgets/controls",
      "model_module_version": "1.4.0",
      "model_name": "DropdownModel",
      "state": {
       "_options_labels": [
        "Mario Raceway",
        "Choco Mountain",
        "Bowser's Castle",
        "Banshee Boardwalk",
        "Yoshi Valley",
        "Frappe Snowland",
        "Koopa Troopa Beach",
        "Royal Raceway",
        "Luigi Raceway",
        "Moo Moo Farm",
        "Toad's Turnpike",
        "Kalamari Desert",
        "Sherbert Land",
        "Rainbow Road",
        "Wario Stadium",
        "Block Fort",
        "Skyscraper",
        "Double Deck",
        "DK's Jungle Parkway",
        "Big Donut"
       ],
       "description": "Course 3",
       "index": 19,
       "layout": "IPY_MODEL_a8055a588b5946e78da4db480f54a07b",
       "style": "IPY_MODEL_3cf484ccdaaa4b90b465ad38dc759af1"
      }
     },
     "51902f0f4dec40a3a4a4ce22b86d5ee4": {
      "model_module": "@jupyter-widgets/base",
      "model_module_version": "1.1.0",
      "model_name": "LayoutModel",
      "state": {}
     },
     "51b0f44d42a146e4aeaff992596fe6c5": {
      "model_module": "@jupyter-widgets/base",
      "model_module_version": "1.1.0",
      "model_name": "LayoutModel",
      "state": {}
     },
     "521c79942b2b4cbebe50f9f90a09c8a1": {
      "model_module": "@jupyter-widgets/base",
      "model_module_version": "1.1.0",
      "model_name": "LayoutModel",
      "state": {}
     },
     "5245b031f5bd457993601b043b15f1b6": {
      "model_module": "@jupyter-widgets/base",
      "model_module_version": "1.1.0",
      "model_name": "LayoutModel",
      "state": {}
     },
     "530396088bf94ca18260bf2d3acb5e40": {
      "model_module": "@jupyter-widgets/controls",
      "model_module_version": "1.4.0",
      "model_name": "CheckboxModel",
      "state": {
       "description": "Remove course?",
       "disabled": false,
       "layout": "IPY_MODEL_216b5778ca504f9faff1c1994e30ee75",
       "style": "IPY_MODEL_667b306c798940d8b41e716ceac87493",
       "value": true
      }
     },
     "536d00b90f9340f8968aa4529137f20e": {
      "model_module": "@jupyter-widgets/controls",
      "model_module_version": "1.4.0",
      "model_name": "CheckboxModel",
      "state": {
       "description": "Remove course?",
       "disabled": false,
       "layout": "IPY_MODEL_d6f28a6f62e34201a5a858354e45afc3",
       "style": "IPY_MODEL_fd019552c7d248ccb9b5c4a38d67a3e9",
       "value": true
      }
     },
     "5398d767186445758892c4397a784cd9": {
      "model_module": "@jupyter-widgets/controls",
      "model_module_version": "1.4.0",
      "model_name": "DescriptionStyleModel",
      "state": {
       "description_width": ""
      }
     },
     "53fcddbdc62b42e083c798d68dc27871": {
      "model_module": "@jupyter-widgets/base",
      "model_module_version": "1.1.0",
      "model_name": "LayoutModel",
      "state": {}
     },
     "54370c36ef0640e1b1bb5a61af938f55": {
      "model_module": "@jupyter-widgets/controls",
      "model_module_version": "1.4.0",
      "model_name": "HBoxModel",
      "state": {
       "children": [
        "IPY_MODEL_502ad1ca56c64d3190c3e385141c8fc8",
        "IPY_MODEL_50b5c90d4f654705bad5389591343285",
        "IPY_MODEL_aed54ce79d2a458e8a214dfa7309798f"
       ],
       "layout": "IPY_MODEL_47e0f40bae1944e2b77ca1b8a4f16df3"
      }
     },
     "547b612262ad4a6cbd64f340b2be8d20": {
      "model_module": "@jupyter-widgets/base",
      "model_module_version": "1.1.0",
      "model_name": "LayoutModel",
      "state": {}
     },
     "54dd84a557664a778fc18a84008de967": {
      "model_module": "@jupyter-widgets/base",
      "model_module_version": "1.1.0",
      "model_name": "LayoutModel",
      "state": {}
     },
     "54f510e35b57486b9e41e13fe34d1b76": {
      "model_module": "@jupyter-widgets/controls",
      "model_module_version": "1.4.0",
      "model_name": "IntTextModel",
      "state": {
       "description": "4th place:",
       "layout": "IPY_MODEL_005a72e54c2b4260933cde0761c116f7",
       "step": 1,
       "style": "IPY_MODEL_6983b115df0f4d9bba368755d29f288b",
       "value": 1
      }
     },
     "55052fd27f354c88be96749e16fae2dc": {
      "model_module": "@jupyter-widgets/base",
      "model_module_version": "1.1.0",
      "model_name": "LayoutModel",
      "state": {}
     },
     "5542b9be08d94ec8a3ef42497605cffa": {
      "model_module": "@jupyter-widgets/base",
      "model_module_version": "1.1.0",
      "model_name": "LayoutModel",
      "state": {}
     },
     "55445e78314340c2a18c517e20b5d2ef": {
      "model_module": "@jupyter-widgets/base",
      "model_module_version": "1.1.0",
      "model_name": "LayoutModel",
      "state": {}
     },
     "55f5980fdce8496ea393aa7c41f63508": {
      "model_module": "@jupyter-widgets/base",
      "model_module_version": "1.1.0",
      "model_name": "LayoutModel",
      "state": {}
     },
     "5678cf78e2ca43d9b59723fc71660da0": {
      "model_module": "@jupyter-widgets/controls",
      "model_module_version": "1.4.0",
      "model_name": "LabelModel",
      "state": {
       "layout": "IPY_MODEL_883ad1f00975412993807f642c701bf1",
       "style": "IPY_MODEL_e37e8d5b5a6a48c1ae6c5eae189e3d72",
       "value": "Points for"
      }
     },
     "56a769eaf46046fca8d658101dbf1277": {
      "model_module": "@jupyter-widgets/base",
      "model_module_version": "1.1.0",
      "model_name": "LayoutModel",
      "state": {}
     },
     "56bb4a7275314030b5b6404474160ae3": {
      "model_module": "@jupyter-widgets/controls",
      "model_module_version": "1.4.0",
      "model_name": "DescriptionStyleModel",
      "state": {
       "description_width": ""
      }
     },
     "56c0735915b14bebb30a73f9d9a5f2a5": {
      "model_module": "@jupyter-widgets/controls",
      "model_module_version": "1.4.0",
      "model_name": "DescriptionStyleModel",
      "state": {
       "description_width": ""
      }
     },
     "56cb7902f0224f3b8f8f528ccdab91a0": {
      "model_module": "@jupyter-widgets/controls",
      "model_module_version": "1.4.0",
      "model_name": "HBoxModel",
      "state": {
       "children": [
        "IPY_MODEL_84f98b3bffb348b997b7341222eed75b",
        "IPY_MODEL_1f6ee38d5f594403b32d71eae37194e2"
       ],
       "layout": "IPY_MODEL_609532f631af4e35b800ad53aef5a7e1"
      }
     },
     "56fa0c07ffc8495898db8db688a6721d": {
      "model_module": "@jupyter-widgets/base",
      "model_module_version": "1.1.0",
      "model_name": "LayoutModel",
      "state": {}
     },
     "56fc73a5e33e4b3aaedae8b447fff9f7": {
      "model_module": "@jupyter-widgets/base",
      "model_module_version": "1.1.0",
      "model_name": "LayoutModel",
      "state": {}
     },
     "5711d2b707184af3b3bce94d8cdeda38": {
      "model_module": "@jupyter-widgets/controls",
      "model_module_version": "1.4.0",
      "model_name": "IntTextModel",
      "state": {
       "description": "1st place:",
       "layout": "IPY_MODEL_990a62f923e044c482d3c7b05396c278",
       "step": 1,
       "style": "IPY_MODEL_363379c74c134f2db7ef2fdb3e43a8cb",
       "value": 9
      }
     },
     "57b0e765bc0a449a98c8981a4bd884fe": {
      "model_module": "@jupyter-widgets/controls",
      "model_module_version": "1.4.0",
      "model_name": "IntTextModel",
      "state": {
       "description": "2nd place:",
       "layout": "IPY_MODEL_280b3a08c8ab437fbe5b8f9dc0552c24",
       "step": 1,
       "style": "IPY_MODEL_4d13b16db51844fc95815689a3bbaf77",
       "value": 6
      }
     },
     "57b7c1d8912b4465abf75c6b30911b98": {
      "model_module": "@jupyter-widgets/controls",
      "model_module_version": "1.4.0",
      "model_name": "ButtonModel",
      "state": {
       "description": "Remove Selected Courses",
       "layout": "IPY_MODEL_baf0d8cad25147459f4f831e3b6fda15",
       "style": "IPY_MODEL_0a82cd060d1d4eba9bef75d40b9ad1de"
      }
     },
     "57bd305ef629474cbbdc17a48a1973e2": {
      "model_module": "@jupyter-widgets/controls",
      "model_module_version": "1.4.0",
      "model_name": "DescriptionStyleModel",
      "state": {
       "description_width": ""
      }
     },
     "57bd859de2f744a49084c7fa1ab8182b": {
      "model_module": "@jupyter-widgets/controls",
      "model_module_version": "1.4.0",
      "model_name": "DescriptionStyleModel",
      "state": {
       "description_width": ""
      }
     },
     "58545dc1fec84aec8fb0a369d2fd209f": {
      "model_module": "@jupyter-widgets/base",
      "model_module_version": "1.1.0",
      "model_name": "LayoutModel",
      "state": {}
     },
     "590c9e191ffb49568c1e334ed2ade42e": {
      "model_module": "@jupyter-widgets/controls",
      "model_module_version": "1.4.0",
      "model_name": "DescriptionStyleModel",
      "state": {
       "description_width": ""
      }
     },
     "594762227fbd48ddb7f2f05f43016df1": {
      "model_module": "@jupyter-widgets/base",
      "model_module_version": "1.1.0",
      "model_name": "LayoutModel",
      "state": {}
     },
     "59c87386d96640eb9a611778a4f902a7": {
      "model_module": "@jupyter-widgets/base",
      "model_module_version": "1.1.0",
      "model_name": "LayoutModel",
      "state": {}
     },
     "5a38990762c142faa3653d3043868204": {
      "model_module": "@jupyter-widgets/controls",
      "model_module_version": "1.4.0",
      "model_name": "DescriptionStyleModel",
      "state": {
       "description_width": ""
      }
     },
     "5a6e6143b318424f87c98fd923f2af74": {
      "model_module": "@jupyter-widgets/base",
      "model_module_version": "1.1.0",
      "model_name": "LayoutModel",
      "state": {}
     },
     "5aa058ecb35945c897ef1e35b030d153": {
      "model_module": "@jupyter-widgets/controls",
      "model_module_version": "1.4.0",
      "model_name": "CheckboxModel",
      "state": {
       "description": "Hard Mode",
       "disabled": false,
       "layout": "IPY_MODEL_66034335f42d4a8ab7e77dd5a131dc39",
       "style": "IPY_MODEL_c8fa3fb730d64726ab71c1d8491ecd60",
       "value": false
      }
     },
     "5aeabe0503854d5b884f5e0e3c12383b": {
      "model_module": "@jupyter-widgets/controls",
      "model_module_version": "1.4.0",
      "model_name": "IntTextModel",
      "state": {
       "description": "2nd place:",
       "layout": "IPY_MODEL_196bd44efeaf457d940346fc6fffe26f",
       "step": 1,
       "style": "IPY_MODEL_0b289c213940478fbc2e83fb62c2fd64",
       "value": 6
      }
     },
     "5b1bdbb703a949ed8fbdaed9324fd253": {
      "model_module": "@jupyter-widgets/controls",
      "model_module_version": "1.4.0",
      "model_name": "ButtonModel",
      "state": {
       "description": "Add Course",
       "layout": "IPY_MODEL_d20a4d4356aa429698d5e598dae14aca",
       "style": "IPY_MODEL_3ecee9eab12045739495c63bcc901fbe"
      }
     },
     "5b6c7f26beec4aa48980706dda932644": {
      "model_module": "@jupyter-widgets/base",
      "model_module_version": "1.1.0",
      "model_name": "LayoutModel",
      "state": {}
     },
     "5b767ee81b614d21bc396865fb8380d6": {
      "model_module": "@jupyter-widgets/controls",
      "model_module_version": "1.4.0",
      "model_name": "DescriptionStyleModel",
      "state": {
       "description_width": ""
      }
     },
     "5b7db49bff1a4d4e8c66e6fd61449ace": {
      "model_module": "@jupyter-widgets/base",
      "model_module_version": "1.1.0",
      "model_name": "LayoutModel",
      "state": {}
     },
     "5bbf0cf5acc44da6a65163e38d96f20f": {
      "model_module": "@jupyter-widgets/base",
      "model_module_version": "1.1.0",
      "model_name": "LayoutModel",
      "state": {}
     },
     "5be6109a68474395a58cc56d57cb415a": {
      "model_module": "@jupyter-widgets/controls",
      "model_module_version": "1.4.0",
      "model_name": "DropdownModel",
      "state": {
       "_options_labels": [
        "Default/Previous",
        "50 CC",
        "100 CC",
        "150 CC",
        "Extra"
       ],
       "description": "CC option:",
       "index": 0,
       "layout": "IPY_MODEL_63b778540b95473abab8ffef66d1ca67",
       "style": "IPY_MODEL_40cd0082e0c1476db5eb33857b13c368"
      }
     },
     "5bf9ea2d593343bb8acb3756e32c1a8e": {
      "model_module": "@jupyter-widgets/controls",
      "model_module_version": "1.4.0",
      "model_name": "DropdownModel",
      "state": {
       "_options_labels": [
        "Mario Raceway",
        "Choco Mountain",
        "Bowser's Castle",
        "Banshee Boardwalk",
        "Yoshi Valley",
        "Frappe Snowland",
        "Koopa Troopa Beach",
        "Royal Raceway",
        "Luigi Raceway",
        "Moo Moo Farm",
        "Toad's Turnpike",
        "Kalamari Desert",
        "Sherbert Land",
        "Rainbow Road",
        "Wario Stadium",
        "Block Fort",
        "Skyscraper",
        "Double Deck",
        "DK's Jungle Parkway",
        "Big Donut"
       ],
       "description": "Course 4",
       "index": 13,
       "layout": "IPY_MODEL_6a319ae7f3ef46bcab023c90181ada50",
       "style": "IPY_MODEL_e740dbb62fdf448999f35ef583669872"
      }
     },
     "5c435bb2d8434ddcba4ea764ea7fa517": {
      "model_module": "@jupyter-widgets/base",
      "model_module_version": "1.1.0",
      "model_name": "LayoutModel",
      "state": {}
     },
     "5c5def69622b43cb940e09107ce3314f": {
      "model_module": "@jupyter-widgets/controls",
      "model_module_version": "1.4.0",
      "model_name": "CheckboxModel",
      "state": {
       "description": "Remove course?",
       "disabled": false,
       "layout": "IPY_MODEL_f368decac31340c0a2f99690a6b504f0",
       "style": "IPY_MODEL_d24bf79e401e4ab08c600b1aa1eb5d84",
       "value": true
      }
     },
     "5c73ea7b800841abbd6cbcacc61f6561": {
      "model_module": "@jupyter-widgets/controls",
      "model_module_version": "1.4.0",
      "model_name": "CheckboxModel",
      "state": {
       "description": "Remove course?",
       "disabled": false,
       "layout": "IPY_MODEL_86b7a5912371405a9a1d572336ba7f7c",
       "style": "IPY_MODEL_c56a2661b38a477582db67ebb24876f8",
       "value": false
      }
     },
     "5ce3fdf281944a15bec0afd225e0dc38": {
      "model_module": "@jupyter-widgets/controls",
      "model_module_version": "1.4.0",
      "model_name": "DescriptionStyleModel",
      "state": {
       "description_width": ""
      }
     },
     "5d27a8c4511f476aa69fb59b1852013c": {
      "model_module": "@jupyter-widgets/base",
      "model_module_version": "1.1.0",
      "model_name": "LayoutModel",
      "state": {}
     },
     "5d7055e60f1c4b29aa690635695541e5": {
      "model_module": "@jupyter-widgets/controls",
      "model_module_version": "1.4.0",
      "model_name": "DropdownModel",
      "state": {
       "_options_labels": [
        "--Random--",
        "Mario Raceway",
        "Choco Mountain",
        "Bowser's Castle",
        "Banshee Boardwalk",
        "Yoshi Valley",
        "Frappe Snowland",
        "Koopa Troopa Beach",
        "Royal Raceway",
        "Luigi Raceway",
        "Moo Moo Farm",
        "Toad's Turnpike",
        "Kalamari Desert",
        "Sherbert Land",
        "Rainbow Road",
        "Wario Stadium",
        "Block Fort",
        "Skyscraper",
        "Double Deck",
        "DK's Jungle Parkway",
        "Big Donut",
        "--REMOVE COURSE--"
       ],
       "description": "Course 1",
       "index": 9,
       "layout": "IPY_MODEL_4462da54cb634b4592fe9fef45efaf6b",
       "style": "IPY_MODEL_47636d1b35ab4695881bdacf3ceee818"
      }
     },
     "5db6631e3aff4a75a07f04d47778fe48": {
      "model_module": "@jupyter-widgets/base",
      "model_module_version": "1.1.0",
      "model_name": "LayoutModel",
      "state": {}
     },
     "5e0a469ec7dd4f7c8f4c0fe25dbe9098": {
      "model_module": "@jupyter-widgets/controls",
      "model_module_version": "1.4.0",
      "model_name": "DescriptionStyleModel",
      "state": {
       "description_width": ""
      }
     },
     "5e1804b247714a3490737d5765f09d6b": {
      "model_module": "@jupyter-widgets/base",
      "model_module_version": "1.1.0",
      "model_name": "LayoutModel",
      "state": {}
     },
     "5e6f1986393745f78e6210c2384ccdb0": {
      "model_module": "@jupyter-widgets/base",
      "model_module_version": "1.1.0",
      "model_name": "LayoutModel",
      "state": {}
     },
     "5e7a2cf0bb8a45788537e52eac252bb9": {
      "model_module": "@jupyter-widgets/controls",
      "model_module_version": "1.4.0",
      "model_name": "CheckboxModel",
      "state": {
       "description": "Remove course?",
       "disabled": false,
       "layout": "IPY_MODEL_b02f4af8420e4521b9bcf05a90bd57f0",
       "style": "IPY_MODEL_72fee6ff7777418499e8c46da996ada2",
       "value": false
      }
     },
     "5f0147e27cf847c5ab597374bb297579": {
      "model_module": "@jupyter-widgets/controls",
      "model_module_version": "1.4.0",
      "model_name": "DropdownModel",
      "state": {
       "_options_labels": [
        "Mario Raceway",
        "Choco Mountain",
        "Bowser's Castle",
        "Banshee Boardwalk",
        "Yoshi Valley",
        "Frappe Snowland",
        "Koopa Troopa Beach",
        "Royal Raceway",
        "Luigi Raceway",
        "Moo Moo Farm",
        "Toad's Turnpike",
        "Kalamari Desert",
        "Sherbert Land",
        "Rainbow Road",
        "Wario Stadium",
        "Block Fort",
        "Skyscraper",
        "Double Deck",
        "DK's Jungle Parkway",
        "Big Donut"
       ],
       "description": "Course 2",
       "index": 9,
       "layout": "IPY_MODEL_97a37693014f4ded9e74a2beabb93d3f",
       "style": "IPY_MODEL_14c2a81fdc704c119256b4ad15f0a90e"
      }
     },
     "5f7514ae72094d22be08772872942c0a": {
      "model_module": "@jupyter-widgets/base",
      "model_module_version": "1.1.0",
      "model_name": "LayoutModel",
      "state": {}
     },
     "5f964d072f5443808e5564b62ea9f81e": {
      "model_module": "@jupyter-widgets/controls",
      "model_module_version": "1.4.0",
      "model_name": "DescriptionStyleModel",
      "state": {
       "description_width": ""
      }
     },
     "5fdce77d88f14849b12b8e0c41c79df1": {
      "model_module": "@jupyter-widgets/controls",
      "model_module_version": "1.4.0",
      "model_name": "DescriptionStyleModel",
      "state": {
       "description_width": ""
      }
     },
     "60106ffcce2e4b45bf2a613f8bb71706": {
      "model_module": "@jupyter-widgets/base",
      "model_module_version": "1.1.0",
      "model_name": "LayoutModel",
      "state": {}
     },
     "601576b4d995457cbc291ca36ced6d83": {
      "model_module": "@jupyter-widgets/base",
      "model_module_version": "1.1.0",
      "model_name": "LayoutModel",
      "state": {}
     },
     "609532f631af4e35b800ad53aef5a7e1": {
      "model_module": "@jupyter-widgets/base",
      "model_module_version": "1.1.0",
      "model_name": "LayoutModel",
      "state": {}
     },
     "609ab45d892f464da282e93bfe6f1782": {
      "model_module": "@jupyter-widgets/base",
      "model_module_version": "1.1.0",
      "model_name": "LayoutModel",
      "state": {}
     },
     "60a3a28cc1f842418a627c5e62adf1b7": {
      "model_module": "@jupyter-widgets/controls",
      "model_module_version": "1.4.0",
      "model_name": "DescriptionStyleModel",
      "state": {
       "description_width": ""
      }
     },
     "61656b359a2240519aa3c7c1b168f56c": {
      "model_module": "@jupyter-widgets/base",
      "model_module_version": "1.1.0",
      "model_name": "LayoutModel",
      "state": {}
     },
     "616c1c29b7a84d37a1ba1f241384cf77": {
      "model_module": "@jupyter-widgets/controls",
      "model_module_version": "1.4.0",
      "model_name": "DescriptionStyleModel",
      "state": {
       "description_width": ""
      }
     },
     "6175dd62a54a477193be0d868a9a2bd4": {
      "model_module": "@jupyter-widgets/base",
      "model_module_version": "1.1.0",
      "model_name": "LayoutModel",
      "state": {}
     },
     "61db3bebbd9643059d724355c9e5ff16": {
      "model_module": "@jupyter-widgets/base",
      "model_module_version": "1.1.0",
      "model_name": "LayoutModel",
      "state": {}
     },
     "62f8002117e94dca856ee826b6b91a45": {
      "model_module": "@jupyter-widgets/controls",
      "model_module_version": "1.4.0",
      "model_name": "DescriptionStyleModel",
      "state": {
       "description_width": ""
      }
     },
     "6327736eaf8e422caa5878dd1553d49b": {
      "model_module": "@jupyter-widgets/base",
      "model_module_version": "1.1.0",
      "model_name": "LayoutModel",
      "state": {}
     },
     "63b778540b95473abab8ffef66d1ca67": {
      "model_module": "@jupyter-widgets/base",
      "model_module_version": "1.1.0",
      "model_name": "LayoutModel",
      "state": {}
     },
     "63ee96d1ad8f4fdd8fa114b05a263fff": {
      "model_module": "@jupyter-widgets/base",
      "model_module_version": "1.1.0",
      "model_name": "LayoutModel",
      "state": {}
     },
     "645de1de4dc5419d83542f6a2944041c": {
      "model_module": "@jupyter-widgets/controls",
      "model_module_version": "1.4.0",
      "model_name": "DescriptionStyleModel",
      "state": {
       "description_width": ""
      }
     },
     "6462ea04673f4949a7fef39775b2e845": {
      "model_module": "@jupyter-widgets/controls",
      "model_module_version": "1.4.0",
      "model_name": "ButtonStyleModel",
      "state": {}
     },
     "6484b9196b8845d88f98faf52eccd7b7": {
      "model_module": "@jupyter-widgets/controls",
      "model_module_version": "1.4.0",
      "model_name": "DescriptionStyleModel",
      "state": {
       "description_width": ""
      }
     },
     "64b315bf06114aeaac4ab1382aea99dd": {
      "model_module": "@jupyter-widgets/controls",
      "model_module_version": "1.4.0",
      "model_name": "DescriptionStyleModel",
      "state": {
       "description_width": ""
      }
     },
     "64dffb6617e941d39cc2d8817913bdde": {
      "model_module": "@jupyter-widgets/controls",
      "model_module_version": "1.4.0",
      "model_name": "DescriptionStyleModel",
      "state": {
       "description_width": ""
      }
     },
     "65122a000c6b4915ac6056164649aa49": {
      "model_module": "@jupyter-widgets/base",
      "model_module_version": "1.1.0",
      "model_name": "LayoutModel",
      "state": {}
     },
     "65be7232b64e4dc08bc9db5f26535293": {
      "model_module": "@jupyter-widgets/base",
      "model_module_version": "1.1.0",
      "model_name": "LayoutModel",
      "state": {}
     },
     "65e89666cf8045088dcbb49fdb577012": {
      "model_module": "@jupyter-widgets/controls",
      "model_module_version": "1.4.0",
      "model_name": "DescriptionStyleModel",
      "state": {
       "description_width": ""
      }
     },
     "65ecd8d757b841598fcf53b14bdbd098": {
      "model_module": "@jupyter-widgets/base",
      "model_module_version": "1.1.0",
      "model_name": "LayoutModel",
      "state": {}
     },
     "65f08af10d41476390ba584756c947bd": {
      "model_module": "@jupyter-widgets/controls",
      "model_module_version": "1.4.0",
      "model_name": "DescriptionStyleModel",
      "state": {
       "description_width": ""
      }
     },
     "66034335f42d4a8ab7e77dd5a131dc39": {
      "model_module": "@jupyter-widgets/base",
      "model_module_version": "1.1.0",
      "model_name": "LayoutModel",
      "state": {}
     },
     "6637ba2fb1c64ab78ebc776a25d3291f": {
      "model_module": "@jupyter-widgets/base",
      "model_module_version": "1.1.0",
      "model_name": "LayoutModel",
      "state": {}
     },
     "664dc41a5f7247f8a4e9af522459b4ca": {
      "model_module": "@jupyter-widgets/controls",
      "model_module_version": "1.4.0",
      "model_name": "DescriptionStyleModel",
      "state": {
       "description_width": ""
      }
     },
     "666eafab4c064e4ebaac04c6e86dcb32": {
      "model_module": "@jupyter-widgets/controls",
      "model_module_version": "1.4.0",
      "model_name": "DescriptionStyleModel",
      "state": {
       "description_width": ""
      }
     },
     "667b306c798940d8b41e716ceac87493": {
      "model_module": "@jupyter-widgets/controls",
      "model_module_version": "1.4.0",
      "model_name": "DescriptionStyleModel",
      "state": {
       "description_width": ""
      }
     },
     "66a4d806251d4fc2a35f988c81f8170c": {
      "model_module": "@jupyter-widgets/base",
      "model_module_version": "1.1.0",
      "model_name": "LayoutModel",
      "state": {}
     },
     "66ec4c480ede488989b03e05c756629a": {
      "model_module": "@jupyter-widgets/controls",
      "model_module_version": "1.4.0",
      "model_name": "DropdownModel",
      "state": {
       "_options_labels": [
        "Mario Raceway",
        "Choco Mountain",
        "Bowser's Castle",
        "Banshee Boardwalk",
        "Yoshi Valley",
        "Frappe Snowland",
        "Koopa Troopa Beach",
        "Royal Raceway",
        "Luigi Raceway",
        "Moo Moo Farm",
        "Toad's Turnpike",
        "Kalamari Desert",
        "Sherbert Land",
        "Rainbow Road",
        "Wario Stadium",
        "Block Fort",
        "Skyscraper",
        "Double Deck",
        "DK's Jungle Parkway",
        "Big Donut"
       ],
       "description": "Course 1",
       "index": 10,
       "layout": "IPY_MODEL_3b6bdbd449314d61bb52eb204bde5baa",
       "style": "IPY_MODEL_fc93063e81184b88aeb9782256d29935"
      }
     },
     "6719698aa3684bae8784c283631cdf57": {
      "model_module": "@jupyter-widgets/base",
      "model_module_version": "1.1.0",
      "model_name": "LayoutModel",
      "state": {}
     },
     "67a9591c5a5d43a48da7c3a05fd56228": {
      "model_module": "@jupyter-widgets/controls",
      "model_module_version": "1.4.0",
      "model_name": "CheckboxModel",
      "state": {
       "description": "Remove course?",
       "disabled": false,
       "layout": "IPY_MODEL_3b07326c15c1495cbba3500ee82add3c",
       "style": "IPY_MODEL_4d581f7232fa4490b1ccd55ee72f1528",
       "value": false
      }
     },
     "6814d2a492d342948ec789baeb103432": {
      "model_module": "@jupyter-widgets/controls",
      "model_module_version": "1.4.0",
      "model_name": "DescriptionStyleModel",
      "state": {
       "description_width": ""
      }
     },
     "6814e854df5c4c77b9363891620f58c4": {
      "model_module": "@jupyter-widgets/base",
      "model_module_version": "1.1.0",
      "model_name": "LayoutModel",
      "state": {}
     },
     "682b09364e134ea6858a11375ac05256": {
      "model_module": "@jupyter-widgets/controls",
      "model_module_version": "1.4.0",
      "model_name": "DropdownModel",
      "state": {
       "_options_labels": [
        "Mario Raceway",
        "Choco Mountain",
        "Bowser's Castle",
        "Banshee Boardwalk",
        "Yoshi Valley",
        "Frappe Snowland",
        "Koopa Troopa Beach",
        "Royal Raceway",
        "Luigi Raceway",
        "Moo Moo Farm",
        "Toad's Turnpike",
        "Kalamari Desert",
        "Sherbert Land",
        "Rainbow Road",
        "Wario Stadium",
        "Block Fort",
        "Skyscraper",
        "Double Deck",
        "DK's Jungle Parkway",
        "Big Donut"
       ],
       "description": "Course 2",
       "index": 5,
       "layout": "IPY_MODEL_11dbe4a70fd141ea930271446cc7c614",
       "style": "IPY_MODEL_12ca9df3bf4b49ce9aa069de3debec6f"
      }
     },
     "684a06606cba42d49929e215b1b26081": {
      "model_module": "@jupyter-widgets/controls",
      "model_module_version": "1.4.0",
      "model_name": "DescriptionStyleModel",
      "state": {
       "description_width": ""
      }
     },
     "69816769f5314c8eb9325ed1e48e1e1f": {
      "model_module": "@jupyter-widgets/controls",
      "model_module_version": "1.4.0",
      "model_name": "HBoxModel",
      "state": {
       "children": [
        "IPY_MODEL_c836220a38c5440887561dfff65a4914",
        "IPY_MODEL_fc52a0ddc6e349fba1e33590411fb070",
        "IPY_MODEL_67a9591c5a5d43a48da7c3a05fd56228"
       ],
       "layout": "IPY_MODEL_59c87386d96640eb9a611778a4f902a7"
      }
     },
     "6983b115df0f4d9bba368755d29f288b": {
      "model_module": "@jupyter-widgets/controls",
      "model_module_version": "1.4.0",
      "model_name": "DescriptionStyleModel",
      "state": {
       "description_width": ""
      }
     },
     "6a319ae7f3ef46bcab023c90181ada50": {
      "model_module": "@jupyter-widgets/base",
      "model_module_version": "1.1.0",
      "model_name": "LayoutModel",
      "state": {}
     },
     "6a76e58ee93f4ab899286b5f638d78ed": {
      "model_module": "@jupyter-widgets/controls",
      "model_module_version": "1.4.0",
      "model_name": "TextareaModel",
      "state": {
       "layout": "IPY_MODEL_c0592abc6fa642f5a45aaa4a3959bcc0",
       "style": "IPY_MODEL_f1f28b753a3047f4852748ae5e29be69"
      }
     },
     "6aaa4001aa1c493c9c2c019b51af98eb": {
      "model_module": "@jupyter-widgets/controls",
      "model_module_version": "1.4.0",
      "model_name": "DescriptionStyleModel",
      "state": {
       "description_width": ""
      }
     },
     "6ab559cb7e5a4df582aebe0716075c4d": {
      "model_module": "@jupyter-widgets/base",
      "model_module_version": "1.1.0",
      "model_name": "LayoutModel",
      "state": {}
     },
     "6b8bb2479cb64fe484983caf189d139f": {
      "model_module": "@jupyter-widgets/base",
      "model_module_version": "1.1.0",
      "model_name": "LayoutModel",
      "state": {}
     },
     "6c08188534264932b527b02935e472d4": {
      "model_module": "@jupyter-widgets/controls",
      "model_module_version": "1.4.0",
      "model_name": "DropdownModel",
      "state": {
       "_options_labels": [
        "Mario Raceway",
        "Choco Mountain",
        "Bowser's Castle",
        "Banshee Boardwalk",
        "Yoshi Valley",
        "Frappe Snowland",
        "Koopa Troopa Beach",
        "Royal Raceway",
        "Luigi Raceway",
        "Moo Moo Farm",
        "Toad's Turnpike",
        "Kalamari Desert",
        "Sherbert Land",
        "Rainbow Road",
        "Wario Stadium",
        "Block Fort",
        "Skyscraper",
        "Double Deck",
        "DK's Jungle Parkway",
        "Big Donut"
       ],
       "description": "Course 3",
       "index": 7,
       "layout": "IPY_MODEL_21a7a1f5938241a1944df1d2adc24caf",
       "style": "IPY_MODEL_d3065bf7e3374195b2b04dc365803f7e"
      }
     },
     "6ce821e173e04784b8d71f6df7cca2e5": {
      "model_module": "@jupyter-widgets/base",
      "model_module_version": "1.1.0",
      "model_name": "LayoutModel",
      "state": {}
     },
     "6d1a65ca5db34c2f87b833621ce14cea": {
      "model_module": "@jupyter-widgets/base",
      "model_module_version": "1.1.0",
      "model_name": "LayoutModel",
      "state": {}
     },
     "6d26d974612f4504a0244186d6c16ba9": {
      "model_module": "@jupyter-widgets/controls",
      "model_module_version": "1.4.0",
      "model_name": "ButtonModel",
      "state": {
       "description": "Create Code",
       "layout": "IPY_MODEL_928d1a91959b4165937f52cafdd22519",
       "style": "IPY_MODEL_4e2a90fb0db64b8c9916271f2845d38c"
      }
     },
     "6d409f0d35454d519ec44948535a40ef": {
      "model_module": "@jupyter-widgets/controls",
      "model_module_version": "1.4.0",
      "model_name": "DropdownModel",
      "state": {
       "_options_labels": [
        "Mario Raceway",
        "Choco Mountain",
        "Bowser's Castle",
        "Banshee Boardwalk",
        "Yoshi Valley",
        "Frappe Snowland",
        "Koopa Troopa Beach",
        "Royal Raceway",
        "Luigi Raceway",
        "Moo Moo Farm",
        "Toad's Turnpike",
        "Kalamari Desert",
        "Sherbert Land",
        "Rainbow Road",
        "Wario Stadium",
        "Block Fort",
        "Skyscraper",
        "Double Deck",
        "DK's Jungle Parkway",
        "Big Donut"
       ],
       "description": "Course 4",
       "index": 8,
       "layout": "IPY_MODEL_5db6631e3aff4a75a07f04d47778fe48",
       "style": "IPY_MODEL_beca96f7e3714e6a8600e7c3590f857f"
      }
     },
     "6d648d0d5e7b4d5da3390a4bd39528ba": {
      "model_module": "@jupyter-widgets/base",
      "model_module_version": "1.1.0",
      "model_name": "LayoutModel",
      "state": {}
     },
     "6d9c839bdac7488183d5b8aa388fef62": {
      "model_module": "@jupyter-widgets/controls",
      "model_module_version": "1.4.0",
      "model_name": "DescriptionStyleModel",
      "state": {
       "description_width": ""
      }
     },
     "6dc847f1c7db42bb9db0e46700e59440": {
      "model_module": "@jupyter-widgets/base",
      "model_module_version": "1.1.0",
      "model_name": "LayoutModel",
      "state": {}
     },
     "6dd1aa53095c42339e19e279c229b922": {
      "model_module": "@jupyter-widgets/controls",
      "model_module_version": "1.4.0",
      "model_name": "CheckboxModel",
      "state": {
       "description": "Remove course?",
       "disabled": false,
       "layout": "IPY_MODEL_923f86f667904d97a55f5f4d13d02a6f",
       "style": "IPY_MODEL_377b8f886366437e969b2b3a4abc5862",
       "value": true
      }
     },
     "6edf8f1c3bea4f31a3f3ea63dd4da2ce": {
      "model_module": "@jupyter-widgets/base",
      "model_module_version": "1.1.0",
      "model_name": "LayoutModel",
      "state": {}
     },
     "6f2e88ccd5304fb28d26b371d409b0ab": {
      "model_module": "@jupyter-widgets/base",
      "model_module_version": "1.1.0",
      "model_name": "LayoutModel",
      "state": {}
     },
     "6f526ff61cdb4cc8a0f22633df3ad17b": {
      "model_module": "@jupyter-widgets/controls",
      "model_module_version": "1.4.0",
      "model_name": "DropdownModel",
      "state": {
       "_options_labels": [
        "Mario Raceway",
        "Choco Mountain",
        "Bowser's Castle",
        "Banshee Boardwalk",
        "Yoshi Valley",
        "Frappe Snowland",
        "Koopa Troopa Beach",
        "Royal Raceway",
        "Luigi Raceway",
        "Moo Moo Farm",
        "Toad's Turnpike",
        "Kalamari Desert",
        "Sherbert Land",
        "Rainbow Road",
        "Wario Stadium",
        "Block Fort",
        "Skyscraper",
        "Double Deck",
        "DK's Jungle Parkway",
        "Big Donut"
       ],
       "description": "Course 2",
       "index": 4,
       "layout": "IPY_MODEL_3adadb3adc3348bb8adaaccae00782b1",
       "style": "IPY_MODEL_ab18071661734d499ca1b9fc67e45b5e"
      }
     },
     "6fdde7d37bc140ec819d9c3cbd88a9a3": {
      "model_module": "@jupyter-widgets/controls",
      "model_module_version": "1.4.0",
      "model_name": "DescriptionStyleModel",
      "state": {
       "description_width": ""
      }
     },
     "6fe627d2b4cf48ad8b088732898763cf": {
      "model_module": "@jupyter-widgets/base",
      "model_module_version": "1.1.0",
      "model_name": "LayoutModel",
      "state": {}
     },
     "6fe977c862114b7294bfa45aa283bb79": {
      "model_module": "@jupyter-widgets/base",
      "model_module_version": "1.1.0",
      "model_name": "LayoutModel",
      "state": {}
     },
     "703fd6a47dd04ea899112490db1c4112": {
      "model_module": "@jupyter-widgets/controls",
      "model_module_version": "1.4.0",
      "model_name": "CheckboxModel",
      "state": {
       "description": "Remove course?",
       "disabled": false,
       "layout": "IPY_MODEL_3e2b6c2279a949de87ad25a5bd7a4195",
       "style": "IPY_MODEL_3a2b9a0730734d6184bd1d61b0b9c873",
       "value": true
      }
     },
     "715fbbff8e8d441bbf0c7fd7b3424fd1": {
      "model_module": "@jupyter-widgets/base",
      "model_module_version": "1.1.0",
      "model_name": "LayoutModel",
      "state": {}
     },
     "7169050a55d042d9a6425ba1b65a97bb": {
      "model_module": "@jupyter-widgets/controls",
      "model_module_version": "1.4.0",
      "model_name": "DescriptionStyleModel",
      "state": {
       "description_width": ""
      }
     },
     "71b36e4acdc2410f84d83a3474028768": {
      "model_module": "@jupyter-widgets/controls",
      "model_module_version": "1.4.0",
      "model_name": "ButtonModel",
      "state": {
       "description": "Remove Selected Courses",
       "layout": "IPY_MODEL_2c28873bbf364803adb4efbe9bf7c9a1",
       "style": "IPY_MODEL_48cd8b2bda0a41ccbf08492739a490d7"
      }
     },
     "71d68cc90b6e4c7184ca65cb0448ec0b": {
      "model_module": "@jupyter-widgets/base",
      "model_module_version": "1.1.0",
      "model_name": "LayoutModel",
      "state": {}
     },
     "71ec0cd248e641a4a580c2a31e5c0668": {
      "model_module": "@jupyter-widgets/base",
      "model_module_version": "1.1.0",
      "model_name": "LayoutModel",
      "state": {}
     },
     "72045c7f34184a75840880d679d9855b": {
      "model_module": "@jupyter-widgets/base",
      "model_module_version": "1.1.0",
      "model_name": "LayoutModel",
      "state": {}
     },
     "725be93efe584f96a180f50f80d8cad2": {
      "model_module": "@jupyter-widgets/controls",
      "model_module_version": "1.4.0",
      "model_name": "DescriptionStyleModel",
      "state": {
       "description_width": ""
      }
     },
     "728d5d979b0e4feab0254ecd7c5e406c": {
      "model_module": "@jupyter-widgets/base",
      "model_module_version": "1.1.0",
      "model_name": "LayoutModel",
      "state": {}
     },
     "72e196d315bc46f18f7d74b695052210": {
      "model_module": "@jupyter-widgets/controls",
      "model_module_version": "1.4.0",
      "model_name": "IntTextModel",
      "state": {
       "description": "2nd place:",
       "layout": "IPY_MODEL_0fd847d472564fbf88011eac0f7b1ca8",
       "step": 1,
       "style": "IPY_MODEL_a1814c3db31b40bbb31530ae840689e0",
       "value": 6
      }
     },
     "72ea7f6b2f9d4cf6b7e59d970ac1fead": {
      "model_module": "@jupyter-widgets/base",
      "model_module_version": "1.1.0",
      "model_name": "LayoutModel",
      "state": {}
     },
     "72fee6ff7777418499e8c46da996ada2": {
      "model_module": "@jupyter-widgets/controls",
      "model_module_version": "1.4.0",
      "model_name": "DescriptionStyleModel",
      "state": {
       "description_width": ""
      }
     },
     "73363446af8444559d0a9c42547aaf63": {
      "model_module": "@jupyter-widgets/controls",
      "model_module_version": "1.4.0",
      "model_name": "DropdownModel",
      "state": {
       "_options_labels": [
        "Mario Raceway",
        "Choco Mountain",
        "Bowser's Castle",
        "Banshee Boardwalk",
        "Yoshi Valley",
        "Frappe Snowland",
        "Koopa Troopa Beach",
        "Royal Raceway",
        "Luigi Raceway",
        "Moo Moo Farm",
        "Toad's Turnpike",
        "Kalamari Desert",
        "Sherbert Land",
        "Rainbow Road",
        "Wario Stadium",
        "Block Fort",
        "Skyscraper",
        "Double Deck",
        "DK's Jungle Parkway",
        "Big Donut"
       ],
       "description": "Course 1",
       "index": 10,
       "layout": "IPY_MODEL_2d80cff43a4e441c832f287f8375a987",
       "style": "IPY_MODEL_f2da9c8527284885b976232ed7529019"
      }
     },
     "735aba0f352b489cb4f53d3d53d9f351": {
      "model_module": "@jupyter-widgets/base",
      "model_module_version": "1.1.0",
      "model_name": "LayoutModel",
      "state": {}
     },
     "7395ea602b0d4dadb5b684d9961ac88e": {
      "model_module": "@jupyter-widgets/controls",
      "model_module_version": "1.4.0",
      "model_name": "DescriptionStyleModel",
      "state": {
       "description_width": ""
      }
     },
     "7421655dc86c42faa82aa3aaff1e5e08": {
      "model_module": "@jupyter-widgets/base",
      "model_module_version": "1.1.0",
      "model_name": "LayoutModel",
      "state": {}
     },
     "746b73b9581344618e3c99f0084ff0e3": {
      "model_module": "@jupyter-widgets/base",
      "model_module_version": "1.1.0",
      "model_name": "LayoutModel",
      "state": {}
     },
     "74719b61a1b04bcf8fad3e15b7d59afc": {
      "model_module": "@jupyter-widgets/controls",
      "model_module_version": "1.4.0",
      "model_name": "DescriptionStyleModel",
      "state": {
       "description_width": ""
      }
     },
     "748375fff7bf43ea95e8c6a358b6d1b9": {
      "model_module": "@jupyter-widgets/base",
      "model_module_version": "1.1.0",
      "model_name": "LayoutModel",
      "state": {}
     },
     "74c3cc2f036943fcafdaaa257058762c": {
      "model_module": "@jupyter-widgets/controls",
      "model_module_version": "1.4.0",
      "model_name": "DescriptionStyleModel",
      "state": {
       "description_width": ""
      }
     },
     "74dfd70ca1084f63aa3004e9d9cc06b1": {
      "model_module": "@jupyter-widgets/base",
      "model_module_version": "1.1.0",
      "model_name": "LayoutModel",
      "state": {}
     },
     "74ea3d79f294490ca26895701bfd4071": {
      "model_module": "@jupyter-widgets/controls",
      "model_module_version": "1.4.0",
      "model_name": "CheckboxModel",
      "state": {
       "description": "Remove course?",
       "disabled": false,
       "layout": "IPY_MODEL_65be7232b64e4dc08bc9db5f26535293",
       "style": "IPY_MODEL_106da0b2ed544318886497f10f8e6255",
       "value": true
      }
     },
     "7514066007114cd68136cb1730a8a15c": {
      "model_module": "@jupyter-widgets/base",
      "model_module_version": "1.1.0",
      "model_name": "LayoutModel",
      "state": {}
     },
     "75739d75e1bd410c8462c01bd703db51": {
      "model_module": "@jupyter-widgets/base",
      "model_module_version": "1.1.0",
      "model_name": "LayoutModel",
      "state": {}
     },
     "768f1f36c1ba498ea82cdb3e623894ff": {
      "model_module": "@jupyter-widgets/base",
      "model_module_version": "1.1.0",
      "model_name": "LayoutModel",
      "state": {}
     },
     "76bb15317da647b6ba8000ca6fa829cf": {
      "model_module": "@jupyter-widgets/controls",
      "model_module_version": "1.4.0",
      "model_name": "DescriptionStyleModel",
      "state": {
       "description_width": ""
      }
     },
     "7786d261953047d892543151838b4c29": {
      "model_module": "@jupyter-widgets/controls",
      "model_module_version": "1.4.0",
      "model_name": "ButtonModel",
      "state": {
       "description": "Remove Selected Courses",
       "layout": "IPY_MODEL_c8558d3c5ccc45bd812b29e794c45762",
       "style": "IPY_MODEL_2393504b836c45f693285b5c05cffb05"
      }
     },
     "77e3c7af496c4f38863c981c639c8692": {
      "model_module": "@jupyter-widgets/controls",
      "model_module_version": "1.4.0",
      "model_name": "DescriptionStyleModel",
      "state": {
       "description_width": ""
      }
     },
     "788192fee624480da3a605359850df19": {
      "model_module": "@jupyter-widgets/base",
      "model_module_version": "1.1.0",
      "model_name": "LayoutModel",
      "state": {}
     },
     "79c85fd4220945be80a0193e0ceea7bf": {
      "model_module": "@jupyter-widgets/controls",
      "model_module_version": "1.4.0",
      "model_name": "ButtonModel",
      "state": {
       "description": "Add Course",
       "layout": "IPY_MODEL_9225e66c622a4730a195c05285061e49",
       "style": "IPY_MODEL_6462ea04673f4949a7fef39775b2e845"
      }
     },
     "7a7d5b1cd6f245658e5b3c81dec2a6bb": {
      "model_module": "@jupyter-widgets/base",
      "model_module_version": "1.1.0",
      "model_name": "LayoutModel",
      "state": {}
     },
     "7abc91d0a9774496b89638b4833cd0b7": {
      "model_module": "@jupyter-widgets/base",
      "model_module_version": "1.1.0",
      "model_name": "LayoutModel",
      "state": {}
     },
     "7b05a17940404452933150c4c68fe9a4": {
      "model_module": "@jupyter-widgets/controls",
      "model_module_version": "1.4.0",
      "model_name": "DropdownModel",
      "state": {
       "_options_labels": [
        "Mario Raceway",
        "Choco Mountain",
        "Bowser's Castle",
        "Banshee Boardwalk",
        "Yoshi Valley",
        "Frappe Snowland",
        "Koopa Troopa Beach",
        "Royal Raceway",
        "Luigi Raceway",
        "Moo Moo Farm",
        "Toad's Turnpike",
        "Kalamari Desert",
        "Sherbert Land",
        "Rainbow Road",
        "Wario Stadium",
        "Block Fort",
        "Skyscraper",
        "Double Deck",
        "DK's Jungle Parkway",
        "Big Donut"
       ],
       "description": "Course 4",
       "index": 2,
       "layout": "IPY_MODEL_82690ac0a70643348311284fdc6a5d02",
       "style": "IPY_MODEL_38422520b08e46659001f44cc80c767c"
      }
     },
     "7b2a422b412949f0bfaf81a97282616d": {
      "model_module": "@jupyter-widgets/controls",
      "model_module_version": "1.4.0",
      "model_name": "IntTextModel",
      "state": {
       "description": "4th place:",
       "layout": "IPY_MODEL_849433c720594665b5cc4efc0fb0e039",
       "step": 1,
       "style": "IPY_MODEL_87a7f187e6664d4da6337baa989b9163",
       "value": 1
      }
     },
     "7b40ba77a1db40989b0212f3089b97cf": {
      "model_module": "@jupyter-widgets/controls",
      "model_module_version": "1.4.0",
      "model_name": "ButtonStyleModel",
      "state": {}
     },
     "7b4339f5a6df4b90b68cfd2c8f5396c6": {
      "model_module": "@jupyter-widgets/controls",
      "model_module_version": "1.4.0",
      "model_name": "CheckboxModel",
      "state": {
       "description": "Hard Mode",
       "disabled": false,
       "layout": "IPY_MODEL_9dc5d547d8ed46bd935325c45efe03a9",
       "style": "IPY_MODEL_0c98fcf916b04936ab7c803da9b66e28",
       "value": false
      }
     },
     "7bd5cadd993a4dd293dd16133696b2a6": {
      "model_module": "@jupyter-widgets/controls",
      "model_module_version": "1.4.0",
      "model_name": "DescriptionStyleModel",
      "state": {
       "description_width": ""
      }
     },
     "7cf24b2898fa459ab709dc0367968ce1": {
      "model_module": "@jupyter-widgets/controls",
      "model_module_version": "1.4.0",
      "model_name": "DescriptionStyleModel",
      "state": {
       "description_width": ""
      }
     },
     "7d47b0051d4246b496b2d63c588b049a": {
      "model_module": "@jupyter-widgets/base",
      "model_module_version": "1.1.0",
      "model_name": "LayoutModel",
      "state": {}
     },
     "7d56e72fcbb6499ba11978e9924ae93c": {
      "model_module": "@jupyter-widgets/base",
      "model_module_version": "1.1.0",
      "model_name": "LayoutModel",
      "state": {}
     },
     "7dce1fd4f0a64fb9bca0b54b459e238e": {
      "model_module": "@jupyter-widgets/base",
      "model_module_version": "1.1.0",
      "model_name": "LayoutModel",
      "state": {}
     },
     "7e8fda79c7e14bffb30cf363082c85ee": {
      "model_module": "@jupyter-widgets/controls",
      "model_module_version": "1.4.0",
      "model_name": "DescriptionStyleModel",
      "state": {
       "description_width": ""
      }
     },
     "7ebe1a560645496f97b528025d26b29d": {
      "model_module": "@jupyter-widgets/base",
      "model_module_version": "1.1.0",
      "model_name": "LayoutModel",
      "state": {}
     },
     "7ecfcbdc186d48b88ace1544b5a70a65": {
      "model_module": "@jupyter-widgets/controls",
      "model_module_version": "1.4.0",
      "model_name": "DropdownModel",
      "state": {
       "_options_labels": [
        "Mario Raceway",
        "Choco Mountain",
        "Bowser's Castle",
        "Banshee Boardwalk",
        "Yoshi Valley",
        "Frappe Snowland",
        "Koopa Troopa Beach",
        "Royal Raceway",
        "Luigi Raceway",
        "Moo Moo Farm",
        "Toad's Turnpike",
        "Kalamari Desert",
        "Sherbert Land",
        "Rainbow Road",
        "Wario Stadium",
        "Block Fort",
        "Skyscraper",
        "Double Deck",
        "DK's Jungle Parkway",
        "Big Donut"
       ],
       "description": "Course 1",
       "index": 14,
       "layout": "IPY_MODEL_ba6b999f172748e2b4dbdc67caedd4a5",
       "style": "IPY_MODEL_140449f7388145da82ff5dc602fae51c"
      }
     },
     "7eebf6647df44283821071989699ba4a": {
      "model_module": "@jupyter-widgets/controls",
      "model_module_version": "1.4.0",
      "model_name": "IntTextModel",
      "state": {
       "description": "1st place:",
       "layout": "IPY_MODEL_98542ee1219d4b1bb1f4f2a8a16a10aa",
       "step": 1,
       "style": "IPY_MODEL_fb4ad14f5ac84267aaf5ef45c475e51b",
       "value": 9
      }
     },
     "7f44a2ef56644924905876aea8691054": {
      "model_module": "@jupyter-widgets/base",
      "model_module_version": "1.1.0",
      "model_name": "LayoutModel",
      "state": {}
     },
     "8046ecc0eec843f2ab3933ed9e96f48f": {
      "model_module": "@jupyter-widgets/controls",
      "model_module_version": "1.4.0",
      "model_name": "IntTextModel",
      "state": {
       "description": "1st place:",
       "layout": "IPY_MODEL_8d3c0c54e26d45ca95e1f4dee80ca73b",
       "step": 1,
       "style": "IPY_MODEL_06ce3c13609b4ee0be5541d4fc45a25b",
       "value": 9
      }
     },
     "804960ab131d4d37ba82a5dd6ce35c3f": {
      "model_module": "@jupyter-widgets/controls",
      "model_module_version": "1.4.0",
      "model_name": "DescriptionStyleModel",
      "state": {
       "description_width": ""
      }
     },
     "80580da79cdf4e288ace58566a163a48": {
      "model_module": "@jupyter-widgets/base",
      "model_module_version": "1.1.0",
      "model_name": "LayoutModel",
      "state": {}
     },
     "8196e4b24a2f466aba39fe6f81cef6ea": {
      "model_module": "@jupyter-widgets/controls",
      "model_module_version": "1.4.0",
      "model_name": "VBoxModel",
      "state": {
       "children": [
        "IPY_MODEL_ff9fbfd4cc334e0d9115360640a949c5",
        "IPY_MODEL_d680380cecfd42378291aa49fbd604e2",
        "IPY_MODEL_36f11d3252214521ba081c44386cfc45",
        "IPY_MODEL_16808b598ee44417ad4494923145bf7a",
        "IPY_MODEL_e9db62aad10648929c6bbdcd947827ec",
        "IPY_MODEL_8adabdfd21474158aeb79b2fa85de7f3",
        "IPY_MODEL_3ca034e247924a109d5c0ef06a232811"
       ],
       "layout": "IPY_MODEL_ecb8657679e249e3b12d55e1baf41bfa"
      }
     },
     "81ab3764a040482ab1ba09623a947800": {
      "model_module": "@jupyter-widgets/controls",
      "model_module_version": "1.4.0",
      "model_name": "DescriptionStyleModel",
      "state": {
       "description_width": ""
      }
     },
     "81ae9a816a294c768b00649b5c70c396": {
      "model_module": "@jupyter-widgets/controls",
      "model_module_version": "1.4.0",
      "model_name": "DescriptionStyleModel",
      "state": {
       "description_width": ""
      }
     },
     "82018b81ba1b40558658665e92694ca8": {
      "model_module": "@jupyter-widgets/controls",
      "model_module_version": "1.4.0",
      "model_name": "DescriptionStyleModel",
      "state": {
       "description_width": ""
      }
     },
     "82690ac0a70643348311284fdc6a5d02": {
      "model_module": "@jupyter-widgets/base",
      "model_module_version": "1.1.0",
      "model_name": "LayoutModel",
      "state": {}
     },
     "82ce3be9fb754e07a0023a87f44d3fd7": {
      "model_module": "@jupyter-widgets/controls",
      "model_module_version": "1.4.0",
      "model_name": "DescriptionStyleModel",
      "state": {
       "description_width": ""
      }
     },
     "82f7d5cce3ef4854a1c658e25777ad7e": {
      "model_module": "@jupyter-widgets/base",
      "model_module_version": "1.1.0",
      "model_name": "LayoutModel",
      "state": {}
     },
     "8333dbc1bd2a4d07a4749961c6d0fb9f": {
      "model_module": "@jupyter-widgets/base",
      "model_module_version": "1.1.0",
      "model_name": "LayoutModel",
      "state": {}
     },
     "8433b1934cd34ade88536ea9c32f15d3": {
      "model_module": "@jupyter-widgets/controls",
      "model_module_version": "1.4.0",
      "model_name": "CheckboxModel",
      "state": {
       "description": "Remove course?",
       "disabled": false,
       "layout": "IPY_MODEL_d99840961dd444cd99abf9afe61102a1",
       "style": "IPY_MODEL_9805e485907649a2ace0a6764228afee",
       "value": true
      }
     },
     "847cf8b5d39a4a66aabd08000e756d78": {
      "model_module": "@jupyter-widgets/controls",
      "model_module_version": "1.4.0",
      "model_name": "DescriptionStyleModel",
      "state": {
       "description_width": ""
      }
     },
     "848c944fcdf645f58e918f407dd09f69": {
      "model_module": "@jupyter-widgets/controls",
      "model_module_version": "1.4.0",
      "model_name": "DescriptionStyleModel",
      "state": {
       "description_width": ""
      }
     },
     "849433c720594665b5cc4efc0fb0e039": {
      "model_module": "@jupyter-widgets/base",
      "model_module_version": "1.1.0",
      "model_name": "LayoutModel",
      "state": {}
     },
     "84c26f2d74b54d33971cec37018abee6": {
      "model_module": "@jupyter-widgets/base",
      "model_module_version": "1.1.0",
      "model_name": "LayoutModel",
      "state": {}
     },
     "84f4e6e8b6d6452f963a61c2d2cfd043": {
      "model_module": "@jupyter-widgets/base",
      "model_module_version": "1.1.0",
      "model_name": "LayoutModel",
      "state": {}
     },
     "84f98b3bffb348b997b7341222eed75b": {
      "model_module": "@jupyter-widgets/controls",
      "model_module_version": "1.4.0",
      "model_name": "ButtonModel",
      "state": {
       "description": "Add Course",
       "layout": "IPY_MODEL_9f36d06978ec4dfdbabc96b5fde0837d",
       "style": "IPY_MODEL_0f1486ab18544dcc8bb9f6a2e271e43c"
      }
     },
     "852a0ad40ee2430a85f20d23dcf5f540": {
      "model_module": "@jupyter-widgets/base",
      "model_module_version": "1.1.0",
      "model_name": "LayoutModel",
      "state": {}
     },
     "856e7df0be50432799a470bdbf6b53b5": {
      "model_module": "@jupyter-widgets/controls",
      "model_module_version": "1.4.0",
      "model_name": "DropdownModel",
      "state": {
       "_options_labels": [
        "Mario Raceway",
        "Choco Mountain",
        "Bowser's Castle",
        "Banshee Boardwalk",
        "Yoshi Valley",
        "Frappe Snowland",
        "Koopa Troopa Beach",
        "Royal Raceway",
        "Luigi Raceway",
        "Moo Moo Farm",
        "Toad's Turnpike",
        "Kalamari Desert",
        "Sherbert Land",
        "Rainbow Road",
        "Wario Stadium",
        "Block Fort",
        "Skyscraper",
        "Double Deck",
        "DK's Jungle Parkway",
        "Big Donut"
       ],
       "description": "Course 1",
       "index": 7,
       "layout": "IPY_MODEL_7d56e72fcbb6499ba11978e9924ae93c",
       "style": "IPY_MODEL_5fdce77d88f14849b12b8e0c41c79df1"
      }
     },
     "86b7a5912371405a9a1d572336ba7f7c": {
      "model_module": "@jupyter-widgets/base",
      "model_module_version": "1.1.0",
      "model_name": "LayoutModel",
      "state": {}
     },
     "86e0ef0df2e24c25891735f7eceb0888": {
      "model_module": "@jupyter-widgets/controls",
      "model_module_version": "1.4.0",
      "model_name": "CheckboxModel",
      "state": {
       "description": "Remove course?",
       "disabled": false,
       "layout": "IPY_MODEL_209a5628c5114a7397f110c198371da4",
       "style": "IPY_MODEL_6fdde7d37bc140ec819d9c3cbd88a9a3",
       "value": true
      }
     },
     "8748a1267479460499f39008d42493f6": {
      "model_module": "@jupyter-widgets/base",
      "model_module_version": "1.1.0",
      "model_name": "LayoutModel",
      "state": {}
     },
     "87a1dcd16b5f44d98d2ba148f3fffde0": {
      "model_module": "@jupyter-widgets/controls",
      "model_module_version": "1.4.0",
      "model_name": "DescriptionStyleModel",
      "state": {
       "description_width": ""
      }
     },
     "87a7f187e6664d4da6337baa989b9163": {
      "model_module": "@jupyter-widgets/controls",
      "model_module_version": "1.4.0",
      "model_name": "DescriptionStyleModel",
      "state": {
       "description_width": ""
      }
     },
     "87ad66dd3c784ce9859c3f552b0d0008": {
      "model_module": "@jupyter-widgets/controls",
      "model_module_version": "1.4.0",
      "model_name": "DropdownModel",
      "state": {
       "_options_labels": [
        "Mario Raceway",
        "Choco Mountain",
        "Bowser's Castle",
        "Banshee Boardwalk",
        "Yoshi Valley",
        "Frappe Snowland",
        "Koopa Troopa Beach",
        "Royal Raceway",
        "Luigi Raceway",
        "Moo Moo Farm",
        "Toad's Turnpike",
        "Kalamari Desert",
        "Sherbert Land",
        "Rainbow Road",
        "Wario Stadium",
        "Block Fort",
        "Skyscraper",
        "Double Deck",
        "DK's Jungle Parkway",
        "Big Donut"
       ],
       "description": "Course 2",
       "index": 4,
       "layout": "IPY_MODEL_e7459fc3873642c59be3f06085769a1b",
       "style": "IPY_MODEL_ae835c63f91741eeb8052cf9f28cc50b"
      }
     },
     "87df8529f9434abf896b8b49f0cf4a70": {
      "model_module": "@jupyter-widgets/controls",
      "model_module_version": "1.4.0",
      "model_name": "DescriptionStyleModel",
      "state": {
       "description_width": ""
      }
     },
     "87f574f7e0d543ed9f3e34e68d07f67c": {
      "model_module": "@jupyter-widgets/base",
      "model_module_version": "1.1.0",
      "model_name": "LayoutModel",
      "state": {}
     },
     "881f778132fd4eff885e305cea1a60d2": {
      "model_module": "@jupyter-widgets/base",
      "model_module_version": "1.1.0",
      "model_name": "LayoutModel",
      "state": {}
     },
     "883ac4b059b64d53937e031c298e318b": {
      "model_module": "@jupyter-widgets/controls",
      "model_module_version": "1.4.0",
      "model_name": "DropdownModel",
      "state": {
       "_options_labels": [
        "Mario Raceway",
        "Choco Mountain",
        "Bowser's Castle",
        "Banshee Boardwalk",
        "Yoshi Valley",
        "Frappe Snowland",
        "Koopa Troopa Beach",
        "Royal Raceway",
        "Luigi Raceway",
        "Moo Moo Farm",
        "Toad's Turnpike",
        "Kalamari Desert",
        "Sherbert Land",
        "Rainbow Road",
        "Wario Stadium",
        "Block Fort",
        "Skyscraper",
        "Double Deck",
        "DK's Jungle Parkway",
        "Big Donut"
       ],
       "description": "Course 2",
       "index": 10,
       "layout": "IPY_MODEL_907817f952bb43b39eff94ce438634b5",
       "style": "IPY_MODEL_7cf24b2898fa459ab709dc0367968ce1"
      }
     },
     "883ad1f00975412993807f642c701bf1": {
      "model_module": "@jupyter-widgets/base",
      "model_module_version": "1.1.0",
      "model_name": "LayoutModel",
      "state": {}
     },
     "886a27a56c0d44a29a229ba2bb9fd75b": {
      "model_module": "@jupyter-widgets/base",
      "model_module_version": "1.1.0",
      "model_name": "LayoutModel",
      "state": {}
     },
     "88fa724f29a94b2b9e1181cf8f07902a": {
      "model_module": "@jupyter-widgets/base",
      "model_module_version": "1.1.0",
      "model_name": "LayoutModel",
      "state": {}
     },
     "893b3ca8fc7f4d30916fac29c8a34e5d": {
      "model_module": "@jupyter-widgets/controls",
      "model_module_version": "1.4.0",
      "model_name": "DropdownModel",
      "state": {
       "_options_labels": [
        "Mario Raceway",
        "Choco Mountain",
        "Bowser's Castle",
        "Banshee Boardwalk",
        "Yoshi Valley",
        "Frappe Snowland",
        "Koopa Troopa Beach",
        "Royal Raceway",
        "Luigi Raceway",
        "Moo Moo Farm",
        "Toad's Turnpike",
        "Kalamari Desert",
        "Sherbert Land",
        "Rainbow Road",
        "Wario Stadium",
        "Block Fort",
        "Skyscraper",
        "Double Deck",
        "DK's Jungle Parkway",
        "Big Donut"
       ],
       "description": "Course 3",
       "index": 1,
       "layout": "IPY_MODEL_a4c6ad39e7604448a00fc5f5198433b9",
       "style": "IPY_MODEL_acff694c5fc347aabf91fc3acd0868ed"
      }
     },
     "8a0c38227fe24e9582b584c8b374501a": {
      "model_module": "@jupyter-widgets/base",
      "model_module_version": "1.1.0",
      "model_name": "LayoutModel",
      "state": {}
     },
     "8a149c8cc2164dbabb41335a26a86891": {
      "model_module": "@jupyter-widgets/base",
      "model_module_version": "1.1.0",
      "model_name": "LayoutModel",
      "state": {}
     },
     "8a9a113f9c9a4f30a997cd8cc46d0d8a": {
      "model_module": "@jupyter-widgets/controls",
      "model_module_version": "1.4.0",
      "model_name": "DescriptionStyleModel",
      "state": {
       "description_width": ""
      }
     },
     "8aab73f0ba994e50becdd542fb7c18f9": {
      "model_module": "@jupyter-widgets/controls",
      "model_module_version": "1.4.0",
      "model_name": "TextareaModel",
      "state": {
       "layout": "IPY_MODEL_fc1619bd4c7644eebb3d5049dfebd654",
       "style": "IPY_MODEL_ce8ed79f192b4f9792c8977906c7705f"
      }
     },
     "8ad10afc22fb468eb182547a8ca27f36": {
      "model_module": "@jupyter-widgets/controls",
      "model_module_version": "1.4.0",
      "model_name": "DescriptionStyleModel",
      "state": {
       "description_width": ""
      }
     },
     "8adabdfd21474158aeb79b2fa85de7f3": {
      "model_module": "@jupyter-widgets/controls",
      "model_module_version": "1.4.0",
      "model_name": "CheckboxModel",
      "state": {
       "description": "Hard Mode",
       "disabled": false,
       "layout": "IPY_MODEL_56fa0c07ffc8495898db8db688a6721d",
       "style": "IPY_MODEL_f60faf99dbc847ff8603b37e70fb55ee",
       "value": false
      }
     },
     "8add97e2a22f490c82a2ef9486686e4d": {
      "model_module": "@jupyter-widgets/base",
      "model_module_version": "1.1.0",
      "model_name": "LayoutModel",
      "state": {}
     },
     "8af2b24f277d459eb7715102b277bfbd": {
      "model_module": "@jupyter-widgets/controls",
      "model_module_version": "1.4.0",
      "model_name": "DescriptionStyleModel",
      "state": {
       "description_width": ""
      }
     },
     "8b108d0d48034ff4aab169091f138e84": {
      "model_module": "@jupyter-widgets/controls",
      "model_module_version": "1.4.0",
      "model_name": "CheckboxModel",
      "state": {
       "description": "Remove course?",
       "disabled": false,
       "layout": "IPY_MODEL_469ab3899299443989d5457c2a8078b7",
       "style": "IPY_MODEL_4799581d4759428ab85a12594f461942",
       "value": true
      }
     },
     "8b7771fe1c174a3a90e7c7f30b5d0633": {
      "model_module": "@jupyter-widgets/controls",
      "model_module_version": "1.4.0",
      "model_name": "DropdownModel",
      "state": {
       "_options_labels": [
        "Mario Raceway",
        "Choco Mountain",
        "Bowser's Castle",
        "Banshee Boardwalk",
        "Yoshi Valley",
        "Frappe Snowland",
        "Koopa Troopa Beach",
        "Royal Raceway",
        "Luigi Raceway",
        "Moo Moo Farm",
        "Toad's Turnpike",
        "Kalamari Desert",
        "Sherbert Land",
        "Rainbow Road",
        "Wario Stadium",
        "Block Fort",
        "Skyscraper",
        "Double Deck",
        "DK's Jungle Parkway",
        "Big Donut"
       ],
       "description": "Course 2",
       "index": 12,
       "layout": "IPY_MODEL_5e6f1986393745f78e6210c2384ccdb0",
       "style": "IPY_MODEL_8e28d30f731d40ca95fae73330885350"
      }
     },
     "8b837f30d29f40cbacf584638fdfd2ad": {
      "model_module": "@jupyter-widgets/controls",
      "model_module_version": "1.4.0",
      "model_name": "DescriptionStyleModel",
      "state": {
       "description_width": ""
      }
     },
     "8d13893f3f4f4cbc9d5b238dd45e99e2": {
      "model_module": "@jupyter-widgets/controls",
      "model_module_version": "1.4.0",
      "model_name": "DropdownModel",
      "state": {
       "_options_labels": [
        "Mario Raceway",
        "Choco Mountain",
        "Bowser's Castle",
        "Banshee Boardwalk",
        "Yoshi Valley",
        "Frappe Snowland",
        "Koopa Troopa Beach",
        "Royal Raceway",
        "Luigi Raceway",
        "Moo Moo Farm",
        "Toad's Turnpike",
        "Kalamari Desert",
        "Sherbert Land",
        "Rainbow Road",
        "Wario Stadium",
        "Block Fort",
        "Skyscraper",
        "Double Deck",
        "DK's Jungle Parkway",
        "Big Donut"
       ],
       "description": "Course 4",
       "index": 11,
       "layout": "IPY_MODEL_d380b90a2fb346eaa70db0554b49e4aa",
       "style": "IPY_MODEL_7169050a55d042d9a6425ba1b65a97bb"
      }
     },
     "8d3c0c54e26d45ca95e1f4dee80ca73b": {
      "model_module": "@jupyter-widgets/base",
      "model_module_version": "1.1.0",
      "model_name": "LayoutModel",
      "state": {}
     },
     "8e28d30f731d40ca95fae73330885350": {
      "model_module": "@jupyter-widgets/controls",
      "model_module_version": "1.4.0",
      "model_name": "DescriptionStyleModel",
      "state": {
       "description_width": ""
      }
     },
     "8e3a9a84990f48bebb4c3f4c219bfcf5": {
      "model_module": "@jupyter-widgets/base",
      "model_module_version": "1.1.0",
      "model_name": "LayoutModel",
      "state": {}
     },
     "8ea429ec8171437e932fb710b947bf34": {
      "model_module": "@jupyter-widgets/base",
      "model_module_version": "1.1.0",
      "model_name": "LayoutModel",
      "state": {}
     },
     "8ec4e05813ce4892bfd31eac74d459b1": {
      "model_module": "@jupyter-widgets/controls",
      "model_module_version": "1.4.0",
      "model_name": "HBoxModel",
      "state": {
       "children": [
        "IPY_MODEL_ef6fe6d2139b4e318247e61d7ba82b5b",
        "IPY_MODEL_7786d261953047d892543151838b4c29"
       ],
       "layout": "IPY_MODEL_3f0d8ebb9a5d4ecfa3a518853cca7f3d"
      }
     },
     "8ef2bde77dc7425688de28df6cd78ebd": {
      "model_module": "@jupyter-widgets/base",
      "model_module_version": "1.1.0",
      "model_name": "LayoutModel",
      "state": {}
     },
     "8f80423bcddb4b4b80aab079eec8dda5": {
      "model_module": "@jupyter-widgets/controls",
      "model_module_version": "1.4.0",
      "model_name": "DescriptionStyleModel",
      "state": {
       "description_width": ""
      }
     },
     "8f88a592581c429b995b890c4fa2d663": {
      "model_module": "@jupyter-widgets/base",
      "model_module_version": "1.1.0",
      "model_name": "LayoutModel",
      "state": {}
     },
     "8f8cee6129b2463b9fafee8b3f0779cb": {
      "model_module": "@jupyter-widgets/controls",
      "model_module_version": "1.4.0",
      "model_name": "DescriptionStyleModel",
      "state": {
       "description_width": ""
      }
     },
     "8fa80a7d1e80499aadc48c066ff302bf": {
      "model_module": "@jupyter-widgets/controls",
      "model_module_version": "1.4.0",
      "model_name": "DescriptionStyleModel",
      "state": {
       "description_width": ""
      }
     },
     "8fd9fcc8a54144d59b1817f69a9036d3": {
      "model_module": "@jupyter-widgets/controls",
      "model_module_version": "1.4.0",
      "model_name": "DropdownModel",
      "state": {
       "_options_labels": [
        "Mario Raceway",
        "Choco Mountain",
        "Bowser's Castle",
        "Banshee Boardwalk",
        "Yoshi Valley",
        "Frappe Snowland",
        "Koopa Troopa Beach",
        "Royal Raceway",
        "Luigi Raceway",
        "Moo Moo Farm",
        "Toad's Turnpike",
        "Kalamari Desert",
        "Sherbert Land",
        "Rainbow Road",
        "Wario Stadium",
        "Block Fort",
        "Skyscraper",
        "Double Deck",
        "DK's Jungle Parkway",
        "Big Donut"
       ],
       "description": "Course 1",
       "index": 18,
       "layout": "IPY_MODEL_6ce821e173e04784b8d71f6df7cca2e5",
       "style": "IPY_MODEL_081a1011c4df4341937afa1ff84b0c3a"
      }
     },
     "90763d26b5664d6bae3273221829e491": {
      "model_module": "@jupyter-widgets/controls",
      "model_module_version": "1.4.0",
      "model_name": "DescriptionStyleModel",
      "state": {
       "description_width": ""
      }
     },
     "907817f952bb43b39eff94ce438634b5": {
      "model_module": "@jupyter-widgets/base",
      "model_module_version": "1.1.0",
      "model_name": "LayoutModel",
      "state": {}
     },
     "907fb421347d49a994a0c8e5ef03582a": {
      "model_module": "@jupyter-widgets/base",
      "model_module_version": "1.1.0",
      "model_name": "LayoutModel",
      "state": {}
     },
     "9127bbf70c3a451dbd7324244bb59874": {
      "model_module": "@jupyter-widgets/base",
      "model_module_version": "1.1.0",
      "model_name": "LayoutModel",
      "state": {}
     },
     "914f9d0228f44a85a71bcb2caff8ee02": {
      "model_module": "@jupyter-widgets/controls",
      "model_module_version": "1.4.0",
      "model_name": "DropdownModel",
      "state": {
       "_options_labels": [
        "Mario Raceway",
        "Choco Mountain",
        "Bowser's Castle",
        "Banshee Boardwalk",
        "Yoshi Valley",
        "Frappe Snowland",
        "Koopa Troopa Beach",
        "Royal Raceway",
        "Luigi Raceway",
        "Moo Moo Farm",
        "Toad's Turnpike",
        "Kalamari Desert",
        "Sherbert Land",
        "Rainbow Road",
        "Wario Stadium",
        "Block Fort",
        "Skyscraper",
        "Double Deck",
        "DK's Jungle Parkway",
        "Big Donut"
       ],
       "description": "Course 2",
       "index": 9,
       "layout": "IPY_MODEL_e9ff850a05c34994acde50c8f1181a6a",
       "style": "IPY_MODEL_eead88f9cb7d415190bba94f579a80e6"
      }
     },
     "917e38f6c22149d8b9480fa11fe4f943": {
      "model_module": "@jupyter-widgets/controls",
      "model_module_version": "1.4.0",
      "model_name": "DescriptionStyleModel",
      "state": {
       "description_width": ""
      }
     },
     "91835b1398d748669b5ae11d9414d94f": {
      "model_module": "@jupyter-widgets/controls",
      "model_module_version": "1.4.0",
      "model_name": "DescriptionStyleModel",
      "state": {
       "description_width": ""
      }
     },
     "918992eeef56423b9950a964aeaf97c8": {
      "model_module": "@jupyter-widgets/controls",
      "model_module_version": "1.4.0",
      "model_name": "IntTextModel",
      "state": {
       "description": "3rd place:",
       "layout": "IPY_MODEL_6ab559cb7e5a4df582aebe0716075c4d",
       "step": 1,
       "style": "IPY_MODEL_41acf3d6d284427fbeb3e5fc1fce1f45",
       "value": 3
      }
     },
     "91cec651859a498c80e356b3a04d7812": {
      "model_module": "@jupyter-widgets/controls",
      "model_module_version": "1.4.0",
      "model_name": "DescriptionStyleModel",
      "state": {
       "description_width": ""
      }
     },
     "9211267ec0d54ba099a21c73eb87cfe2": {
      "model_module": "@jupyter-widgets/controls",
      "model_module_version": "1.4.0",
      "model_name": "DropdownModel",
      "state": {
       "_options_labels": [
        "Mario Raceway",
        "Choco Mountain",
        "Bowser's Castle",
        "Banshee Boardwalk",
        "Yoshi Valley",
        "Frappe Snowland",
        "Koopa Troopa Beach",
        "Royal Raceway",
        "Luigi Raceway",
        "Moo Moo Farm",
        "Toad's Turnpike",
        "Kalamari Desert",
        "Sherbert Land",
        "Rainbow Road",
        "Wario Stadium",
        "Block Fort",
        "Skyscraper",
        "Double Deck",
        "DK's Jungle Parkway",
        "Big Donut"
       ],
       "description": "Course 4",
       "index": 0,
       "layout": "IPY_MODEL_4857027fc6594c63a7ff5bbbf8bd17e3",
       "style": "IPY_MODEL_b03ca1300378489ab6357461865f239c"
      }
     },
     "921eef9d27d74612aba2b13a53a9e0d8": {
      "model_module": "@jupyter-widgets/controls",
      "model_module_version": "1.4.0",
      "model_name": "CheckboxModel",
      "state": {
       "description": "Hard Mode",
       "disabled": false,
       "layout": "IPY_MODEL_2457aee7fb3c4fa5851428a347525736",
       "style": "IPY_MODEL_252e29ee80674d10b6c40110b3a73fec",
       "value": false
      }
     },
     "9225e66c622a4730a195c05285061e49": {
      "model_module": "@jupyter-widgets/base",
      "model_module_version": "1.1.0",
      "model_name": "LayoutModel",
      "state": {}
     },
     "923f86f667904d97a55f5f4d13d02a6f": {
      "model_module": "@jupyter-widgets/base",
      "model_module_version": "1.1.0",
      "model_name": "LayoutModel",
      "state": {}
     },
     "928d1a91959b4165937f52cafdd22519": {
      "model_module": "@jupyter-widgets/base",
      "model_module_version": "1.1.0",
      "model_name": "LayoutModel",
      "state": {}
     },
     "93d3ebddd6024632ba037b4b2c70af99": {
      "model_module": "@jupyter-widgets/controls",
      "model_module_version": "1.4.0",
      "model_name": "DropdownModel",
      "state": {
       "_options_labels": [
        "--Random--",
        "Luigi Raceway",
        "Moo Moo Farm",
        "Koopa Troopa Beach",
        "Kalamari Desert",
        "Toad's Turnpike",
        "Frappe Snowland",
        "Choco Mountain",
        "Mario Raceway",
        "Wario Stadium",
        "Sherbert Land",
        "Royal Raceway",
        "Bowser's Castle",
        "DK's Jungle Parkway",
        "Yoshi Valley",
        "Banshee Boardwalk",
        "Rainbow Road"
       ],
       "description": "Course 1",
       "index": 1,
       "layout": "IPY_MODEL_fd66e0632d6b43a09c497c6f5a333213",
       "style": "IPY_MODEL_dfeed5429d04421f80e4b136a0053208"
      }
     },
     "93e19b44e27742e5934189bd15fdd67d": {
      "model_module": "@jupyter-widgets/controls",
      "model_module_version": "1.4.0",
      "model_name": "DropdownModel",
      "state": {
       "_options_labels": [
        "Mario Raceway",
        "Choco Mountain",
        "Bowser's Castle",
        "Banshee Boardwalk",
        "Yoshi Valley",
        "Frappe Snowland",
        "Koopa Troopa Beach",
        "Royal Raceway",
        "Luigi Raceway",
        "Moo Moo Farm",
        "Toad's Turnpike",
        "Kalamari Desert",
        "Sherbert Land",
        "Rainbow Road",
        "Wario Stadium",
        "Block Fort",
        "Skyscraper",
        "Double Deck",
        "DK's Jungle Parkway",
        "Big Donut"
       ],
       "description": "Course 3",
       "index": 6,
       "layout": "IPY_MODEL_08c494dcdd1e41ee9c1e3069b3320a02",
       "style": "IPY_MODEL_65e89666cf8045088dcbb49fdb577012"
      }
     },
     "943fa2391c4e4347b1d0185408864662": {
      "model_module": "@jupyter-widgets/base",
      "model_module_version": "1.1.0",
      "model_name": "LayoutModel",
      "state": {}
     },
     "9489f6fcf4d5466696e762a1d8f492a5": {
      "model_module": "@jupyter-widgets/controls",
      "model_module_version": "1.4.0",
      "model_name": "DescriptionStyleModel",
      "state": {
       "description_width": ""
      }
     },
     "9496fea840c64cb0963fc3ed1023f027": {
      "model_module": "@jupyter-widgets/base",
      "model_module_version": "1.1.0",
      "model_name": "LayoutModel",
      "state": {}
     },
     "94e8e26ee219494b8933bc2d0bdfd832": {
      "model_module": "@jupyter-widgets/controls",
      "model_module_version": "1.4.0",
      "model_name": "DescriptionStyleModel",
      "state": {
       "description_width": ""
      }
     },
     "956bd03625c341f7b560db86f8398dac": {
      "model_module": "@jupyter-widgets/base",
      "model_module_version": "1.1.0",
      "model_name": "LayoutModel",
      "state": {}
     },
     "95b556cbedbc4903aabde30fdfd36b5e": {
      "model_module": "@jupyter-widgets/controls",
      "model_module_version": "1.4.0",
      "model_name": "HBoxModel",
      "state": {
       "children": [
        "IPY_MODEL_df37c5b0c23f4cb0b31d8f97d156b89f",
        "IPY_MODEL_0f5c0935245744c5962c24fcb9011752",
        "IPY_MODEL_ccd433d9123542779d8032892070172f"
       ],
       "layout": "IPY_MODEL_d9321d4716f141a9845c127d0aab4f4f"
      }
     },
     "95d851dc87a94f67972ccf27548e8c5c": {
      "model_module": "@jupyter-widgets/controls",
      "model_module_version": "1.4.0",
      "model_name": "DropdownModel",
      "state": {
       "_options_labels": [
        "Mario Raceway",
        "Choco Mountain",
        "Bowser's Castle",
        "Banshee Boardwalk",
        "Yoshi Valley",
        "Frappe Snowland",
        "Koopa Troopa Beach",
        "Royal Raceway",
        "Luigi Raceway",
        "Moo Moo Farm",
        "Toad's Turnpike",
        "Kalamari Desert",
        "Sherbert Land",
        "Rainbow Road",
        "Wario Stadium",
        "Block Fort",
        "Skyscraper",
        "Double Deck",
        "DK's Jungle Parkway",
        "Big Donut"
       ],
       "description": "Course 4",
       "index": 13,
       "layout": "IPY_MODEL_2358a039e4b94f779c044d9913a68eda",
       "style": "IPY_MODEL_b8c37d5001b949dfa4bd10ab3d260b50"
      }
     },
     "96777d9ed863456eaf10f6cf3ed9103e": {
      "model_module": "@jupyter-widgets/controls",
      "model_module_version": "1.4.0",
      "model_name": "DescriptionStyleModel",
      "state": {
       "description_width": ""
      }
     },
     "968f833a3a8d44dc850aa2eb580c5edd": {
      "model_module": "@jupyter-widgets/base",
      "model_module_version": "1.1.0",
      "model_name": "LayoutModel",
      "state": {}
     },
     "96eb08261bff44ca939c3ebe658499b3": {
      "model_module": "@jupyter-widgets/base",
      "model_module_version": "1.1.0",
      "model_name": "LayoutModel",
      "state": {}
     },
     "97a37693014f4ded9e74a2beabb93d3f": {
      "model_module": "@jupyter-widgets/base",
      "model_module_version": "1.1.0",
      "model_name": "LayoutModel",
      "state": {}
     },
     "97fd8128f8d34e63b7d770936aee742e": {
      "model_module": "@jupyter-widgets/controls",
      "model_module_version": "1.4.0",
      "model_name": "IntTextModel",
      "state": {
       "description": "4th place:",
       "layout": "IPY_MODEL_c25063187b1847f9993133ab92e0e91f",
       "step": 1,
       "style": "IPY_MODEL_c941f86ff0a94fcfa447a777f884a19b",
       "value": 1
      }
     },
     "9805e485907649a2ace0a6764228afee": {
      "model_module": "@jupyter-widgets/controls",
      "model_module_version": "1.4.0",
      "model_name": "DescriptionStyleModel",
      "state": {
       "description_width": ""
      }
     },
     "98542ee1219d4b1bb1f4f2a8a16a10aa": {
      "model_module": "@jupyter-widgets/base",
      "model_module_version": "1.1.0",
      "model_name": "LayoutModel",
      "state": {}
     },
     "989dc3fbcdd6447daccbeecaf422f8d3": {
      "model_module": "@jupyter-widgets/base",
      "model_module_version": "1.1.0",
      "model_name": "LayoutModel",
      "state": {}
     },
     "990a62f923e044c482d3c7b05396c278": {
      "model_module": "@jupyter-widgets/base",
      "model_module_version": "1.1.0",
      "model_name": "LayoutModel",
      "state": {}
     },
     "99778ed66fab4b759e8d93ecd7ff4fc7": {
      "model_module": "@jupyter-widgets/controls",
      "model_module_version": "1.4.0",
      "model_name": "DropdownModel",
      "state": {
       "_options_labels": [
        "Mario Raceway",
        "Choco Mountain",
        "Bowser's Castle",
        "Banshee Boardwalk",
        "Yoshi Valley",
        "Frappe Snowland",
        "Koopa Troopa Beach",
        "Royal Raceway",
        "Luigi Raceway",
        "Moo Moo Farm",
        "Toad's Turnpike",
        "Kalamari Desert",
        "Sherbert Land",
        "Rainbow Road",
        "Wario Stadium",
        "Block Fort",
        "Skyscraper",
        "Double Deck",
        "DK's Jungle Parkway",
        "Big Donut"
       ],
       "description": "Course 2",
       "index": 9,
       "layout": "IPY_MODEL_66a4d806251d4fc2a35f988c81f8170c",
       "style": "IPY_MODEL_30196ab3586a4f17b3f152e593b1d4b2"
      }
     },
     "9991ad7fa0664761a5ebec951e87c300": {
      "model_module": "@jupyter-widgets/base",
      "model_module_version": "1.1.0",
      "model_name": "LayoutModel",
      "state": {}
     },
     "99c4760275754e498a5452b99204350e": {
      "model_module": "@jupyter-widgets/controls",
      "model_module_version": "1.4.0",
      "model_name": "VBoxModel",
      "state": {
       "children": [
        "IPY_MODEL_cee58e6e986c4e2587a482497ab3ed0b",
        "IPY_MODEL_ff8fdd2ba12548c5b3c1c4eda9195474",
        "IPY_MODEL_57b0e765bc0a449a98c8981a4bd884fe",
        "IPY_MODEL_3d9a3b061b534aefab96a8f7940b0a5a",
        "IPY_MODEL_54f510e35b57486b9e41e13fe34d1b76",
        "IPY_MODEL_d52579f94a8a4ce3a62bef82795250d9",
        "IPY_MODEL_1d2a77ae85db4eba82f9f67b46505e1f"
       ],
       "layout": "IPY_MODEL_715fbbff8e8d441bbf0c7fd7b3424fd1"
      }
     },
     "99c8880cc6b64e4499e14b5a9f83641c": {
      "model_module": "@jupyter-widgets/controls",
      "model_module_version": "1.4.0",
      "model_name": "DescriptionStyleModel",
      "state": {
       "description_width": ""
      }
     },
     "9ab038e93db24c3caddc042e7a77fe59": {
      "model_module": "@jupyter-widgets/base",
      "model_module_version": "1.1.0",
      "model_name": "LayoutModel",
      "state": {}
     },
     "9ac1b830ce4a48bcae0fbfa31b057b3b": {
      "model_module": "@jupyter-widgets/base",
      "model_module_version": "1.1.0",
      "model_name": "LayoutModel",
      "state": {}
     },
     "9aeedb92c2b74efd8cd5decbe0d48e19": {
      "model_module": "@jupyter-widgets/base",
      "model_module_version": "1.1.0",
      "model_name": "LayoutModel",
      "state": {}
     },
     "9bc4b0f5e3ff4b00a273c0100265a741": {
      "model_module": "@jupyter-widgets/controls",
      "model_module_version": "1.4.0",
      "model_name": "DescriptionStyleModel",
      "state": {
       "description_width": ""
      }
     },
     "9bd1999cd6044004aefb4c596ee2bb75": {
      "model_module": "@jupyter-widgets/base",
      "model_module_version": "1.1.0",
      "model_name": "LayoutModel",
      "state": {}
     },
     "9be2b9664e014f9bbe79467a49332479": {
      "model_module": "@jupyter-widgets/base",
      "model_module_version": "1.1.0",
      "model_name": "LayoutModel",
      "state": {}
     },
     "9c3b33458ed249819573ff0edbd7ca9d": {
      "model_module": "@jupyter-widgets/base",
      "model_module_version": "1.1.0",
      "model_name": "LayoutModel",
      "state": {}
     },
     "9c54b81f061141699a9955806fca831b": {
      "model_module": "@jupyter-widgets/controls",
      "model_module_version": "1.4.0",
      "model_name": "DescriptionStyleModel",
      "state": {
       "description_width": ""
      }
     },
     "9cac3ce0e5c04dd5907897cf3e99c70f": {
      "model_module": "@jupyter-widgets/controls",
      "model_module_version": "1.4.0",
      "model_name": "CheckboxModel",
      "state": {
       "description": "Remove course?",
       "disabled": false,
       "layout": "IPY_MODEL_d929938b27654999891bd0f9b07d9bd6",
       "style": "IPY_MODEL_82018b81ba1b40558658665e92694ca8",
       "value": true
      }
     },
     "9d721a21abb34710838fc756290a9899": {
      "model_module": "@jupyter-widgets/controls",
      "model_module_version": "1.4.0",
      "model_name": "DescriptionStyleModel",
      "state": {
       "description_width": ""
      }
     },
     "9dc5d547d8ed46bd935325c45efe03a9": {
      "model_module": "@jupyter-widgets/base",
      "model_module_version": "1.1.0",
      "model_name": "LayoutModel",
      "state": {}
     },
     "9edc6bc310424711a3b62b4195df107b": {
      "model_module": "@jupyter-widgets/base",
      "model_module_version": "1.1.0",
      "model_name": "LayoutModel",
      "state": {}
     },
     "9ee91b9ee0f04d51aa4e9c3cc3d8d540": {
      "model_module": "@jupyter-widgets/controls",
      "model_module_version": "1.4.0",
      "model_name": "ButtonModel",
      "state": {
       "description": "Create Code",
       "layout": "IPY_MODEL_fa214bb491a04da8a73b49f264d6986e",
       "style": "IPY_MODEL_c1ba053e063c48339dc8af350c24b72b"
      }
     },
     "9f36d06978ec4dfdbabc96b5fde0837d": {
      "model_module": "@jupyter-widgets/base",
      "model_module_version": "1.1.0",
      "model_name": "LayoutModel",
      "state": {}
     },
     "9fa813e56f874e11b6729e238226d565": {
      "model_module": "@jupyter-widgets/base",
      "model_module_version": "1.1.0",
      "model_name": "LayoutModel",
      "state": {}
     },
     "a00bafc5a2984d4e8e1d6f7c4b8b8002": {
      "model_module": "@jupyter-widgets/controls",
      "model_module_version": "1.4.0",
      "model_name": "DescriptionStyleModel",
      "state": {
       "description_width": ""
      }
     },
     "a0b9acc0e9c84136bde4be16b1ae4616": {
      "model_module": "@jupyter-widgets/base",
      "model_module_version": "1.1.0",
      "model_name": "LayoutModel",
      "state": {}
     },
     "a13f31e529f24957bc8b7e4ed6fe7def": {
      "model_module": "@jupyter-widgets/controls",
      "model_module_version": "1.4.0",
      "model_name": "DescriptionStyleModel",
      "state": {
       "description_width": ""
      }
     },
     "a1814c3db31b40bbb31530ae840689e0": {
      "model_module": "@jupyter-widgets/controls",
      "model_module_version": "1.4.0",
      "model_name": "DescriptionStyleModel",
      "state": {
       "description_width": ""
      }
     },
     "a191599527c740898799db12e9732bd1": {
      "model_module": "@jupyter-widgets/controls",
      "model_module_version": "1.4.0",
      "model_name": "ButtonModel",
      "state": {
       "description": "Add Course",
       "layout": "IPY_MODEL_18e0ae153e4f4d59a418b8554e7b1136",
       "style": "IPY_MODEL_333221170117410db034bac6c5f5e619"
      }
     },
     "a1981c0a9be2497ab47f629b8a8215a5": {
      "model_module": "@jupyter-widgets/base",
      "model_module_version": "1.1.0",
      "model_name": "LayoutModel",
      "state": {}
     },
     "a1a56021e85c455098916295451ccc87": {
      "model_module": "@jupyter-widgets/base",
      "model_module_version": "1.1.0",
      "model_name": "LayoutModel",
      "state": {}
     },
     "a280879e66cc446d88a3c06a81e3b04a": {
      "model_module": "@jupyter-widgets/controls",
      "model_module_version": "1.4.0",
      "model_name": "ButtonModel",
      "state": {
       "description": "Remove Selected Courses",
       "layout": "IPY_MODEL_4510b7908da74b16b56232fb7b51ff7f",
       "style": "IPY_MODEL_fff4699d50914730b998aa016eca6dc4"
      }
     },
     "a2ed0aedc9ee4040a9eaab84caaf288c": {
      "model_module": "@jupyter-widgets/controls",
      "model_module_version": "1.4.0",
      "model_name": "HBoxModel",
      "state": {
       "children": [
        "IPY_MODEL_0f8a14e91b454187a029b311035d22d6",
        "IPY_MODEL_a280879e66cc446d88a3c06a81e3b04a"
       ],
       "layout": "IPY_MODEL_943fa2391c4e4347b1d0185408864662"
      }
     },
     "a3728cde2b7645b99747284db678cdf1": {
      "model_module": "@jupyter-widgets/controls",
      "model_module_version": "1.4.0",
      "model_name": "DescriptionStyleModel",
      "state": {
       "description_width": ""
      }
     },
     "a38f4cac6cd94a0f991ace0c495f8811": {
      "model_module": "@jupyter-widgets/base",
      "model_module_version": "1.1.0",
      "model_name": "LayoutModel",
      "state": {}
     },
     "a460558efd7443dfa825573fe794c179": {
      "model_module": "@jupyter-widgets/base",
      "model_module_version": "1.1.0",
      "model_name": "LayoutModel",
      "state": {}
     },
     "a47702725a2444ecaa25e6bf35f1c7e7": {
      "model_module": "@jupyter-widgets/base",
      "model_module_version": "1.1.0",
      "model_name": "LayoutModel",
      "state": {}
     },
     "a4c6ad39e7604448a00fc5f5198433b9": {
      "model_module": "@jupyter-widgets/base",
      "model_module_version": "1.1.0",
      "model_name": "LayoutModel",
      "state": {}
     },
     "a50448d0f1204ed8abdbbd57ecee2a0e": {
      "model_module": "@jupyter-widgets/base",
      "model_module_version": "1.1.0",
      "model_name": "LayoutModel",
      "state": {}
     },
     "a51a04018104489aaec844a99a7ac13f": {
      "model_module": "@jupyter-widgets/base",
      "model_module_version": "1.1.0",
      "model_name": "LayoutModel",
      "state": {}
     },
     "a523d514255c4b7c873228025a61d020": {
      "model_module": "@jupyter-widgets/controls",
      "model_module_version": "1.4.0",
      "model_name": "DropdownModel",
      "state": {
       "_options_labels": [
        "Mario Raceway",
        "Choco Mountain",
        "Bowser's Castle",
        "Banshee Boardwalk",
        "Yoshi Valley",
        "Frappe Snowland",
        "Koopa Troopa Beach",
        "Royal Raceway",
        "Luigi Raceway",
        "Moo Moo Farm",
        "Toad's Turnpike",
        "Kalamari Desert",
        "Sherbert Land",
        "Rainbow Road",
        "Wario Stadium",
        "Block Fort",
        "Skyscraper",
        "Double Deck",
        "DK's Jungle Parkway",
        "Big Donut"
       ],
       "description": "Course 1",
       "index": 10,
       "layout": "IPY_MODEL_51902f0f4dec40a3a4a4ce22b86d5ee4",
       "style": "IPY_MODEL_49dbdf1f721145b29c7df5fb06e39151"
      }
     },
     "a57bdcb57a1442ab81ddf6b9c44e1ed3": {
      "model_module": "@jupyter-widgets/base",
      "model_module_version": "1.1.0",
      "model_name": "LayoutModel",
      "state": {}
     },
     "a72a177a74e14d4c9296e3f3c03c0525": {
      "model_module": "@jupyter-widgets/controls",
      "model_module_version": "1.4.0",
      "model_name": "DescriptionStyleModel",
      "state": {
       "description_width": ""
      }
     },
     "a74d68b3a8044bc49b93e3a43cd081d1": {
      "model_module": "@jupyter-widgets/base",
      "model_module_version": "1.1.0",
      "model_name": "LayoutModel",
      "state": {}
     },
     "a7a2bcd73b9b4dcdab52033b07c8b8fb": {
      "model_module": "@jupyter-widgets/controls",
      "model_module_version": "1.4.0",
      "model_name": "IntTextModel",
      "state": {
       "description": "4th place:",
       "layout": "IPY_MODEL_7dce1fd4f0a64fb9bca0b54b459e238e",
       "step": 1,
       "style": "IPY_MODEL_81ab3764a040482ab1ba09623a947800",
       "value": 1
      }
     },
     "a80233acb4984642a21785eb5fec2459": {
      "model_module": "@jupyter-widgets/base",
      "model_module_version": "1.1.0",
      "model_name": "LayoutModel",
      "state": {}
     },
     "a8055a588b5946e78da4db480f54a07b": {
      "model_module": "@jupyter-widgets/base",
      "model_module_version": "1.1.0",
      "model_name": "LayoutModel",
      "state": {}
     },
     "a886f2f5907b4ee89a40b93297353829": {
      "model_module": "@jupyter-widgets/base",
      "model_module_version": "1.1.0",
      "model_name": "LayoutModel",
      "state": {}
     },
     "a90cc98c61244e5790d69de72e2138c3": {
      "model_module": "@jupyter-widgets/base",
      "model_module_version": "1.1.0",
      "model_name": "LayoutModel",
      "state": {}
     },
     "a916b771b86b42c1b7e948c2dd1cd0fc": {
      "model_module": "@jupyter-widgets/base",
      "model_module_version": "1.1.0",
      "model_name": "LayoutModel",
      "state": {}
     },
     "a9cfa66bfa624a1eac5caf97133792d6": {
      "model_module": "@jupyter-widgets/controls",
      "model_module_version": "1.4.0",
      "model_name": "DescriptionStyleModel",
      "state": {
       "description_width": ""
      }
     },
     "aa368b59310b4d42b0716befc281c50b": {
      "model_module": "@jupyter-widgets/controls",
      "model_module_version": "1.4.0",
      "model_name": "DropdownModel",
      "state": {
       "_options_labels": [
        "Mario Raceway",
        "Choco Mountain",
        "Bowser's Castle",
        "Banshee Boardwalk",
        "Yoshi Valley",
        "Frappe Snowland",
        "Koopa Troopa Beach",
        "Royal Raceway",
        "Luigi Raceway",
        "Moo Moo Farm",
        "Toad's Turnpike",
        "Kalamari Desert",
        "Sherbert Land",
        "Rainbow Road",
        "Wario Stadium",
        "Block Fort",
        "Skyscraper",
        "Double Deck",
        "DK's Jungle Parkway",
        "Big Donut"
       ],
       "description": "Course 3",
       "index": 1,
       "layout": "IPY_MODEL_74dfd70ca1084f63aa3004e9d9cc06b1",
       "style": "IPY_MODEL_100b1515dfce436399e08b29723204e0"
      }
     },
     "aabb52a5a841482db9957303d0ecac3e": {
      "model_module": "@jupyter-widgets/base",
      "model_module_version": "1.1.0",
      "model_name": "LayoutModel",
      "state": {}
     },
     "ab18071661734d499ca1b9fc67e45b5e": {
      "model_module": "@jupyter-widgets/controls",
      "model_module_version": "1.4.0",
      "model_name": "DescriptionStyleModel",
      "state": {
       "description_width": ""
      }
     },
     "aba76acbc157439ea01ca4bcf26116b9": {
      "model_module": "@jupyter-widgets/base",
      "model_module_version": "1.1.0",
      "model_name": "LayoutModel",
      "state": {}
     },
     "abc7d2ea329946c586d10744c61dd4bb": {
      "model_module": "@jupyter-widgets/controls",
      "model_module_version": "1.4.0",
      "model_name": "DescriptionStyleModel",
      "state": {
       "description_width": ""
      }
     },
     "ac85983cc2ad431d8358cbd9b3f91b5b": {
      "model_module": "@jupyter-widgets/controls",
      "model_module_version": "1.4.0",
      "model_name": "DescriptionStyleModel",
      "state": {
       "description_width": ""
      }
     },
     "ac9118ce85074951ac8f01a235431ab0": {
      "model_module": "@jupyter-widgets/base",
      "model_module_version": "1.1.0",
      "model_name": "LayoutModel",
      "state": {}
     },
     "acd632a00d4e45c3a1001bd21eedd988": {
      "model_module": "@jupyter-widgets/controls",
      "model_module_version": "1.4.0",
      "model_name": "DescriptionStyleModel",
      "state": {
       "description_width": ""
      }
     },
     "acff694c5fc347aabf91fc3acd0868ed": {
      "model_module": "@jupyter-widgets/controls",
      "model_module_version": "1.4.0",
      "model_name": "DescriptionStyleModel",
      "state": {
       "description_width": ""
      }
     },
     "ad3cbd2a595248ad9ceb401bcec97054": {
      "model_module": "@jupyter-widgets/controls",
      "model_module_version": "1.4.0",
      "model_name": "DescriptionStyleModel",
      "state": {
       "description_width": ""
      }
     },
     "ada1f807e1e249afb8e3744b4e164ccc": {
      "model_module": "@jupyter-widgets/controls",
      "model_module_version": "1.4.0",
      "model_name": "ButtonModel",
      "state": {
       "description": "Remove Selected Courses",
       "layout": "IPY_MODEL_956bd03625c341f7b560db86f8398dac",
       "style": "IPY_MODEL_188989908ead4f3390ac547458aa6153"
      }
     },
     "ae1dfceaf2e1482c9eeaf43aaad6fe67": {
      "model_module": "@jupyter-widgets/base",
      "model_module_version": "1.1.0",
      "model_name": "LayoutModel",
      "state": {}
     },
     "ae4679bae6e047dd92dd44b556a437aa": {
      "model_module": "@jupyter-widgets/controls",
      "model_module_version": "1.4.0",
      "model_name": "DescriptionStyleModel",
      "state": {
       "description_width": ""
      }
     },
     "ae835c63f91741eeb8052cf9f28cc50b": {
      "model_module": "@jupyter-widgets/controls",
      "model_module_version": "1.4.0",
      "model_name": "DescriptionStyleModel",
      "state": {
       "description_width": ""
      }
     },
     "aea044c81f804280916710182d0f7f07": {
      "model_module": "@jupyter-widgets/base",
      "model_module_version": "1.1.0",
      "model_name": "LayoutModel",
      "state": {}
     },
     "aed54ce79d2a458e8a214dfa7309798f": {
      "model_module": "@jupyter-widgets/controls",
      "model_module_version": "1.4.0",
      "model_name": "CheckboxModel",
      "state": {
       "description": "Remove course?",
       "disabled": false,
       "layout": "IPY_MODEL_5bbf0cf5acc44da6a65163e38d96f20f",
       "style": "IPY_MODEL_48cfc3fdc05d41009725f1ac4b49fed1",
       "value": true
      }
     },
     "af8c5f20ba564fd296706854fc530ea3": {
      "model_module": "@jupyter-widgets/base",
      "model_module_version": "1.1.0",
      "model_name": "LayoutModel",
      "state": {}
     },
     "af91138a557949108fc4b07e3c47b235": {
      "model_module": "@jupyter-widgets/controls",
      "model_module_version": "1.4.0",
      "model_name": "IntTextModel",
      "state": {
       "description": "4th place:",
       "layout": "IPY_MODEL_0e0a3aedab8c4d17bfad4b3845ea7b27",
       "step": 1,
       "style": "IPY_MODEL_87a1dcd16b5f44d98d2ba148f3fffde0",
       "value": 1
      }
     },
     "b02f4af8420e4521b9bcf05a90bd57f0": {
      "model_module": "@jupyter-widgets/base",
      "model_module_version": "1.1.0",
      "model_name": "LayoutModel",
      "state": {}
     },
     "b03ca1300378489ab6357461865f239c": {
      "model_module": "@jupyter-widgets/controls",
      "model_module_version": "1.4.0",
      "model_name": "DescriptionStyleModel",
      "state": {
       "description_width": ""
      }
     },
     "b051678ac29d422b8f6ee746557e7588": {
      "model_module": "@jupyter-widgets/base",
      "model_module_version": "1.1.0",
      "model_name": "LayoutModel",
      "state": {}
     },
     "b05d3502cc924df0b9e2e61f609f1d12": {
      "model_module": "@jupyter-widgets/base",
      "model_module_version": "1.1.0",
      "model_name": "LayoutModel",
      "state": {}
     },
     "b0939bbceaf247f596d6d2854fc3ee80": {
      "model_module": "@jupyter-widgets/base",
      "model_module_version": "1.1.0",
      "model_name": "LayoutModel",
      "state": {}
     },
     "b101005f35a94783b91bae9f9b8558dd": {
      "model_module": "@jupyter-widgets/base",
      "model_module_version": "1.1.0",
      "model_name": "LayoutModel",
      "state": {}
     },
     "b14131ce679746409a4f5e6c3e7924f1": {
      "model_module": "@jupyter-widgets/controls",
      "model_module_version": "1.4.0",
      "model_name": "DropdownModel",
      "state": {
       "_options_labels": [
        "Mario Raceway",
        "Choco Mountain",
        "Bowser's Castle",
        "Banshee Boardwalk",
        "Yoshi Valley",
        "Frappe Snowland",
        "Koopa Troopa Beach",
        "Royal Raceway",
        "Luigi Raceway",
        "Moo Moo Farm",
        "Toad's Turnpike",
        "Kalamari Desert",
        "Sherbert Land",
        "Rainbow Road",
        "Wario Stadium",
        "Block Fort",
        "Skyscraper",
        "Double Deck",
        "DK's Jungle Parkway",
        "Big Donut"
       ],
       "description": "Course 2",
       "index": 12,
       "layout": "IPY_MODEL_63ee96d1ad8f4fdd8fa114b05a263fff",
       "style": "IPY_MODEL_5398d767186445758892c4397a784cd9"
      }
     },
     "b1d020b3b13c4eed885d672caee75131": {
      "model_module": "@jupyter-widgets/controls",
      "model_module_version": "1.4.0",
      "model_name": "DropdownModel",
      "state": {
       "_options_labels": [
        "Mario Raceway",
        "Choco Mountain",
        "Bowser's Castle",
        "Banshee Boardwalk",
        "Yoshi Valley",
        "Frappe Snowland",
        "Koopa Troopa Beach",
        "Royal Raceway",
        "Luigi Raceway",
        "Moo Moo Farm",
        "Toad's Turnpike",
        "Kalamari Desert",
        "Sherbert Land",
        "Rainbow Road",
        "Wario Stadium",
        "Block Fort",
        "Skyscraper",
        "Double Deck",
        "DK's Jungle Parkway",
        "Big Donut"
       ],
       "description": "Course 1",
       "index": 10,
       "layout": "IPY_MODEL_6637ba2fb1c64ab78ebc776a25d3291f",
       "style": "IPY_MODEL_c39b9c9d290e4e3baaa58d51311bcdd8"
      }
     },
     "b1d2fab793f94803851aae6e0355cba1": {
      "model_module": "@jupyter-widgets/controls",
      "model_module_version": "1.4.0",
      "model_name": "DropdownModel",
      "state": {
       "_options_labels": [
        "Mario Raceway",
        "Choco Mountain",
        "Bowser's Castle",
        "Banshee Boardwalk",
        "Yoshi Valley",
        "Frappe Snowland",
        "Koopa Troopa Beach",
        "Royal Raceway",
        "Luigi Raceway",
        "Moo Moo Farm",
        "Toad's Turnpike",
        "Kalamari Desert",
        "Sherbert Land",
        "Rainbow Road",
        "Wario Stadium",
        "Block Fort",
        "Skyscraper",
        "Double Deck",
        "DK's Jungle Parkway",
        "Big Donut"
       ],
       "description": "Course 1",
       "index": 10,
       "layout": "IPY_MODEL_fc5053ca08134c739ab204929f61de6b",
       "style": "IPY_MODEL_5a38990762c142faa3653d3043868204"
      }
     },
     "b2665ac389eb4b8eae5bcb4750b41f8f": {
      "model_module": "@jupyter-widgets/controls",
      "model_module_version": "1.4.0",
      "model_name": "CheckboxModel",
      "state": {
       "description": "Remove course?",
       "disabled": false,
       "layout": "IPY_MODEL_72045c7f34184a75840880d679d9855b",
       "style": "IPY_MODEL_bbfd01f60d2b452cb0962bf9b94851c9",
       "value": true
      }
     },
     "b2c2374404db4326ad30ff47a174ea26": {
      "model_module": "@jupyter-widgets/controls",
      "model_module_version": "1.4.0",
      "model_name": "LabelModel",
      "state": {
       "layout": "IPY_MODEL_6327736eaf8e422caa5878dd1553d49b",
       "style": "IPY_MODEL_56bb4a7275314030b5b6404474160ae3",
       "value": "Points for"
      }
     },
     "b2c8a3167b124342b5f2129ef4b0c01e": {
      "model_module": "@jupyter-widgets/controls",
      "model_module_version": "1.4.0",
      "model_name": "ButtonModel",
      "state": {
       "description": "Add Course",
       "layout": "IPY_MODEL_c29354341853437080cf8c7d1f53788f",
       "style": "IPY_MODEL_cecae1f3f2524b35a76ce3ab3f152166"
      }
     },
     "b2e084191cfe4203b46cde56c7abcfd6": {
      "model_module": "@jupyter-widgets/controls",
      "model_module_version": "1.4.0",
      "model_name": "DescriptionStyleModel",
      "state": {
       "description_width": ""
      }
     },
     "b3693ea17ad04b1ca19029be4313292e": {
      "model_module": "@jupyter-widgets/controls",
      "model_module_version": "1.4.0",
      "model_name": "DropdownModel",
      "state": {
       "_options_labels": [
        "Mario Raceway",
        "Choco Mountain",
        "Bowser's Castle",
        "Banshee Boardwalk",
        "Yoshi Valley",
        "Frappe Snowland",
        "Koopa Troopa Beach",
        "Royal Raceway",
        "Luigi Raceway",
        "Moo Moo Farm",
        "Toad's Turnpike",
        "Kalamari Desert",
        "Sherbert Land",
        "Rainbow Road",
        "Wario Stadium",
        "Block Fort",
        "Skyscraper",
        "Double Deck",
        "DK's Jungle Parkway",
        "Big Donut"
       ],
       "description": "Course 3",
       "index": 3,
       "layout": "IPY_MODEL_e863d538081d4ae0a6d8d38982d7d82b",
       "style": "IPY_MODEL_57bd305ef629474cbbdc17a48a1973e2"
      }
     },
     "b374176097644639ab66abe5b590fa31": {
      "model_module": "@jupyter-widgets/base",
      "model_module_version": "1.1.0",
      "model_name": "LayoutModel",
      "state": {}
     },
     "b3824e33b9674a09aff06dc284d2856b": {
      "model_module": "@jupyter-widgets/base",
      "model_module_version": "1.1.0",
      "model_name": "LayoutModel",
      "state": {}
     },
     "b48ba4b2bdfc47ccae69298b5b5873a9": {
      "model_module": "@jupyter-widgets/base",
      "model_module_version": "1.1.0",
      "model_name": "LayoutModel",
      "state": {}
     },
     "b517031b77224037b38470e5222f5e09": {
      "model_module": "@jupyter-widgets/controls",
      "model_module_version": "1.4.0",
      "model_name": "DescriptionStyleModel",
      "state": {
       "description_width": ""
      }
     },
     "b598e4753ec749cfbd83922231a80af1": {
      "model_module": "@jupyter-widgets/base",
      "model_module_version": "1.1.0",
      "model_name": "LayoutModel",
      "state": {}
     },
     "b60fb16fe7994882892f5816151a875b": {
      "model_module": "@jupyter-widgets/controls",
      "model_module_version": "1.4.0",
      "model_name": "CheckboxModel",
      "state": {
       "description": "Truely Random Items",
       "disabled": false,
       "layout": "IPY_MODEL_3506055171724eebadee1d25e7f71924",
       "style": "IPY_MODEL_baeaee91b7ef4ba489ed546464114638",
       "value": false
      }
     },
     "b644b2cfcda842beb97d50fae8b808c6": {
      "model_module": "@jupyter-widgets/controls",
      "model_module_version": "1.4.0",
      "model_name": "DropdownModel",
      "state": {
       "_options_labels": [
        "Mario Raceway",
        "Choco Mountain",
        "Bowser's Castle",
        "Banshee Boardwalk",
        "Yoshi Valley",
        "Frappe Snowland",
        "Koopa Troopa Beach",
        "Royal Raceway",
        "Luigi Raceway",
        "Moo Moo Farm",
        "Toad's Turnpike",
        "Kalamari Desert",
        "Sherbert Land",
        "Rainbow Road",
        "Wario Stadium",
        "Block Fort",
        "Skyscraper",
        "Double Deck",
        "DK's Jungle Parkway",
        "Big Donut"
       ],
       "description": "Course 3",
       "index": 6,
       "layout": "IPY_MODEL_5a6e6143b318424f87c98fd923f2af74",
       "style": "IPY_MODEL_ad3cbd2a595248ad9ceb401bcec97054"
      }
     },
     "b735f6e5f25941998c4ed07cd88f7e55": {
      "model_module": "@jupyter-widgets/controls",
      "model_module_version": "1.4.0",
      "model_name": "DropdownModel",
      "state": {
       "_options_labels": [
        "Mario Raceway",
        "Choco Mountain",
        "Bowser's Castle",
        "Banshee Boardwalk",
        "Yoshi Valley",
        "Frappe Snowland",
        "Koopa Troopa Beach",
        "Royal Raceway",
        "Luigi Raceway",
        "Moo Moo Farm",
        "Toad's Turnpike",
        "Kalamari Desert",
        "Sherbert Land",
        "Rainbow Road",
        "Wario Stadium",
        "Block Fort",
        "Skyscraper",
        "Double Deck",
        "DK's Jungle Parkway",
        "Big Donut"
       ],
       "description": "Course 2",
       "index": 12,
       "layout": "IPY_MODEL_852a0ad40ee2430a85f20d23dcf5f540",
       "style": "IPY_MODEL_9489f6fcf4d5466696e762a1d8f492a5"
      }
     },
     "b8364036a475400a9ce3cf0706236551": {
      "model_module": "@jupyter-widgets/controls",
      "model_module_version": "1.4.0",
      "model_name": "CheckboxModel",
      "state": {
       "description": "Remove course?",
       "disabled": false,
       "layout": "IPY_MODEL_18b6d2283743481aa61f333dc932ff5c",
       "style": "IPY_MODEL_e9d882a85b024bd28a24c90b906c4741",
       "value": true
      }
     },
     "b84717556f394211b2069c5d1305d2ff": {
      "model_module": "@jupyter-widgets/base",
      "model_module_version": "1.1.0",
      "model_name": "LayoutModel",
      "state": {}
     },
     "b8c37d5001b949dfa4bd10ab3d260b50": {
      "model_module": "@jupyter-widgets/controls",
      "model_module_version": "1.4.0",
      "model_name": "DescriptionStyleModel",
      "state": {
       "description_width": ""
      }
     },
     "b950a0accf024de98c5931b0a5822033": {
      "model_module": "@jupyter-widgets/controls",
      "model_module_version": "1.4.0",
      "model_name": "DescriptionStyleModel",
      "state": {
       "description_width": ""
      }
     },
     "b956a8841dc846c9a6025fce2e10348e": {
      "model_module": "@jupyter-widgets/controls",
      "model_module_version": "1.4.0",
      "model_name": "VBoxModel",
      "state": {
       "children": [
        "IPY_MODEL_bbbc22f8f1744b86b2d979c735070122",
        "IPY_MODEL_e6ff3fcdf3ce47b5b91b2843349861f9",
        "IPY_MODEL_3148bdcf44b94e0889927d8329bb9b40",
        "IPY_MODEL_24990fdb666743a8ababc60f1b1a4009",
        "IPY_MODEL_4ce7864fb9d84f2ba4fe14d69b0313c0",
        "IPY_MODEL_04aab9efc07648189e9df9300fdf3708",
        "IPY_MODEL_daab59b14e154ce5851690c263db9ecf"
       ],
       "layout": "IPY_MODEL_9127bbf70c3a451dbd7324244bb59874"
      }
     },
     "b96a62bb28fe40378f958a5c02e2bc4d": {
      "model_module": "@jupyter-widgets/controls",
      "model_module_version": "1.4.0",
      "model_name": "DescriptionStyleModel",
      "state": {
       "description_width": ""
      }
     },
     "b9e2bd3a75a445e1aeecc0a707bfe4b9": {
      "model_module": "@jupyter-widgets/controls",
      "model_module_version": "1.4.0",
      "model_name": "DescriptionStyleModel",
      "state": {
       "description_width": ""
      }
     },
     "ba6b999f172748e2b4dbdc67caedd4a5": {
      "model_module": "@jupyter-widgets/base",
      "model_module_version": "1.1.0",
      "model_name": "LayoutModel",
      "state": {}
     },
     "ba9af67476de419db56ff9d913031018": {
      "model_module": "@jupyter-widgets/base",
      "model_module_version": "1.1.0",
      "model_name": "LayoutModel",
      "state": {}
     },
     "baeaee91b7ef4ba489ed546464114638": {
      "model_module": "@jupyter-widgets/controls",
      "model_module_version": "1.4.0",
      "model_name": "DescriptionStyleModel",
      "state": {
       "description_width": ""
      }
     },
     "baf0d8cad25147459f4f831e3b6fda15": {
      "model_module": "@jupyter-widgets/base",
      "model_module_version": "1.1.0",
      "model_name": "LayoutModel",
      "state": {}
     },
     "bbbc22f8f1744b86b2d979c735070122": {
      "model_module": "@jupyter-widgets/controls",
      "model_module_version": "1.4.0",
      "model_name": "LabelModel",
      "state": {
       "layout": "IPY_MODEL_cef895b3301c4ca3a285d07c6e90a338",
       "style": "IPY_MODEL_1d9fbe705fe34a97a48a6a5e26385b5d",
       "value": "Points for"
      }
     },
     "bbf30b674a3b473a9d21063f29bd1b3b": {
      "model_module": "@jupyter-widgets/base",
      "model_module_version": "1.1.0",
      "model_name": "LayoutModel",
      "state": {}
     },
     "bbfd01f60d2b452cb0962bf9b94851c9": {
      "model_module": "@jupyter-widgets/controls",
      "model_module_version": "1.4.0",
      "model_name": "DescriptionStyleModel",
      "state": {
       "description_width": ""
      }
     },
     "bc5ee9fa30804fa58d1789f0f7a764e0": {
      "model_module": "@jupyter-widgets/controls",
      "model_module_version": "1.4.0",
      "model_name": "DescriptionStyleModel",
      "state": {
       "description_width": ""
      }
     },
     "bcfafa275aec48c6a6ac6f7860e4e7d2": {
      "model_module": "@jupyter-widgets/controls",
      "model_module_version": "1.4.0",
      "model_name": "DescriptionStyleModel",
      "state": {
       "description_width": ""
      }
     },
     "bd09ad6e7c964b5fa40f06f62ab691f8": {
      "model_module": "@jupyter-widgets/controls",
      "model_module_version": "1.4.0",
      "model_name": "ButtonStyleModel",
      "state": {}
     },
     "bd2ed870b318472c82bf06ad5a5fbadd": {
      "model_module": "@jupyter-widgets/controls",
      "model_module_version": "1.4.0",
      "model_name": "DescriptionStyleModel",
      "state": {
       "description_width": ""
      }
     },
     "bd9d05bb5ead4a2b9ddda65c6aa45942": {
      "model_module": "@jupyter-widgets/controls",
      "model_module_version": "1.4.0",
      "model_name": "VBoxModel",
      "state": {
       "children": [
        "IPY_MODEL_5678cf78e2ca43d9b59723fc71660da0",
        "IPY_MODEL_7eebf6647df44283821071989699ba4a",
        "IPY_MODEL_72e196d315bc46f18f7d74b695052210",
        "IPY_MODEL_4b02ed4998424c419e34be68f368ee83",
        "IPY_MODEL_7b2a422b412949f0bfaf81a97282616d",
        "IPY_MODEL_921eef9d27d74612aba2b13a53a9e0d8",
        "IPY_MODEL_f0c2611215e842328ca6b0056eefe553"
       ],
       "layout": "IPY_MODEL_5c435bb2d8434ddcba4ea764ea7fa517"
      }
     },
     "bd9e12bce87a4c5aa9cdb675750f05d0": {
      "model_module": "@jupyter-widgets/controls",
      "model_module_version": "1.4.0",
      "model_name": "DropdownModel",
      "state": {
       "_options_labels": [
        "Mario Raceway",
        "Choco Mountain",
        "Bowser's Castle",
        "Banshee Boardwalk",
        "Yoshi Valley",
        "Frappe Snowland",
        "Koopa Troopa Beach",
        "Royal Raceway",
        "Luigi Raceway",
        "Moo Moo Farm",
        "Toad's Turnpike",
        "Kalamari Desert",
        "Sherbert Land",
        "Rainbow Road",
        "Wario Stadium",
        "Block Fort",
        "Skyscraper",
        "Double Deck",
        "DK's Jungle Parkway",
        "Big Donut"
       ],
       "description": "Course 4",
       "index": 0,
       "layout": "IPY_MODEL_cb37227b3773434c8d2cba7ec47dd0a4",
       "style": "IPY_MODEL_c8f39cff16c94f05b2b143acd779d15b"
      }
     },
     "bdccbc84c77447f39b53b9c32b3908a7": {
      "model_module": "@jupyter-widgets/controls",
      "model_module_version": "1.4.0",
      "model_name": "DescriptionStyleModel",
      "state": {
       "description_width": ""
      }
     },
     "be21324d71114a37a6be6d15873e2334": {
      "model_module": "@jupyter-widgets/controls",
      "model_module_version": "1.4.0",
      "model_name": "DescriptionStyleModel",
      "state": {
       "description_width": ""
      }
     },
     "beca96f7e3714e6a8600e7c3590f857f": {
      "model_module": "@jupyter-widgets/controls",
      "model_module_version": "1.4.0",
      "model_name": "DescriptionStyleModel",
      "state": {
       "description_width": ""
      }
     },
     "bf795f3577a448bbbd20c14bd98312af": {
      "model_module": "@jupyter-widgets/controls",
      "model_module_version": "1.4.0",
      "model_name": "CheckboxModel",
      "state": {
       "description": "Remove course?",
       "disabled": false,
       "layout": "IPY_MODEL_9be2b9664e014f9bbe79467a49332479",
       "style": "IPY_MODEL_5b767ee81b614d21bc396865fb8380d6",
       "value": true
      }
     },
     "bfd664a5cf1f48df8d0fdea20c42ff06": {
      "model_module": "@jupyter-widgets/controls",
      "model_module_version": "1.4.0",
      "model_name": "DropdownModel",
      "state": {
       "_options_labels": [
        "Mario Raceway",
        "Choco Mountain",
        "Bowser's Castle",
        "Banshee Boardwalk",
        "Yoshi Valley",
        "Frappe Snowland",
        "Koopa Troopa Beach",
        "Royal Raceway",
        "Luigi Raceway",
        "Moo Moo Farm",
        "Toad's Turnpike",
        "Kalamari Desert",
        "Sherbert Land",
        "Rainbow Road",
        "Wario Stadium",
        "Block Fort",
        "Skyscraper",
        "Double Deck",
        "DK's Jungle Parkway",
        "Big Donut"
       ],
       "description": "Course 4",
       "index": 13,
       "layout": "IPY_MODEL_1dd0c4f4f7924f9696b421b7621c9d7d",
       "style": "IPY_MODEL_23bc409526b64af980db615cdef350a4"
      }
     },
     "c0592abc6fa642f5a45aaa4a3959bcc0": {
      "model_module": "@jupyter-widgets/base",
      "model_module_version": "1.1.0",
      "model_name": "LayoutModel",
      "state": {}
     },
     "c062404699c74d29a2d15132e4861242": {
      "model_module": "@jupyter-widgets/controls",
      "model_module_version": "1.4.0",
      "model_name": "IntTextModel",
      "state": {
       "description": "1st place:",
       "layout": "IPY_MODEL_ccc303ad00ec47819b24949ad4177cc0",
       "step": 1,
       "style": "IPY_MODEL_e5df5327d46f4654bc8baef9ab6de0f3",
       "value": 9
      }
     },
     "c1382955280f44fd914ebf8d23912c4d": {
      "model_module": "@jupyter-widgets/controls",
      "model_module_version": "1.4.0",
      "model_name": "DescriptionStyleModel",
      "state": {
       "description_width": ""
      }
     },
     "c161052d89ff4b52a73aeeae36d8608f": {
      "model_module": "@jupyter-widgets/base",
      "model_module_version": "1.1.0",
      "model_name": "LayoutModel",
      "state": {}
     },
     "c1ba053e063c48339dc8af350c24b72b": {
      "model_module": "@jupyter-widgets/controls",
      "model_module_version": "1.4.0",
      "model_name": "ButtonStyleModel",
      "state": {}
     },
     "c23a806086944073b04619ae6d5652c6": {
      "model_module": "@jupyter-widgets/controls",
      "model_module_version": "1.4.0",
      "model_name": "DescriptionStyleModel",
      "state": {
       "description_width": ""
      }
     },
     "c25063187b1847f9993133ab92e0e91f": {
      "model_module": "@jupyter-widgets/base",
      "model_module_version": "1.1.0",
      "model_name": "LayoutModel",
      "state": {}
     },
     "c29354341853437080cf8c7d1f53788f": {
      "model_module": "@jupyter-widgets/base",
      "model_module_version": "1.1.0",
      "model_name": "LayoutModel",
      "state": {}
     },
     "c2dc19d60c6c4dd1bd062203cdbaedd2": {
      "model_module": "@jupyter-widgets/base",
      "model_module_version": "1.1.0",
      "model_name": "LayoutModel",
      "state": {}
     },
     "c2ed0eb027b64c16a6111b3062c2f1d9": {
      "model_module": "@jupyter-widgets/controls",
      "model_module_version": "1.4.0",
      "model_name": "DescriptionStyleModel",
      "state": {
       "description_width": ""
      }
     },
     "c320b03daf6c43e480eb91829bc17d9f": {
      "model_module": "@jupyter-widgets/controls",
      "model_module_version": "1.4.0",
      "model_name": "DescriptionStyleModel",
      "state": {
       "description_width": ""
      }
     },
     "c32e71ab20d84b33a2f60881410875a3": {
      "model_module": "@jupyter-widgets/base",
      "model_module_version": "1.1.0",
      "model_name": "LayoutModel",
      "state": {}
     },
     "c381a78bbc584e759eb26ee4fa973d79": {
      "model_module": "@jupyter-widgets/base",
      "model_module_version": "1.1.0",
      "model_name": "LayoutModel",
      "state": {}
     },
     "c392bbfbaaed42b2bb095b86bc989195": {
      "model_module": "@jupyter-widgets/controls",
      "model_module_version": "1.4.0",
      "model_name": "DescriptionStyleModel",
      "state": {
       "description_width": ""
      }
     },
     "c39b9c9d290e4e3baaa58d51311bcdd8": {
      "model_module": "@jupyter-widgets/controls",
      "model_module_version": "1.4.0",
      "model_name": "DescriptionStyleModel",
      "state": {
       "description_width": ""
      }
     },
     "c3d3d25470054c53be220771e69c3853": {
      "model_module": "@jupyter-widgets/controls",
      "model_module_version": "1.4.0",
      "model_name": "DropdownModel",
      "state": {
       "_options_labels": [
        "Mario Raceway",
        "Choco Mountain",
        "Bowser's Castle",
        "Banshee Boardwalk",
        "Yoshi Valley",
        "Frappe Snowland",
        "Koopa Troopa Beach",
        "Royal Raceway",
        "Luigi Raceway",
        "Moo Moo Farm",
        "Toad's Turnpike",
        "Kalamari Desert",
        "Sherbert Land",
        "Rainbow Road",
        "Wario Stadium",
        "Block Fort",
        "Skyscraper",
        "Double Deck",
        "DK's Jungle Parkway",
        "Big Donut"
       ],
       "description": "Course 3",
       "index": 3,
       "layout": "IPY_MODEL_da22b51ed5a746c78eb33eaadc9ef96d",
       "style": "IPY_MODEL_94e8e26ee219494b8933bc2d0bdfd832"
      }
     },
     "c4c4fe24f1ac498594b5fe62ef8f93fd": {
      "model_module": "@jupyter-widgets/base",
      "model_module_version": "1.1.0",
      "model_name": "LayoutModel",
      "state": {}
     },
     "c4d215adf59d469d9f32ce265e51d42f": {
      "model_module": "@jupyter-widgets/controls",
      "model_module_version": "1.4.0",
      "model_name": "DescriptionStyleModel",
      "state": {
       "description_width": ""
      }
     },
     "c56a2661b38a477582db67ebb24876f8": {
      "model_module": "@jupyter-widgets/controls",
      "model_module_version": "1.4.0",
      "model_name": "DescriptionStyleModel",
      "state": {
       "description_width": ""
      }
     },
     "c59249ff620a435bba4c8908c43833f0": {
      "model_module": "@jupyter-widgets/base",
      "model_module_version": "1.1.0",
      "model_name": "LayoutModel",
      "state": {}
     },
     "c5eed565c9b84576b074a4a360bdd9f1": {
      "model_module": "@jupyter-widgets/controls",
      "model_module_version": "1.4.0",
      "model_name": "DescriptionStyleModel",
      "state": {
       "description_width": ""
      }
     },
     "c630f10ab4ec45aba67a8030efd466ce": {
      "model_module": "@jupyter-widgets/base",
      "model_module_version": "1.1.0",
      "model_name": "LayoutModel",
      "state": {}
     },
     "c69c53ae1ed7429b98ec10f3967c19e8": {
      "model_module": "@jupyter-widgets/controls",
      "model_module_version": "1.4.0",
      "model_name": "DescriptionStyleModel",
      "state": {
       "description_width": ""
      }
     },
     "c705d10c237640c9b2edd77f9beb8641": {
      "model_module": "@jupyter-widgets/controls",
      "model_module_version": "1.4.0",
      "model_name": "DescriptionStyleModel",
      "state": {
       "description_width": ""
      }
     },
     "c77235a1e1e0406e9bbd5144a5f538d9": {
      "model_module": "@jupyter-widgets/controls",
      "model_module_version": "1.4.0",
      "model_name": "DescriptionStyleModel",
      "state": {
       "description_width": ""
      }
     },
     "c7c075cd5c0148729a263d9e605f3161": {
      "model_module": "@jupyter-widgets/controls",
      "model_module_version": "1.4.0",
      "model_name": "DescriptionStyleModel",
      "state": {
       "description_width": ""
      }
     },
     "c817ea965ce4418081e54bfcae92eaf3": {
      "model_module": "@jupyter-widgets/controls",
      "model_module_version": "1.4.0",
      "model_name": "DescriptionStyleModel",
      "state": {
       "description_width": ""
      }
     },
     "c836220a38c5440887561dfff65a4914": {
      "model_module": "@jupyter-widgets/controls",
      "model_module_version": "1.4.0",
      "model_name": "DropdownModel",
      "state": {
       "_options_labels": [
        "--Random--",
        "Luigi Raceway",
        "Moo Moo Farm",
        "Koopa Troopa Beach",
        "Kalamari Desert",
        "Toad's Turnpike",
        "Frappe Snowland",
        "Choco Mountain",
        "Mario Raceway",
        "Wario Stadium",
        "Sherbert Land",
        "Royal Raceway",
        "Bowser's Castle",
        "DK's Jungle Parkway",
        "Yoshi Valley",
        "Banshee Boardwalk",
        "Rainbow Road"
       ],
       "description": "Course 3",
       "index": 1,
       "layout": "IPY_MODEL_a80233acb4984642a21785eb5fec2459",
       "style": "IPY_MODEL_a00bafc5a2984d4e8e1d6f7c4b8b8002"
      }
     },
     "c850d843a53743a5a783f8732adcc9d9": {
      "model_module": "@jupyter-widgets/controls",
      "model_module_version": "1.4.0",
      "model_name": "DescriptionStyleModel",
      "state": {
       "description_width": ""
      }
     },
     "c8558d3c5ccc45bd812b29e794c45762": {
      "model_module": "@jupyter-widgets/base",
      "model_module_version": "1.1.0",
      "model_name": "LayoutModel",
      "state": {}
     },
     "c870bbbb5fcc413198e9c4a2a456764b": {
      "model_module": "@jupyter-widgets/controls",
      "model_module_version": "1.4.0",
      "model_name": "DescriptionStyleModel",
      "state": {
       "description_width": ""
      }
     },
     "c8d396d633a446f2ac0bf3360d3d87cf": {
      "model_module": "@jupyter-widgets/controls",
      "model_module_version": "1.4.0",
      "model_name": "DescriptionStyleModel",
      "state": {
       "description_width": ""
      }
     },
     "c8ec268488e0425fb8c835ff41178fbc": {
      "model_module": "@jupyter-widgets/controls",
      "model_module_version": "1.4.0",
      "model_name": "ButtonModel",
      "state": {
       "description": "Remove Selected Courses",
       "layout": "IPY_MODEL_7abc91d0a9774496b89638b4833cd0b7",
       "style": "IPY_MODEL_bd09ad6e7c964b5fa40f06f62ab691f8"
      }
     },
     "c8f39cff16c94f05b2b143acd779d15b": {
      "model_module": "@jupyter-widgets/controls",
      "model_module_version": "1.4.0",
      "model_name": "DescriptionStyleModel",
      "state": {
       "description_width": ""
      }
     },
     "c8fa3fb730d64726ab71c1d8491ecd60": {
      "model_module": "@jupyter-widgets/controls",
      "model_module_version": "1.4.0",
      "model_name": "DescriptionStyleModel",
      "state": {
       "description_width": ""
      }
     },
     "c941f86ff0a94fcfa447a777f884a19b": {
      "model_module": "@jupyter-widgets/controls",
      "model_module_version": "1.4.0",
      "model_name": "DescriptionStyleModel",
      "state": {
       "description_width": ""
      }
     },
     "c95fbc6f91e945a7b18be3dd90d5a88d": {
      "model_module": "@jupyter-widgets/base",
      "model_module_version": "1.1.0",
      "model_name": "LayoutModel",
      "state": {}
     },
     "cb37227b3773434c8d2cba7ec47dd0a4": {
      "model_module": "@jupyter-widgets/base",
      "model_module_version": "1.1.0",
      "model_name": "LayoutModel",
      "state": {}
     },
     "ccc303ad00ec47819b24949ad4177cc0": {
      "model_module": "@jupyter-widgets/base",
      "model_module_version": "1.1.0",
      "model_name": "LayoutModel",
      "state": {}
     },
     "ccd433d9123542779d8032892070172f": {
      "model_module": "@jupyter-widgets/controls",
      "model_module_version": "1.4.0",
      "model_name": "CheckboxModel",
      "state": {
       "description": "Remove course?",
       "disabled": false,
       "layout": "IPY_MODEL_0553b8f451c74120b49fb470d9fc3cce",
       "style": "IPY_MODEL_44dbe24b67364ef58abc34d859369358",
       "value": false
      }
     },
     "ccf957f2072e41dc8acc4405cd5873c4": {
      "model_module": "@jupyter-widgets/controls",
      "model_module_version": "1.4.0",
      "model_name": "DescriptionStyleModel",
      "state": {
       "description_width": ""
      }
     },
     "cd3869b10a3a4b83a5bf3697cf83af2e": {
      "model_module": "@jupyter-widgets/controls",
      "model_module_version": "1.4.0",
      "model_name": "DropdownModel",
      "state": {
       "_options_labels": [
        "Mario Raceway",
        "Choco Mountain",
        "Bowser's Castle",
        "Banshee Boardwalk",
        "Yoshi Valley",
        "Frappe Snowland",
        "Koopa Troopa Beach",
        "Royal Raceway",
        "Luigi Raceway",
        "Moo Moo Farm",
        "Toad's Turnpike",
        "Kalamari Desert",
        "Sherbert Land",
        "Rainbow Road",
        "Wario Stadium",
        "Block Fort",
        "Skyscraper",
        "Double Deck",
        "DK's Jungle Parkway",
        "Big Donut"
       ],
       "description": "Course 3",
       "index": 7,
       "layout": "IPY_MODEL_56a769eaf46046fca8d658101dbf1277",
       "style": "IPY_MODEL_200546e452974641b737bf1a952b152f"
      }
     },
     "cd592ed9dbf647a4a7b6376e3a304933": {
      "model_module": "@jupyter-widgets/controls",
      "model_module_version": "1.4.0",
      "model_name": "DropdownModel",
      "state": {
       "_options_labels": [
        "Mario Raceway",
        "Choco Mountain",
        "Bowser's Castle",
        "Banshee Boardwalk",
        "Yoshi Valley",
        "Frappe Snowland",
        "Koopa Troopa Beach",
        "Royal Raceway",
        "Luigi Raceway",
        "Moo Moo Farm",
        "Toad's Turnpike",
        "Kalamari Desert",
        "Sherbert Land",
        "Rainbow Road",
        "Wario Stadium",
        "Block Fort",
        "Skyscraper",
        "Double Deck",
        "DK's Jungle Parkway",
        "Big Donut"
       ],
       "description": "Course 3",
       "index": 7,
       "layout": "IPY_MODEL_12126ff4393440a0a631a51566954fa6",
       "style": "IPY_MODEL_ff8750e940054c348f3ee9b7168e9f87"
      }
     },
     "cdd4e08804b54e3dacb5e5c6a0269849": {
      "model_module": "@jupyter-widgets/controls",
      "model_module_version": "1.4.0",
      "model_name": "DescriptionStyleModel",
      "state": {
       "description_width": ""
      }
     },
     "cdf824fe48244eda97f8678c2d641700": {
      "model_module": "@jupyter-widgets/controls",
      "model_module_version": "1.4.0",
      "model_name": "DescriptionStyleModel",
      "state": {
       "description_width": ""
      }
     },
     "ce8ed79f192b4f9792c8977906c7705f": {
      "model_module": "@jupyter-widgets/controls",
      "model_module_version": "1.4.0",
      "model_name": "DescriptionStyleModel",
      "state": {
       "description_width": ""
      }
     },
     "cea17efe0b684f6eaa53588a48cc9cd9": {
      "model_module": "@jupyter-widgets/controls",
      "model_module_version": "1.4.0",
      "model_name": "DropdownModel",
      "state": {
       "_options_labels": [
        "Mario Raceway",
        "Choco Mountain",
        "Bowser's Castle",
        "Banshee Boardwalk",
        "Yoshi Valley",
        "Frappe Snowland",
        "Koopa Troopa Beach",
        "Royal Raceway",
        "Luigi Raceway",
        "Moo Moo Farm",
        "Toad's Turnpike",
        "Kalamari Desert",
        "Sherbert Land",
        "Rainbow Road",
        "Wario Stadium",
        "Block Fort",
        "Skyscraper",
        "Double Deck",
        "DK's Jungle Parkway",
        "Big Donut"
       ],
       "description": "Course 3",
       "index": 1,
       "layout": "IPY_MODEL_65ecd8d757b841598fcf53b14bdbd098",
       "style": "IPY_MODEL_04559543a1184bc6a8692092d0b0fa8d"
      }
     },
     "cecae1f3f2524b35a76ce3ab3f152166": {
      "model_module": "@jupyter-widgets/controls",
      "model_module_version": "1.4.0",
      "model_name": "ButtonStyleModel",
      "state": {}
     },
     "ced3d08b00984cf8b614c0b5a6328ce5": {
      "model_module": "@jupyter-widgets/base",
      "model_module_version": "1.1.0",
      "model_name": "LayoutModel",
      "state": {}
     },
     "cedb198a0fb741128b0d61474800c0e6": {
      "model_module": "@jupyter-widgets/controls",
      "model_module_version": "1.4.0",
      "model_name": "DescriptionStyleModel",
      "state": {
       "description_width": ""
      }
     },
     "cee0d607646f496584b5a5bf2f495982": {
      "model_module": "@jupyter-widgets/base",
      "model_module_version": "1.1.0",
      "model_name": "LayoutModel",
      "state": {}
     },
     "cee58e6e986c4e2587a482497ab3ed0b": {
      "model_module": "@jupyter-widgets/controls",
      "model_module_version": "1.4.0",
      "model_name": "LabelModel",
      "state": {
       "layout": "IPY_MODEL_46df7f5112fe4ad48fd90cc5e7a65742",
       "style": "IPY_MODEL_848c944fcdf645f58e918f407dd09f69",
       "value": "Points for"
      }
     },
     "cef895b3301c4ca3a285d07c6e90a338": {
      "model_module": "@jupyter-widgets/base",
      "model_module_version": "1.1.0",
      "model_name": "LayoutModel",
      "state": {}
     },
     "cf17909997ed4e56a102dd2fbfcc4e83": {
      "model_module": "@jupyter-widgets/controls",
      "model_module_version": "1.4.0",
      "model_name": "CheckboxModel",
      "state": {
       "description": "Remove course?",
       "disabled": false,
       "layout": "IPY_MODEL_ae1dfceaf2e1482c9eeaf43aaad6fe67",
       "style": "IPY_MODEL_4c907edd137941e8908395f4c9d4e2c1",
       "value": true
      }
     },
     "cfa771c21be445cda7586b7b8979b190": {
      "model_module": "@jupyter-widgets/controls",
      "model_module_version": "1.4.0",
      "model_name": "DescriptionStyleModel",
      "state": {
       "description_width": ""
      }
     },
     "cfc5d0ba75994870bb2246817f1a5e70": {
      "model_module": "@jupyter-widgets/base",
      "model_module_version": "1.1.0",
      "model_name": "LayoutModel",
      "state": {}
     },
     "cff6825ab06b4ea598dc52c064e28029": {
      "model_module": "@jupyter-widgets/base",
      "model_module_version": "1.1.0",
      "model_name": "LayoutModel",
      "state": {}
     },
     "d0687b9431134751a1bd34062372f80a": {
      "model_module": "@jupyter-widgets/controls",
      "model_module_version": "1.4.0",
      "model_name": "CheckboxModel",
      "state": {
       "description": "Remove course?",
       "disabled": false,
       "layout": "IPY_MODEL_e123dfd6d59f45d1b04421a0c74649d1",
       "style": "IPY_MODEL_db19a4eb282f42f5a9366dcf936994f1",
       "value": true
      }
     },
     "d09d9731ac4048159c3404561e4d173f": {
      "model_module": "@jupyter-widgets/base",
      "model_module_version": "1.1.0",
      "model_name": "LayoutModel",
      "state": {}
     },
     "d0b4d8feb6d54eb686dcd3aea28d25c1": {
      "model_module": "@jupyter-widgets/controls",
      "model_module_version": "1.4.0",
      "model_name": "DescriptionStyleModel",
      "state": {
       "description_width": ""
      }
     },
     "d0d7cf8327f74be084694f44a53b0c87": {
      "model_module": "@jupyter-widgets/base",
      "model_module_version": "1.1.0",
      "model_name": "LayoutModel",
      "state": {}
     },
     "d0f64787152e4c2f9fb3007357ae1a70": {
      "model_module": "@jupyter-widgets/controls",
      "model_module_version": "1.4.0",
      "model_name": "DropdownModel",
      "state": {
       "_options_labels": [
        "Mario Raceway",
        "Choco Mountain",
        "Bowser's Castle",
        "Banshee Boardwalk",
        "Yoshi Valley",
        "Frappe Snowland",
        "Koopa Troopa Beach",
        "Royal Raceway",
        "Luigi Raceway",
        "Moo Moo Farm",
        "Toad's Turnpike",
        "Kalamari Desert",
        "Sherbert Land",
        "Rainbow Road",
        "Wario Stadium",
        "Block Fort",
        "Skyscraper",
        "Double Deck",
        "DK's Jungle Parkway",
        "Big Donut"
       ],
       "description": "Course 4",
       "index": 11,
       "layout": "IPY_MODEL_746b73b9581344618e3c99f0084ff0e3",
       "style": "IPY_MODEL_d277c2e95de54672b3dc4033a3d06036"
      }
     },
     "d108d2c32a5747ce98c7302e1177b8a8": {
      "model_module": "@jupyter-widgets/controls",
      "model_module_version": "1.4.0",
      "model_name": "DropdownModel",
      "state": {
       "_options_labels": [
        "Mario Raceway",
        "Choco Mountain",
        "Bowser's Castle",
        "Banshee Boardwalk",
        "Yoshi Valley",
        "Frappe Snowland",
        "Koopa Troopa Beach",
        "Royal Raceway",
        "Luigi Raceway",
        "Moo Moo Farm",
        "Toad's Turnpike",
        "Kalamari Desert",
        "Sherbert Land",
        "Rainbow Road",
        "Wario Stadium",
        "Block Fort",
        "Skyscraper",
        "Double Deck",
        "DK's Jungle Parkway",
        "Big Donut"
       ],
       "description": "Course 4",
       "index": 0,
       "layout": "IPY_MODEL_0e679da9a9ef423aa286ad3de2cf8db6",
       "style": "IPY_MODEL_56c0735915b14bebb30a73f9d9a5f2a5"
      }
     },
     "d10c5d15f2c046939d5cc87a034790e1": {
      "model_module": "@jupyter-widgets/controls",
      "model_module_version": "1.4.0",
      "model_name": "VBoxModel",
      "state": {
       "children": [
        "IPY_MODEL_b2c2374404db4326ad30ff47a174ea26",
        "IPY_MODEL_330fbf02626a4157894990fdf1faf76c",
        "IPY_MODEL_5aeabe0503854d5b884f5e0e3c12383b",
        "IPY_MODEL_0f235ed19cc643d39596618412134c69",
        "IPY_MODEL_1292cd38283c402ea094b975c7bd21a7",
        "IPY_MODEL_7b4339f5a6df4b90b68cfd2c8f5396c6",
        "IPY_MODEL_b60fb16fe7994882892f5816151a875b"
       ],
       "layout": "IPY_MODEL_5245b031f5bd457993601b043b15f1b6"
      }
     },
     "d20a4d4356aa429698d5e598dae14aca": {
      "model_module": "@jupyter-widgets/base",
      "model_module_version": "1.1.0",
      "model_name": "LayoutModel",
      "state": {}
     },
     "d24bf79e401e4ab08c600b1aa1eb5d84": {
      "model_module": "@jupyter-widgets/controls",
      "model_module_version": "1.4.0",
      "model_name": "DescriptionStyleModel",
      "state": {
       "description_width": ""
      }
     },
     "d27153bad3784da19b21b28c58bdfaa4": {
      "model_module": "@jupyter-widgets/controls",
      "model_module_version": "1.4.0",
      "model_name": "ButtonModel",
      "state": {
       "description": "Create Code",
       "layout": "IPY_MODEL_14ffbd9b6b864bf281d829f4923df8bf",
       "style": "IPY_MODEL_f65caca82ebc4264863ca320b5372fea"
      }
     },
     "d277c2e95de54672b3dc4033a3d06036": {
      "model_module": "@jupyter-widgets/controls",
      "model_module_version": "1.4.0",
      "model_name": "DescriptionStyleModel",
      "state": {
       "description_width": ""
      }
     },
     "d27cb7186883467aadbd02086957a4f9": {
      "model_module": "@jupyter-widgets/base",
      "model_module_version": "1.1.0",
      "model_name": "LayoutModel",
      "state": {}
     },
     "d297a9fecaaf464a867dbe324e92d660": {
      "model_module": "@jupyter-widgets/base",
      "model_module_version": "1.1.0",
      "model_name": "LayoutModel",
      "state": {}
     },
     "d2b7e3b410d5459eac65577e17e74609": {
      "model_module": "@jupyter-widgets/controls",
      "model_module_version": "1.4.0",
      "model_name": "DescriptionStyleModel",
      "state": {
       "description_width": ""
      }
     },
     "d2f57635ad08471686fa59cc0d6ad671": {
      "model_module": "@jupyter-widgets/controls",
      "model_module_version": "1.4.0",
      "model_name": "DropdownModel",
      "state": {
       "_options_labels": [
        "Mario Raceway",
        "Choco Mountain",
        "Bowser's Castle",
        "Banshee Boardwalk",
        "Yoshi Valley",
        "Frappe Snowland",
        "Koopa Troopa Beach",
        "Royal Raceway",
        "Luigi Raceway",
        "Moo Moo Farm",
        "Toad's Turnpike",
        "Kalamari Desert",
        "Sherbert Land",
        "Rainbow Road",
        "Wario Stadium",
        "Block Fort",
        "Skyscraper",
        "Double Deck",
        "DK's Jungle Parkway",
        "Big Donut"
       ],
       "description": "Course 4",
       "index": 2,
       "layout": "IPY_MODEL_1308e34b82304f32ba02e09f1fc3f3b9",
       "style": "IPY_MODEL_a13f31e529f24957bc8b7e4ed6fe7def"
      }
     },
     "d3065bf7e3374195b2b04dc365803f7e": {
      "model_module": "@jupyter-widgets/controls",
      "model_module_version": "1.4.0",
      "model_name": "DescriptionStyleModel",
      "state": {
       "description_width": ""
      }
     },
     "d334056f516a4f64b2707617211ea412": {
      "model_module": "@jupyter-widgets/controls",
      "model_module_version": "1.4.0",
      "model_name": "DescriptionStyleModel",
      "state": {
       "description_width": ""
      }
     },
     "d354a868251140079914b0409c21f5a0": {
      "model_module": "@jupyter-widgets/controls",
      "model_module_version": "1.4.0",
      "model_name": "DropdownModel",
      "state": {
       "_options_labels": [
        "Mario Raceway",
        "Choco Mountain",
        "Bowser's Castle",
        "Banshee Boardwalk",
        "Yoshi Valley",
        "Frappe Snowland",
        "Koopa Troopa Beach",
        "Royal Raceway",
        "Luigi Raceway",
        "Moo Moo Farm",
        "Toad's Turnpike",
        "Kalamari Desert",
        "Sherbert Land",
        "Rainbow Road",
        "Wario Stadium",
        "Block Fort",
        "Skyscraper",
        "Double Deck",
        "DK's Jungle Parkway",
        "Big Donut"
       ],
       "description": "Course 1",
       "index": 18,
       "layout": "IPY_MODEL_104dff7c61884ff8a9112328554a5298",
       "style": "IPY_MODEL_590c9e191ffb49568c1e334ed2ade42e"
      }
     },
     "d380b90a2fb346eaa70db0554b49e4aa": {
      "model_module": "@jupyter-widgets/base",
      "model_module_version": "1.1.0",
      "model_name": "LayoutModel",
      "state": {}
     },
     "d3a4ee10f77141ad9f461ba074d197a6": {
      "model_module": "@jupyter-widgets/base",
      "model_module_version": "1.1.0",
      "model_name": "LayoutModel",
      "state": {}
     },
     "d47bf842c7424abf81cb2e6ce8921b17": {
      "model_module": "@jupyter-widgets/controls",
      "model_module_version": "1.4.0",
      "model_name": "DescriptionStyleModel",
      "state": {
       "description_width": ""
      }
     },
     "d4fc1b7a5939442d9a5b187b3b4f90b1": {
      "model_module": "@jupyter-widgets/controls",
      "model_module_version": "1.4.0",
      "model_name": "DropdownModel",
      "state": {
       "_options_labels": [
        "Mario Raceway",
        "Choco Mountain",
        "Bowser's Castle",
        "Banshee Boardwalk",
        "Yoshi Valley",
        "Frappe Snowland",
        "Koopa Troopa Beach",
        "Royal Raceway",
        "Luigi Raceway",
        "Moo Moo Farm",
        "Toad's Turnpike",
        "Kalamari Desert",
        "Sherbert Land",
        "Rainbow Road",
        "Wario Stadium",
        "Block Fort",
        "Skyscraper",
        "Double Deck",
        "DK's Jungle Parkway",
        "Big Donut"
       ],
       "description": "Course 4",
       "index": 11,
       "layout": "IPY_MODEL_7d47b0051d4246b496b2d63c588b049a",
       "style": "IPY_MODEL_21c8d2c3aeca4895a0de1a75b578b96f"
      }
     },
     "d52579f94a8a4ce3a62bef82795250d9": {
      "model_module": "@jupyter-widgets/controls",
      "model_module_version": "1.4.0",
      "model_name": "CheckboxModel",
      "state": {
       "description": "Hard Mode",
       "disabled": false,
       "layout": "IPY_MODEL_d3a4ee10f77141ad9f461ba074d197a6",
       "style": "IPY_MODEL_38328f5a10394a668d7ca61ed150e009",
       "value": false
      }
     },
     "d527781781804bc9b1ee285be7d2bc27": {
      "model_module": "@jupyter-widgets/controls",
      "model_module_version": "1.4.0",
      "model_name": "DescriptionStyleModel",
      "state": {
       "description_width": ""
      }
     },
     "d598ce5b507849db88bf17ae228398ba": {
      "model_module": "@jupyter-widgets/base",
      "model_module_version": "1.1.0",
      "model_name": "LayoutModel",
      "state": {}
     },
     "d5c14f7733aa46b9b0bde030d1ad1710": {
      "model_module": "@jupyter-widgets/controls",
      "model_module_version": "1.4.0",
      "model_name": "CheckboxModel",
      "state": {
       "description": "Remove course?",
       "disabled": false,
       "layout": "IPY_MODEL_96eb08261bff44ca939c3ebe658499b3",
       "style": "IPY_MODEL_144aac36651d49378b6c929c40d575de",
       "value": false
      }
     },
     "d6158eee68e8430aa0f126b7d84904b7": {
      "model_module": "@jupyter-widgets/base",
      "model_module_version": "1.1.0",
      "model_name": "LayoutModel",
      "state": {}
     },
     "d62d4f35f1a84bdebefa46518b03021d": {
      "model_module": "@jupyter-widgets/controls",
      "model_module_version": "1.4.0",
      "model_name": "DescriptionStyleModel",
      "state": {
       "description_width": ""
      }
     },
     "d651491f5a6b4e58a72bde0b32511a36": {
      "model_module": "@jupyter-widgets/base",
      "model_module_version": "1.1.0",
      "model_name": "LayoutModel",
      "state": {}
     },
     "d680380cecfd42378291aa49fbd604e2": {
      "model_module": "@jupyter-widgets/controls",
      "model_module_version": "1.4.0",
      "model_name": "IntTextModel",
      "state": {
       "description": "1st place:",
       "layout": "IPY_MODEL_8ea429ec8171437e932fb710b947bf34",
       "step": 1,
       "style": "IPY_MODEL_39d314c4f124445b88644a78ca255de5",
       "value": 9
      }
     },
     "d6f28a6f62e34201a5a858354e45afc3": {
      "model_module": "@jupyter-widgets/base",
      "model_module_version": "1.1.0",
      "model_name": "LayoutModel",
      "state": {}
     },
     "d729bccf2e6b4c6584a83706c2e9acbb": {
      "model_module": "@jupyter-widgets/controls",
      "model_module_version": "1.4.0",
      "model_name": "DescriptionStyleModel",
      "state": {
       "description_width": ""
      }
     },
     "d75a4b194b294f158376cad59568f60d": {
      "model_module": "@jupyter-widgets/base",
      "model_module_version": "1.1.0",
      "model_name": "LayoutModel",
      "state": {}
     },
     "d78b4666d2094af7b5077c53ae51fed4": {
      "model_module": "@jupyter-widgets/base",
      "model_module_version": "1.1.0",
      "model_name": "LayoutModel",
      "state": {}
     },
     "d7bd32d149194cfbaa8bad2c56bc74b2": {
      "model_module": "@jupyter-widgets/controls",
      "model_module_version": "1.4.0",
      "model_name": "DropdownModel",
      "state": {
       "_options_labels": [
        "Mario Raceway",
        "Choco Mountain",
        "Bowser's Castle",
        "Banshee Boardwalk",
        "Yoshi Valley",
        "Frappe Snowland",
        "Koopa Troopa Beach",
        "Royal Raceway",
        "Luigi Raceway",
        "Moo Moo Farm",
        "Toad's Turnpike",
        "Kalamari Desert",
        "Sherbert Land",
        "Rainbow Road",
        "Wario Stadium",
        "Block Fort",
        "Skyscraper",
        "Double Deck",
        "DK's Jungle Parkway",
        "Big Donut"
       ],
       "description": "Course 4",
       "index": 0,
       "layout": "IPY_MODEL_b051678ac29d422b8f6ee746557e7588",
       "style": "IPY_MODEL_30f89299809c4c60af6c5e2605c2a023"
      }
     },
     "d7e14ef8102140d48a40857981959889": {
      "model_module": "@jupyter-widgets/controls",
      "model_module_version": "1.4.0",
      "model_name": "DescriptionStyleModel",
      "state": {
       "description_width": ""
      }
     },
     "d8a5754bc34c4a6494944bb0a176a122": {
      "model_module": "@jupyter-widgets/base",
      "model_module_version": "1.1.0",
      "model_name": "LayoutModel",
      "state": {}
     },
     "d922b4ad85af40c59537d84e746347a1": {
      "model_module": "@jupyter-widgets/controls",
      "model_module_version": "1.4.0",
      "model_name": "ButtonStyleModel",
      "state": {}
     },
     "d929938b27654999891bd0f9b07d9bd6": {
      "model_module": "@jupyter-widgets/base",
      "model_module_version": "1.1.0",
      "model_name": "LayoutModel",
      "state": {}
     },
     "d9321d4716f141a9845c127d0aab4f4f": {
      "model_module": "@jupyter-widgets/base",
      "model_module_version": "1.1.0",
      "model_name": "LayoutModel",
      "state": {}
     },
     "d988751a45f64c2d9837c11416007087": {
      "model_module": "@jupyter-widgets/base",
      "model_module_version": "1.1.0",
      "model_name": "LayoutModel",
      "state": {}
     },
     "d99840961dd444cd99abf9afe61102a1": {
      "model_module": "@jupyter-widgets/base",
      "model_module_version": "1.1.0",
      "model_name": "LayoutModel",
      "state": {}
     },
     "d999707c0a1b42088defd1f55f204e05": {
      "model_module": "@jupyter-widgets/controls",
      "model_module_version": "1.4.0",
      "model_name": "DropdownModel",
      "state": {
       "_options_labels": [
        "Mario Raceway",
        "Choco Mountain",
        "Bowser's Castle",
        "Banshee Boardwalk",
        "Yoshi Valley",
        "Frappe Snowland",
        "Koopa Troopa Beach",
        "Royal Raceway",
        "Luigi Raceway",
        "Moo Moo Farm",
        "Toad's Turnpike",
        "Kalamari Desert",
        "Sherbert Land",
        "Rainbow Road",
        "Wario Stadium",
        "Block Fort",
        "Skyscraper",
        "Double Deck",
        "DK's Jungle Parkway",
        "Big Donut"
       ],
       "description": "Course 4",
       "index": 13,
       "layout": "IPY_MODEL_5e1804b247714a3490737d5765f09d6b",
       "style": "IPY_MODEL_14931ba1d343433daf90491f17725c78"
      }
     },
     "da22b51ed5a746c78eb33eaadc9ef96d": {
      "model_module": "@jupyter-widgets/base",
      "model_module_version": "1.1.0",
      "model_name": "LayoutModel",
      "state": {}
     },
     "da91b06f821646309b2b3b91e9901993": {
      "model_module": "@jupyter-widgets/controls",
      "model_module_version": "1.4.0",
      "model_name": "DropdownModel",
      "state": {
       "_options_labels": [
        "Mario Raceway",
        "Choco Mountain",
        "Bowser's Castle",
        "Banshee Boardwalk",
        "Yoshi Valley",
        "Frappe Snowland",
        "Koopa Troopa Beach",
        "Royal Raceway",
        "Luigi Raceway",
        "Moo Moo Farm",
        "Toad's Turnpike",
        "Kalamari Desert",
        "Sherbert Land",
        "Rainbow Road",
        "Wario Stadium",
        "Block Fort",
        "Skyscraper",
        "Double Deck",
        "DK's Jungle Parkway",
        "Big Donut"
       ],
       "description": "Course 3",
       "index": 1,
       "layout": "IPY_MODEL_db05f2be1d10410fb80663dd1d9e6663",
       "style": "IPY_MODEL_4f179c58598e465bbce25dca9eadbfc2"
      }
     },
     "daab59b14e154ce5851690c263db9ecf": {
      "model_module": "@jupyter-widgets/controls",
      "model_module_version": "1.4.0",
      "model_name": "CheckboxModel",
      "state": {
       "description": "Truely Random Items",
       "disabled": false,
       "layout": "IPY_MODEL_72ea7f6b2f9d4cf6b7e59d970ac1fead",
       "style": "IPY_MODEL_a9cfa66bfa624a1eac5caf97133792d6",
       "value": false
      }
     },
     "daacb71712cf4595a857e6a7a003ec4d": {
      "model_module": "@jupyter-widgets/base",
      "model_module_version": "1.1.0",
      "model_name": "LayoutModel",
      "state": {}
     },
     "daf07bf5c23a48ef82e2959474f4ec7a": {
      "model_module": "@jupyter-widgets/controls",
      "model_module_version": "1.4.0",
      "model_name": "ButtonModel",
      "state": {
       "description": "Remove Selected Courses",
       "layout": "IPY_MODEL_6719698aa3684bae8784c283631cdf57",
       "style": "IPY_MODEL_7b40ba77a1db40989b0212f3089b97cf"
      }
     },
     "db05f2be1d10410fb80663dd1d9e6663": {
      "model_module": "@jupyter-widgets/base",
      "model_module_version": "1.1.0",
      "model_name": "LayoutModel",
      "state": {}
     },
     "db108e5206b54dc5b6c322d188e204cc": {
      "model_module": "@jupyter-widgets/controls",
      "model_module_version": "1.4.0",
      "model_name": "DropdownModel",
      "state": {
       "_options_labels": [
        "Mario Raceway",
        "Choco Mountain",
        "Bowser's Castle",
        "Banshee Boardwalk",
        "Yoshi Valley",
        "Frappe Snowland",
        "Koopa Troopa Beach",
        "Royal Raceway",
        "Luigi Raceway",
        "Moo Moo Farm",
        "Toad's Turnpike",
        "Kalamari Desert",
        "Sherbert Land",
        "Rainbow Road",
        "Wario Stadium",
        "Block Fort",
        "Skyscraper",
        "Double Deck",
        "DK's Jungle Parkway",
        "Big Donut"
       ],
       "description": "Course 1",
       "index": 10,
       "layout": "IPY_MODEL_609ab45d892f464da282e93bfe6f1782",
       "style": "IPY_MODEL_09a576af7c194ddd959991be8bf5a8cc"
      }
     },
     "db19a4eb282f42f5a9366dcf936994f1": {
      "model_module": "@jupyter-widgets/controls",
      "model_module_version": "1.4.0",
      "model_name": "DescriptionStyleModel",
      "state": {
       "description_width": ""
      }
     },
     "db9a96d4bad14a76905dd5af35b6d5c7": {
      "model_module": "@jupyter-widgets/base",
      "model_module_version": "1.1.0",
      "model_name": "LayoutModel",
      "state": {}
     },
     "dc01f9766b6c4771a74f4753947f755b": {
      "model_module": "@jupyter-widgets/controls",
      "model_module_version": "1.4.0",
      "model_name": "TextareaModel",
      "state": {
       "layout": "IPY_MODEL_daacb71712cf4595a857e6a7a003ec4d",
       "style": "IPY_MODEL_4570fbe8bb6d49318af012fb12579869"
      }
     },
     "dc5eb80ba9fe488d93129287722dfa7a": {
      "model_module": "@jupyter-widgets/base",
      "model_module_version": "1.1.0",
      "model_name": "LayoutModel",
      "state": {}
     },
     "dca84730a22f46faadbda182e440ee5c": {
      "model_module": "@jupyter-widgets/controls",
      "model_module_version": "1.4.0",
      "model_name": "HBoxModel",
      "state": {
       "children": [
        "IPY_MODEL_b2c8a3167b124342b5f2129ef4b0c01e",
        "IPY_MODEL_c8ec268488e0425fb8c835ff41178fbc"
       ],
       "layout": "IPY_MODEL_b374176097644639ab66abe5b590fa31"
      }
     },
     "dcb68865a5254d2ebbe5fdc9b66bf7dd": {
      "model_module": "@jupyter-widgets/controls",
      "model_module_version": "1.4.0",
      "model_name": "DescriptionStyleModel",
      "state": {
       "description_width": ""
      }
     },
     "dcbbbc2fa7944dfab4967c1ec157dfde": {
      "model_module": "@jupyter-widgets/base",
      "model_module_version": "1.1.0",
      "model_name": "LayoutModel",
      "state": {}
     },
     "dcf302a2fe464d158407ba5933b0bc35": {
      "model_module": "@jupyter-widgets/base",
      "model_module_version": "1.1.0",
      "model_name": "LayoutModel",
      "state": {}
     },
     "dd6a45d4a00e4c93a993a80710af5b06": {
      "model_module": "@jupyter-widgets/controls",
      "model_module_version": "1.4.0",
      "model_name": "DropdownModel",
      "state": {
       "_options_labels": [
        "Mario Raceway",
        "Choco Mountain",
        "Bowser's Castle",
        "Banshee Boardwalk",
        "Yoshi Valley",
        "Frappe Snowland",
        "Koopa Troopa Beach",
        "Royal Raceway",
        "Luigi Raceway",
        "Moo Moo Farm",
        "Toad's Turnpike",
        "Kalamari Desert",
        "Sherbert Land",
        "Rainbow Road",
        "Wario Stadium",
        "Block Fort",
        "Skyscraper",
        "Double Deck",
        "DK's Jungle Parkway",
        "Big Donut"
       ],
       "description": "Course 4",
       "index": 2,
       "layout": "IPY_MODEL_2566bc6b9fe1481aadfb7d9d6efaa89d",
       "style": "IPY_MODEL_4f2ca291148045c78477d31f8c62d713"
      }
     },
     "de803c6edd9541b195f10908718da2b7": {
      "model_module": "@jupyter-widgets/controls",
      "model_module_version": "1.4.0",
      "model_name": "DescriptionStyleModel",
      "state": {
       "description_width": ""
      }
     },
     "ded92eedeed4429bbf209790d6bd8ac6": {
      "model_module": "@jupyter-widgets/controls",
      "model_module_version": "1.4.0",
      "model_name": "DescriptionStyleModel",
      "state": {
       "description_width": ""
      }
     },
     "df37c5b0c23f4cb0b31d8f97d156b89f": {
      "model_module": "@jupyter-widgets/controls",
      "model_module_version": "1.4.0",
      "model_name": "DropdownModel",
      "state": {
       "_options_labels": [
        "--Random--",
        "Luigi Raceway",
        "Moo Moo Farm",
        "Koopa Troopa Beach",
        "Kalamari Desert",
        "Toad's Turnpike",
        "Frappe Snowland",
        "Choco Mountain",
        "Mario Raceway",
        "Wario Stadium",
        "Sherbert Land",
        "Royal Raceway",
        "Bowser's Castle",
        "DK's Jungle Parkway",
        "Yoshi Valley",
        "Banshee Boardwalk",
        "Rainbow Road"
       ],
       "description": "Course 1",
       "index": 0,
       "layout": "IPY_MODEL_6814e854df5c4c77b9363891620f58c4",
       "style": "IPY_MODEL_725be93efe584f96a180f50f80d8cad2"
      }
     },
     "df9505d6404b45d6bf55c2422465a653": {
      "model_module": "@jupyter-widgets/base",
      "model_module_version": "1.1.0",
      "model_name": "LayoutModel",
      "state": {}
     },
     "dfeed5429d04421f80e4b136a0053208": {
      "model_module": "@jupyter-widgets/controls",
      "model_module_version": "1.4.0",
      "model_name": "DescriptionStyleModel",
      "state": {
       "description_width": ""
      }
     },
     "dfef3c763d7b4d6fa7229794bab3e9ef": {
      "model_module": "@jupyter-widgets/controls",
      "model_module_version": "1.4.0",
      "model_name": "DropdownModel",
      "state": {
       "_options_labels": [
        "Mario Raceway",
        "Choco Mountain",
        "Bowser's Castle",
        "Banshee Boardwalk",
        "Yoshi Valley",
        "Frappe Snowland",
        "Koopa Troopa Beach",
        "Royal Raceway",
        "Luigi Raceway",
        "Moo Moo Farm",
        "Toad's Turnpike",
        "Kalamari Desert",
        "Sherbert Land",
        "Rainbow Road",
        "Wario Stadium",
        "Block Fort",
        "Skyscraper",
        "Double Deck",
        "DK's Jungle Parkway",
        "Big Donut"
       ],
       "description": "Course 1",
       "index": 6,
       "layout": "IPY_MODEL_ffcbffc2b3284831adf2664b518b88c4",
       "style": "IPY_MODEL_ae4679bae6e047dd92dd44b556a437aa"
      }
     },
     "e054a03b30d54006905d039a1b60f938": {
      "model_module": "@jupyter-widgets/controls",
      "model_module_version": "1.4.0",
      "model_name": "VBoxModel",
      "state": {
       "children": [
        "IPY_MODEL_1a100a8b6d0e4a138de4665917e0a8ed",
        "IPY_MODEL_8046ecc0eec843f2ab3933ed9e96f48f",
        "IPY_MODEL_e9dc3f965c1c4f11a3f41b8933efff34",
        "IPY_MODEL_ea02aa0d37da4ead97194c1a7d7ab7d2",
        "IPY_MODEL_af91138a557949108fc4b07e3c47b235",
        "IPY_MODEL_efe93d05f4664d34a314d9e788153d0e",
        "IPY_MODEL_ec6a6cda647042bab189d623b6b5228c"
       ],
       "layout": "IPY_MODEL_b84717556f394211b2069c5d1305d2ff"
      }
     },
     "e0c1636e6859496c8883be170f4b9c90": {
      "model_module": "@jupyter-widgets/base",
      "model_module_version": "1.1.0",
      "model_name": "LayoutModel",
      "state": {}
     },
     "e123dfd6d59f45d1b04421a0c74649d1": {
      "model_module": "@jupyter-widgets/base",
      "model_module_version": "1.1.0",
      "model_name": "LayoutModel",
      "state": {}
     },
     "e27f881d0a86433dbc39893d9a600ebd": {
      "model_module": "@jupyter-widgets/controls",
      "model_module_version": "1.4.0",
      "model_name": "DescriptionStyleModel",
      "state": {
       "description_width": ""
      }
     },
     "e37808bf2a524fa1a54c909da0469c15": {
      "model_module": "@jupyter-widgets/controls",
      "model_module_version": "1.4.0",
      "model_name": "DescriptionStyleModel",
      "state": {
       "description_width": ""
      }
     },
     "e37e8d5b5a6a48c1ae6c5eae189e3d72": {
      "model_module": "@jupyter-widgets/controls",
      "model_module_version": "1.4.0",
      "model_name": "DescriptionStyleModel",
      "state": {
       "description_width": ""
      }
     },
     "e38936f00c6e4fb081b0f730000a090c": {
      "model_module": "@jupyter-widgets/controls",
      "model_module_version": "1.4.0",
      "model_name": "DescriptionStyleModel",
      "state": {
       "description_width": ""
      }
     },
     "e42fdb1d084c4f99a8b2188edacd0ce3": {
      "model_module": "@jupyter-widgets/controls",
      "model_module_version": "1.4.0",
      "model_name": "DropdownModel",
      "state": {
       "_options_labels": [
        "Mario Raceway",
        "Choco Mountain",
        "Bowser's Castle",
        "Banshee Boardwalk",
        "Yoshi Valley",
        "Frappe Snowland",
        "Koopa Troopa Beach",
        "Royal Raceway",
        "Luigi Raceway",
        "Moo Moo Farm",
        "Toad's Turnpike",
        "Kalamari Desert",
        "Sherbert Land",
        "Rainbow Road",
        "Wario Stadium",
        "Block Fort",
        "Skyscraper",
        "Double Deck",
        "DK's Jungle Parkway",
        "Big Donut"
       ],
       "description": "Course 1",
       "index": 8,
       "layout": "IPY_MODEL_14db56d0dbf848cc914ab2b8aa57fba0",
       "style": "IPY_MODEL_c870bbbb5fcc413198e9c4a2a456764b"
      }
     },
     "e5bb273f59b2457ab08b4ba51f85a5b3": {
      "model_module": "@jupyter-widgets/base",
      "model_module_version": "1.1.0",
      "model_name": "LayoutModel",
      "state": {}
     },
     "e5df5327d46f4654bc8baef9ab6de0f3": {
      "model_module": "@jupyter-widgets/controls",
      "model_module_version": "1.4.0",
      "model_name": "DescriptionStyleModel",
      "state": {
       "description_width": ""
      }
     },
     "e5fcbf288b8b46f3bff71d91cc3c01fe": {
      "model_module": "@jupyter-widgets/controls",
      "model_module_version": "1.4.0",
      "model_name": "IntTextModel",
      "state": {
       "description": "2nd place:",
       "layout": "IPY_MODEL_d651491f5a6b4e58a72bde0b32511a36",
       "step": 1,
       "style": "IPY_MODEL_19082743d073463cb04ee245f7375ac0",
       "value": 6
      }
     },
     "e626087cbdec42e1853271bad6031c0e": {
      "model_module": "@jupyter-widgets/controls",
      "model_module_version": "1.4.0",
      "model_name": "DescriptionStyleModel",
      "state": {
       "description_width": ""
      }
     },
     "e651870b7d6a4a7584675840b2654463": {
      "model_module": "@jupyter-widgets/base",
      "model_module_version": "1.1.0",
      "model_name": "LayoutModel",
      "state": {}
     },
     "e6ff3fcdf3ce47b5b91b2843349861f9": {
      "model_module": "@jupyter-widgets/controls",
      "model_module_version": "1.4.0",
      "model_name": "IntTextModel",
      "state": {
       "description": "1st place:",
       "layout": "IPY_MODEL_84f4e6e8b6d6452f963a61c2d2cfd043",
       "step": 1,
       "style": "IPY_MODEL_ac85983cc2ad431d8358cbd9b3f91b5b",
       "value": 9
      }
     },
     "e7024b47e9dc44628918fec3c084018a": {
      "model_module": "@jupyter-widgets/base",
      "model_module_version": "1.1.0",
      "model_name": "LayoutModel",
      "state": {}
     },
     "e740dbb62fdf448999f35ef583669872": {
      "model_module": "@jupyter-widgets/controls",
      "model_module_version": "1.4.0",
      "model_name": "DescriptionStyleModel",
      "state": {
       "description_width": ""
      }
     },
     "e7459fc3873642c59be3f06085769a1b": {
      "model_module": "@jupyter-widgets/base",
      "model_module_version": "1.1.0",
      "model_name": "LayoutModel",
      "state": {}
     },
     "e748fba9f13a482597e9c328f04a30e8": {
      "model_module": "@jupyter-widgets/controls",
      "model_module_version": "1.4.0",
      "model_name": "DescriptionStyleModel",
      "state": {
       "description_width": ""
      }
     },
     "e764d2d9d0db4c829f67586d6edec3a3": {
      "model_module": "@jupyter-widgets/base",
      "model_module_version": "1.1.0",
      "model_name": "LayoutModel",
      "state": {}
     },
     "e799faa603d04c869c70b44b64a959b5": {
      "model_module": "@jupyter-widgets/controls",
      "model_module_version": "1.4.0",
      "model_name": "DropdownModel",
      "state": {
       "_options_labels": [
        "Mario Raceway",
        "Choco Mountain",
        "Bowser's Castle",
        "Banshee Boardwalk",
        "Yoshi Valley",
        "Frappe Snowland",
        "Koopa Troopa Beach",
        "Royal Raceway",
        "Luigi Raceway",
        "Moo Moo Farm",
        "Toad's Turnpike",
        "Kalamari Desert",
        "Sherbert Land",
        "Rainbow Road",
        "Wario Stadium",
        "Block Fort",
        "Skyscraper",
        "Double Deck",
        "DK's Jungle Parkway",
        "Big Donut"
       ],
       "description": "Course 4",
       "index": 0,
       "layout": "IPY_MODEL_9aeedb92c2b74efd8cd5decbe0d48e19",
       "style": "IPY_MODEL_d2b7e3b410d5459eac65577e17e74609"
      }
     },
     "e7d35354fcdd46c0bb74f1fcbe1ed62b": {
      "model_module": "@jupyter-widgets/controls",
      "model_module_version": "1.4.0",
      "model_name": "DropdownModel",
      "state": {
       "_options_labels": [
        "Mario Raceway",
        "Choco Mountain",
        "Bowser's Castle",
        "Banshee Boardwalk",
        "Yoshi Valley",
        "Frappe Snowland",
        "Koopa Troopa Beach",
        "Royal Raceway",
        "Luigi Raceway",
        "Moo Moo Farm",
        "Toad's Turnpike",
        "Kalamari Desert",
        "Sherbert Land",
        "Rainbow Road",
        "Wario Stadium",
        "Block Fort",
        "Skyscraper",
        "Double Deck",
        "DK's Jungle Parkway",
        "Big Donut"
       ],
       "description": "Course 2",
       "index": 10,
       "layout": "IPY_MODEL_f24e4982096142d4a08357513902265f",
       "style": "IPY_MODEL_ec5625919a174d64863e5004a3dc6e27"
      }
     },
     "e863d538081d4ae0a6d8d38982d7d82b": {
      "model_module": "@jupyter-widgets/base",
      "model_module_version": "1.1.0",
      "model_name": "LayoutModel",
      "state": {}
     },
     "e8e14e26a5a34f8887fb672957b0271b": {
      "model_module": "@jupyter-widgets/base",
      "model_module_version": "1.1.0",
      "model_name": "LayoutModel",
      "state": {}
     },
     "e952752847ae4983b48cd4cc73454704": {
      "model_module": "@jupyter-widgets/base",
      "model_module_version": "1.1.0",
      "model_name": "LayoutModel",
      "state": {}
     },
     "e98f860659644eb1b7d16e864825208a": {
      "model_module": "@jupyter-widgets/controls",
      "model_module_version": "1.4.0",
      "model_name": "DescriptionStyleModel",
      "state": {
       "description_width": ""
      }
     },
     "e9d882a85b024bd28a24c90b906c4741": {
      "model_module": "@jupyter-widgets/controls",
      "model_module_version": "1.4.0",
      "model_name": "DescriptionStyleModel",
      "state": {
       "description_width": ""
      }
     },
     "e9db62aad10648929c6bbdcd947827ec": {
      "model_module": "@jupyter-widgets/controls",
      "model_module_version": "1.4.0",
      "model_name": "IntTextModel",
      "state": {
       "description": "4th place:",
       "layout": "IPY_MODEL_d0d7cf8327f74be084694f44a53b0c87",
       "step": 1,
       "style": "IPY_MODEL_f06895f9538440cc9bb1662d8d3c1d0c",
       "value": 1
      }
     },
     "e9dc3f965c1c4f11a3f41b8933efff34": {
      "model_module": "@jupyter-widgets/controls",
      "model_module_version": "1.4.0",
      "model_name": "IntTextModel",
      "state": {
       "description": "2nd place:",
       "layout": "IPY_MODEL_71d68cc90b6e4c7184ca65cb0448ec0b",
       "step": 1,
       "style": "IPY_MODEL_de803c6edd9541b195f10908718da2b7",
       "value": 6
      }
     },
     "e9ff850a05c34994acde50c8f1181a6a": {
      "model_module": "@jupyter-widgets/base",
      "model_module_version": "1.1.0",
      "model_name": "LayoutModel",
      "state": {}
     },
     "ea02aa0d37da4ead97194c1a7d7ab7d2": {
      "model_module": "@jupyter-widgets/controls",
      "model_module_version": "1.4.0",
      "model_name": "IntTextModel",
      "state": {
       "description": "3rd place:",
       "layout": "IPY_MODEL_4d5543bcd9f945d9971adf7bcd454a29",
       "step": 1,
       "style": "IPY_MODEL_2ae402fa10a84b32b0af1c75aa4164cf",
       "value": 3
      }
     },
     "ea24fc85b2d6446ca3808a4230bb14bb": {
      "model_module": "@jupyter-widgets/controls",
      "model_module_version": "1.4.0",
      "model_name": "DropdownModel",
      "state": {
       "_options_labels": [
        "Mario Raceway",
        "Choco Mountain",
        "Bowser's Castle",
        "Banshee Boardwalk",
        "Yoshi Valley",
        "Frappe Snowland",
        "Koopa Troopa Beach",
        "Royal Raceway",
        "Luigi Raceway",
        "Moo Moo Farm",
        "Toad's Turnpike",
        "Kalamari Desert",
        "Sherbert Land",
        "Rainbow Road",
        "Wario Stadium",
        "Block Fort",
        "Skyscraper",
        "Double Deck",
        "DK's Jungle Parkway",
        "Big Donut"
       ],
       "description": "Course 3",
       "index": 6,
       "layout": "IPY_MODEL_8333dbc1bd2a4d07a4749961c6d0fb9f",
       "style": "IPY_MODEL_8af2b24f277d459eb7715102b277bfbd"
      }
     },
     "eaf91fbf34ad46c48f411e70ebfd1ad5": {
      "model_module": "@jupyter-widgets/controls",
      "model_module_version": "1.4.0",
      "model_name": "DescriptionStyleModel",
      "state": {
       "description_width": ""
      }
     },
     "eb7d35ea486847fd89941ff25658a191": {
      "model_module": "@jupyter-widgets/controls",
      "model_module_version": "1.4.0",
      "model_name": "DescriptionStyleModel",
      "state": {
       "description_width": ""
      }
     },
     "ec02498f264d45d6b18ca6a82a050238": {
      "model_module": "@jupyter-widgets/base",
      "model_module_version": "1.1.0",
      "model_name": "LayoutModel",
      "state": {}
     },
     "ec5625919a174d64863e5004a3dc6e27": {
      "model_module": "@jupyter-widgets/controls",
      "model_module_version": "1.4.0",
      "model_name": "DescriptionStyleModel",
      "state": {
       "description_width": ""
      }
     },
     "ec6a6cda647042bab189d623b6b5228c": {
      "model_module": "@jupyter-widgets/controls",
      "model_module_version": "1.4.0",
      "model_name": "CheckboxModel",
      "state": {
       "description": "Truely Random Items",
       "disabled": false,
       "layout": "IPY_MODEL_6d1a65ca5db34c2f87b833621ce14cea",
       "style": "IPY_MODEL_3e9983fbf91640179e29f15f71056992",
       "value": false
      }
     },
     "ec92d9bba28245f18c1be08f08240cf4": {
      "model_module": "@jupyter-widgets/base",
      "model_module_version": "1.1.0",
      "model_name": "LayoutModel",
      "state": {}
     },
     "ecb8657679e249e3b12d55e1baf41bfa": {
      "model_module": "@jupyter-widgets/base",
      "model_module_version": "1.1.0",
      "model_name": "LayoutModel",
      "state": {}
     },
     "ed7e9639fa9540619a7cae5ebb70eeee": {
      "model_module": "@jupyter-widgets/controls",
      "model_module_version": "1.4.0",
      "model_name": "DropdownModel",
      "state": {
       "_options_labels": [
        "Mario Raceway",
        "Choco Mountain",
        "Bowser's Castle",
        "Banshee Boardwalk",
        "Yoshi Valley",
        "Frappe Snowland",
        "Koopa Troopa Beach",
        "Royal Raceway",
        "Luigi Raceway",
        "Moo Moo Farm",
        "Toad's Turnpike",
        "Kalamari Desert",
        "Sherbert Land",
        "Rainbow Road",
        "Wario Stadium",
        "Block Fort",
        "Skyscraper",
        "Double Deck",
        "DK's Jungle Parkway",
        "Big Donut"
       ],
       "description": "Course 3",
       "index": 6,
       "layout": "IPY_MODEL_521c79942b2b4cbebe50f9f90a09c8a1",
       "style": "IPY_MODEL_81ae9a816a294c768b00649b5c70c396"
      }
     },
     "edd34ae51b954194840f557138658769": {
      "model_module": "@jupyter-widgets/controls",
      "model_module_version": "1.4.0",
      "model_name": "CheckboxModel",
      "state": {
       "description": "Remove course?",
       "disabled": false,
       "layout": "IPY_MODEL_7421655dc86c42faa82aa3aaff1e5e08",
       "style": "IPY_MODEL_bdccbc84c77447f39b53b9c32b3908a7",
       "value": true
      }
     },
     "edf2ae1ad4134b0aa9a30e960698b4c0": {
      "model_module": "@jupyter-widgets/controls",
      "model_module_version": "1.4.0",
      "model_name": "DescriptionStyleModel",
      "state": {
       "description_width": ""
      }
     },
     "ee347f981656496d84d08d06449163cf": {
      "model_module": "@jupyter-widgets/base",
      "model_module_version": "1.1.0",
      "model_name": "LayoutModel",
      "state": {}
     },
     "eead88f9cb7d415190bba94f579a80e6": {
      "model_module": "@jupyter-widgets/controls",
      "model_module_version": "1.4.0",
      "model_name": "DescriptionStyleModel",
      "state": {
       "description_width": ""
      }
     },
     "ef2d84ad23ec42379f518224f24915c2": {
      "model_module": "@jupyter-widgets/controls",
      "model_module_version": "1.4.0",
      "model_name": "DropdownModel",
      "state": {
       "_options_labels": [
        "Mario Raceway",
        "Choco Mountain",
        "Bowser's Castle",
        "Banshee Boardwalk",
        "Yoshi Valley",
        "Frappe Snowland",
        "Koopa Troopa Beach",
        "Royal Raceway",
        "Luigi Raceway",
        "Moo Moo Farm",
        "Toad's Turnpike",
        "Kalamari Desert",
        "Sherbert Land",
        "Rainbow Road",
        "Wario Stadium",
        "Block Fort",
        "Skyscraper",
        "Double Deck",
        "DK's Jungle Parkway",
        "Big Donut"
       ],
       "description": "Course 4",
       "index": 2,
       "layout": "IPY_MODEL_a47702725a2444ecaa25e6bf35f1c7e7",
       "style": "IPY_MODEL_c8d396d633a446f2ac0bf3360d3d87cf"
      }
     },
     "ef6fe6d2139b4e318247e61d7ba82b5b": {
      "model_module": "@jupyter-widgets/controls",
      "model_module_version": "1.4.0",
      "model_name": "ButtonModel",
      "state": {
       "description": "Add Course",
       "layout": "IPY_MODEL_281d500b81174af1941103bd6baa3cc6",
       "style": "IPY_MODEL_45816b87e4ba42c681685a05db169d3e"
      }
     },
     "efe93d05f4664d34a314d9e788153d0e": {
      "model_module": "@jupyter-widgets/controls",
      "model_module_version": "1.4.0",
      "model_name": "CheckboxModel",
      "state": {
       "description": "Hard Mode",
       "disabled": false,
       "layout": "IPY_MODEL_9ac1b830ce4a48bcae0fbfa31b057b3b",
       "style": "IPY_MODEL_3d6501ba6db5496bb418236abb3a2522",
       "value": false
      }
     },
     "f06895f9538440cc9bb1662d8d3c1d0c": {
      "model_module": "@jupyter-widgets/controls",
      "model_module_version": "1.4.0",
      "model_name": "DescriptionStyleModel",
      "state": {
       "description_width": ""
      }
     },
     "f08e702835a54957a457999a9585919e": {
      "model_module": "@jupyter-widgets/base",
      "model_module_version": "1.1.0",
      "model_name": "LayoutModel",
      "state": {}
     },
     "f0c2611215e842328ca6b0056eefe553": {
      "model_module": "@jupyter-widgets/controls",
      "model_module_version": "1.4.0",
      "model_name": "CheckboxModel",
      "state": {
       "description": "Truely Random Items",
       "disabled": false,
       "layout": "IPY_MODEL_f74e3b59cdf443b9b668622ebaec6d7f",
       "style": "IPY_MODEL_d334056f516a4f64b2707617211ea412",
       "value": false
      }
     },
     "f16f229e090a40d5807b25ed208be9ae": {
      "model_module": "@jupyter-widgets/controls",
      "model_module_version": "1.4.0",
      "model_name": "DropdownModel",
      "state": {
       "_options_labels": [
        "Mario Raceway",
        "Choco Mountain",
        "Bowser's Castle",
        "Banshee Boardwalk",
        "Yoshi Valley",
        "Frappe Snowland",
        "Koopa Troopa Beach",
        "Royal Raceway",
        "Luigi Raceway",
        "Moo Moo Farm",
        "Toad's Turnpike",
        "Kalamari Desert",
        "Sherbert Land",
        "Rainbow Road",
        "Wario Stadium",
        "Block Fort",
        "Skyscraper",
        "Double Deck",
        "DK's Jungle Parkway",
        "Big Donut"
       ],
       "description": "Course 3",
       "index": 6,
       "layout": "IPY_MODEL_10184a389930445ea190b42549d305c3",
       "style": "IPY_MODEL_1a1dc9dab3dc49fd94f6c3ab8fdc2744"
      }
     },
     "f191c325161e4d24aade1b1991bca6b6": {
      "model_module": "@jupyter-widgets/controls",
      "model_module_version": "1.4.0",
      "model_name": "DropdownModel",
      "state": {
       "_options_labels": [
        "Mario Raceway",
        "Choco Mountain",
        "Bowser's Castle",
        "Banshee Boardwalk",
        "Yoshi Valley",
        "Frappe Snowland",
        "Koopa Troopa Beach",
        "Royal Raceway",
        "Luigi Raceway",
        "Moo Moo Farm",
        "Toad's Turnpike",
        "Kalamari Desert",
        "Sherbert Land",
        "Rainbow Road",
        "Wario Stadium",
        "Block Fort",
        "Skyscraper",
        "Double Deck",
        "DK's Jungle Parkway",
        "Big Donut"
       ],
       "description": "Course 4",
       "index": 11,
       "layout": "IPY_MODEL_d297a9fecaaf464a867dbe324e92d660",
       "style": "IPY_MODEL_02b5bb4a7b284c3a94a09183f08c4f60"
      }
     },
     "f1f28b753a3047f4852748ae5e29be69": {
      "model_module": "@jupyter-widgets/controls",
      "model_module_version": "1.4.0",
      "model_name": "DescriptionStyleModel",
      "state": {
       "description_width": ""
      }
     },
     "f24e4982096142d4a08357513902265f": {
      "model_module": "@jupyter-widgets/base",
      "model_module_version": "1.1.0",
      "model_name": "LayoutModel",
      "state": {}
     },
     "f2da9c8527284885b976232ed7529019": {
      "model_module": "@jupyter-widgets/controls",
      "model_module_version": "1.4.0",
      "model_name": "DescriptionStyleModel",
      "state": {
       "description_width": ""
      }
     },
     "f2e81da7ba2c40edba694d2f6cbbc4c2": {
      "model_module": "@jupyter-widgets/base",
      "model_module_version": "1.1.0",
      "model_name": "LayoutModel",
      "state": {}
     },
     "f368decac31340c0a2f99690a6b504f0": {
      "model_module": "@jupyter-widgets/base",
      "model_module_version": "1.1.0",
      "model_name": "LayoutModel",
      "state": {}
     },
     "f43c6b0b47534ba7ad0750cf33462b5a": {
      "model_module": "@jupyter-widgets/base",
      "model_module_version": "1.1.0",
      "model_name": "LayoutModel",
      "state": {}
     },
     "f477d097243644e69daabe3ecca71c12": {
      "model_module": "@jupyter-widgets/controls",
      "model_module_version": "1.4.0",
      "model_name": "DropdownModel",
      "state": {
       "_options_labels": [
        "Mario Raceway",
        "Choco Mountain",
        "Bowser's Castle",
        "Banshee Boardwalk",
        "Yoshi Valley",
        "Frappe Snowland",
        "Koopa Troopa Beach",
        "Royal Raceway",
        "Luigi Raceway",
        "Moo Moo Farm",
        "Toad's Turnpike",
        "Kalamari Desert",
        "Sherbert Land",
        "Rainbow Road",
        "Wario Stadium",
        "Block Fort",
        "Skyscraper",
        "Double Deck",
        "DK's Jungle Parkway",
        "Big Donut"
       ],
       "description": "Course 2",
       "index": 9,
       "layout": "IPY_MODEL_9c3b33458ed249819573ff0edbd7ca9d",
       "style": "IPY_MODEL_34f4cfcffd9d492bbd05dd56322734d7"
      }
     },
     "f4a24d6cc85d4f3d95c80aa807ae6efd": {
      "model_module": "@jupyter-widgets/controls",
      "model_module_version": "1.4.0",
      "model_name": "DropdownModel",
      "state": {
       "_options_labels": [
        "Mario Raceway",
        "Choco Mountain",
        "Bowser's Castle",
        "Banshee Boardwalk",
        "Yoshi Valley",
        "Frappe Snowland",
        "Koopa Troopa Beach",
        "Royal Raceway",
        "Luigi Raceway",
        "Moo Moo Farm",
        "Toad's Turnpike",
        "Kalamari Desert",
        "Sherbert Land",
        "Rainbow Road",
        "Wario Stadium",
        "Block Fort",
        "Skyscraper",
        "Double Deck",
        "DK's Jungle Parkway",
        "Big Donut"
       ],
       "description": "Course 2",
       "index": 4,
       "layout": "IPY_MODEL_d8a5754bc34c4a6494944bb0a176a122",
       "style": "IPY_MODEL_51873d08953640eea6ea617c2cb66e57"
      }
     },
     "f5fdec9edb214f4294797add4d53ff00": {
      "model_module": "@jupyter-widgets/controls",
      "model_module_version": "1.4.0",
      "model_name": "LabelModel",
      "state": {
       "layout": "IPY_MODEL_ba9af67476de419db56ff9d913031018",
       "style": "IPY_MODEL_91cec651859a498c80e356b3a04d7812",
       "value": "Points for"
      }
     },
     "f60faf99dbc847ff8603b37e70fb55ee": {
      "model_module": "@jupyter-widgets/controls",
      "model_module_version": "1.4.0",
      "model_name": "DescriptionStyleModel",
      "state": {
       "description_width": ""
      }
     },
     "f65caca82ebc4264863ca320b5372fea": {
      "model_module": "@jupyter-widgets/controls",
      "model_module_version": "1.4.0",
      "model_name": "ButtonStyleModel",
      "state": {}
     },
     "f6e4492ecb4d434b8c120eee1988809f": {
      "model_module": "@jupyter-widgets/controls",
      "model_module_version": "1.4.0",
      "model_name": "DescriptionStyleModel",
      "state": {
       "description_width": ""
      }
     },
     "f74329dafd8d4315be6dcf93c12fb6c5": {
      "model_module": "@jupyter-widgets/base",
      "model_module_version": "1.1.0",
      "model_name": "LayoutModel",
      "state": {}
     },
     "f74e3b59cdf443b9b668622ebaec6d7f": {
      "model_module": "@jupyter-widgets/base",
      "model_module_version": "1.1.0",
      "model_name": "LayoutModel",
      "state": {}
     },
     "f763374962a9404992baee381ef15ef7": {
      "model_module": "@jupyter-widgets/base",
      "model_module_version": "1.1.0",
      "model_name": "LayoutModel",
      "state": {}
     },
     "f7761e2f01eb45ccbf2e12e8cd5f2df4": {
      "model_module": "@jupyter-widgets/controls",
      "model_module_version": "1.4.0",
      "model_name": "CheckboxModel",
      "state": {
       "description": "Remove course?",
       "disabled": false,
       "layout": "IPY_MODEL_51b0f44d42a146e4aeaff992596fe6c5",
       "style": "IPY_MODEL_e748fba9f13a482597e9c328f04a30e8",
       "value": true
      }
     },
     "f83727855e2f45b2a1c5b5650523cee2": {
      "model_module": "@jupyter-widgets/controls",
      "model_module_version": "1.4.0",
      "model_name": "DescriptionStyleModel",
      "state": {
       "description_width": ""
      }
     },
     "f88e38a04821497c8119266ca76712b5": {
      "model_module": "@jupyter-widgets/controls",
      "model_module_version": "1.4.0",
      "model_name": "DescriptionStyleModel",
      "state": {
       "description_width": ""
      }
     },
     "fa1d52c11cf0421e9e86fb9fa77cbcf5": {
      "model_module": "@jupyter-widgets/controls",
      "model_module_version": "1.4.0",
      "model_name": "HBoxModel",
      "state": {
       "children": [
        "IPY_MODEL_79c85fd4220945be80a0193e0ceea7bf",
        "IPY_MODEL_57b7c1d8912b4465abf75c6b30911b98"
       ],
       "layout": "IPY_MODEL_bbf30b674a3b473a9d21063f29bd1b3b"
      }
     },
     "fa214bb491a04da8a73b49f264d6986e": {
      "model_module": "@jupyter-widgets/base",
      "model_module_version": "1.1.0",
      "model_name": "LayoutModel",
      "state": {}
     },
     "fa3baf76e95d4f45aef1a536113a4d42": {
      "model_module": "@jupyter-widgets/controls",
      "model_module_version": "1.4.0",
      "model_name": "DescriptionStyleModel",
      "state": {
       "description_width": ""
      }
     },
     "fad21142875543b28761e09054cba109": {
      "model_module": "@jupyter-widgets/controls",
      "model_module_version": "1.4.0",
      "model_name": "DescriptionStyleModel",
      "state": {
       "description_width": ""
      }
     },
     "fb4155551e3f46b991ba15c88c31d4eb": {
      "model_module": "@jupyter-widgets/controls",
      "model_module_version": "1.4.0",
      "model_name": "ButtonModel",
      "state": {
       "description": "Create Code",
       "layout": "IPY_MODEL_0e79752483ee4c8984e88661fa42cee5",
       "style": "IPY_MODEL_1fa3924e310d4076a1df2ea37377d56d"
      }
     },
     "fb4ad14f5ac84267aaf5ef45c475e51b": {
      "model_module": "@jupyter-widgets/controls",
      "model_module_version": "1.4.0",
      "model_name": "DescriptionStyleModel",
      "state": {
       "description_width": ""
      }
     },
     "fb55739b9c1c453eb6f364e02e106b43": {
      "model_module": "@jupyter-widgets/base",
      "model_module_version": "1.1.0",
      "model_name": "LayoutModel",
      "state": {}
     },
     "fc1619bd4c7644eebb3d5049dfebd654": {
      "model_module": "@jupyter-widgets/base",
      "model_module_version": "1.1.0",
      "model_name": "LayoutModel",
      "state": {}
     },
     "fc5053ca08134c739ab204929f61de6b": {
      "model_module": "@jupyter-widgets/base",
      "model_module_version": "1.1.0",
      "model_name": "LayoutModel",
      "state": {}
     },
     "fc52a0ddc6e349fba1e33590411fb070": {
      "model_module": "@jupyter-widgets/controls",
      "model_module_version": "1.4.0",
      "model_name": "DropdownModel",
      "state": {
       "_options_labels": [
        "Default/Previous",
        "50 CC",
        "100 CC",
        "150 CC",
        "Extra"
       ],
       "description": "CC option:",
       "index": 0,
       "layout": "IPY_MODEL_a1a56021e85c455098916295451ccc87",
       "style": "IPY_MODEL_74719b61a1b04bcf8fad3e15b7d59afc"
      }
     },
     "fc93063e81184b88aeb9782256d29935": {
      "model_module": "@jupyter-widgets/controls",
      "model_module_version": "1.4.0",
      "model_name": "DescriptionStyleModel",
      "state": {
       "description_width": ""
      }
     },
     "fd019552c7d248ccb9b5c4a38d67a3e9": {
      "model_module": "@jupyter-widgets/controls",
      "model_module_version": "1.4.0",
      "model_name": "DescriptionStyleModel",
      "state": {
       "description_width": ""
      }
     },
     "fd51e6bb628941a08ebc133be8e132a5": {
      "model_module": "@jupyter-widgets/controls",
      "model_module_version": "1.4.0",
      "model_name": "DescriptionStyleModel",
      "state": {
       "description_width": ""
      }
     },
     "fd66e0632d6b43a09c497c6f5a333213": {
      "model_module": "@jupyter-widgets/base",
      "model_module_version": "1.1.0",
      "model_name": "LayoutModel",
      "state": {}
     },
     "ff8750e940054c348f3ee9b7168e9f87": {
      "model_module": "@jupyter-widgets/controls",
      "model_module_version": "1.4.0",
      "model_name": "DescriptionStyleModel",
      "state": {
       "description_width": ""
      }
     },
     "ff8fdd2ba12548c5b3c1c4eda9195474": {
      "model_module": "@jupyter-widgets/controls",
      "model_module_version": "1.4.0",
      "model_name": "IntTextModel",
      "state": {
       "description": "1st place:",
       "layout": "IPY_MODEL_87f574f7e0d543ed9f3e34e68d07f67c",
       "step": 1,
       "style": "IPY_MODEL_6d9c839bdac7488183d5b8aa388fef62",
       "value": 9
      }
     },
     "ff9fbfd4cc334e0d9115360640a949c5": {
      "model_module": "@jupyter-widgets/controls",
      "model_module_version": "1.4.0",
      "model_name": "LabelModel",
      "state": {
       "layout": "IPY_MODEL_5542b9be08d94ec8a3ef42497605cffa",
       "style": "IPY_MODEL_35b5945a37b64cc08508bf61e33bf2d7",
       "value": "Points for"
      }
     },
     "ffcbffc2b3284831adf2664b518b88c4": {
      "model_module": "@jupyter-widgets/base",
      "model_module_version": "1.1.0",
      "model_name": "LayoutModel",
      "state": {}
     },
     "fff4699d50914730b998aa016eca6dc4": {
      "model_module": "@jupyter-widgets/controls",
      "model_module_version": "1.4.0",
      "model_name": "ButtonStyleModel",
      "state": {}
     }
    },
    "version_major": 2,
    "version_minor": 0
   }
  }
 },
 "nbformat": 4,
 "nbformat_minor": 2
}
